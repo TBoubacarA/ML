{
 "cells": [
  {
   "cell_type": "markdown",
   "metadata": {
    "id": "fitv0OOcAwUV"
   },
   "source": [
    "# TP: Machine Learning (SIA_3611)\n",
    "\n",
    "## TP1: Linear Regression (4h)\n",
    "\n",
    "by Clément Bouvier\n",
    "\n",
    "Linear regression is a family of machine learning algorithms aiming at adjusting a linear model to an ensemble of data. The applications range from signal reconstruction to empirical description.\n",
    "\n",
    "The given dataset was produced by the World Health Organization. It pooled the evolution of 20 features for 15 years and among numerous countries. One of the goals of this TP1 is to manipulate this dataset and try to predict the evolution of Life Expectancy through different variables.\n",
    "\n",
    "**Objectives:**\n",
    "- Use and setup an iPython environment\n",
    "- Manipulate and visualize data\n",
    "- Implement a simple linear regression\n",
    "- Apply the aforementioned linear regression\n",
    "- Compute a $R^2$ on the generated results\n",
    "- Apply Ridge and Lasso regressions\n"
   ]
  },
  {
   "cell_type": "markdown",
   "metadata": {
    "id": "zByLC3qEH6Tz"
   },
   "source": [
    "## STEP 1: Use and setup an iPython environment"
   ]
  },
  {
   "cell_type": "markdown",
   "metadata": {
    "id": "JFtU-3tJK23k"
   },
   "source": [
    "iPython and Notebook environments are useful tools to quickly prototype and test machine learning solutions. However, they have limitations especially in RAM and disk access."
   ]
  },
  {
   "cell_type": "markdown",
   "metadata": {
    "id": "Ko9W3iTnIISS"
   },
   "source": [
    "**TO DO 1.1**\n",
    "\n",
    "Execute the following cells"
   ]
  },
  {
   "cell_type": "code",
   "execution_count": 1,
   "metadata": {
    "id": "H8SLi4uEBG3K"
   },
   "outputs": [],
   "source": [
    "a = 3\n",
    "b = 4\n",
    "c = a + b"
   ]
  },
  {
   "cell_type": "code",
   "execution_count": 2,
   "metadata": {
    "id": "8hM_aMdCIvZK"
   },
   "outputs": [],
   "source": [
    "c = c"
   ]
  },
  {
   "cell_type": "code",
   "execution_count": 3,
   "metadata": {
    "colab": {
     "base_uri": "https://localhost:8080/"
    },
    "id": "YqOVDV_7ISXN",
    "outputId": "e53ebe55-c5eb-44e7-86b7-af42f1c5c74e"
   },
   "outputs": [
    {
     "name": "stdout",
     "output_type": "stream",
     "text": [
      "7\n"
     ]
    }
   ],
   "source": [
    "print(c)"
   ]
  },
  {
   "cell_type": "code",
   "execution_count": 4,
   "metadata": {
    "colab": {
     "base_uri": "https://localhost:8080/"
    },
    "id": "bSy3G2LbFH5q",
    "outputId": "4e8be681-063b-4c6e-f190-88c9d96d09f5"
   },
   "outputs": [
    {
     "data": {
      "text/plain": [
       "7"
      ]
     },
     "execution_count": 4,
     "metadata": {},
     "output_type": "execute_result"
    }
   ],
   "source": [
    "c"
   ]
  },
  {
   "cell_type": "markdown",
   "metadata": {
    "id": "7ToVYPUPI0ib"
   },
   "source": [
    "**QUESTION 1**\n",
    "\n",
    "What is triggering the output display?"
   ]
  },
  {
   "cell_type": "markdown",
   "metadata": {
    "id": "04BeCMcuKDpj"
   },
   "source": [
    "**TO DO 1.2**\n",
    "\n",
    "Execute the following cells"
   ]
  },
  {
   "cell_type": "code",
   "execution_count": 5,
   "metadata": {
    "id": "jwKMM5ofJZL3"
   },
   "outputs": [],
   "source": [
    "import shutil\n",
    "import pkgutil\n",
    "\n",
    "def show_acceptable_modules():\n",
    "    line = '-' * 100\n",
    "    print('{}\\n{:^30}|{:^20}\\n{}'.format(line, 'Module', 'Location', line))\n",
    "    for entry in pkgutil.iter_modules():\n",
    "        print('{:30}| {}'.format(entry[1], entry[0].path))"
   ]
  },
  {
   "cell_type": "code",
   "execution_count": 6,
   "metadata": {
    "colab": {
     "base_uri": "https://localhost:8080/"
    },
    "id": "D0hybzmjKI0P",
    "outputId": "96736d6d-b241-4268-9175-8a5235b0f729"
   },
   "outputs": [
    {
     "name": "stdout",
     "output_type": "stream",
     "text": [
      "----------------------------------------------------------------------------------------------------\n",
      "            Module            |      Location      \n",
      "----------------------------------------------------------------------------------------------------\n",
      "_asyncio                      | C:\\Users\\hp\\anaconda3\\DLLs\n",
      "_bz2                          | C:\\Users\\hp\\anaconda3\\DLLs\n",
      "_ctypes                       | C:\\Users\\hp\\anaconda3\\DLLs\n",
      "_ctypes_test                  | C:\\Users\\hp\\anaconda3\\DLLs\n",
      "_decimal                      | C:\\Users\\hp\\anaconda3\\DLLs\n",
      "_elementtree                  | C:\\Users\\hp\\anaconda3\\DLLs\n",
      "_hashlib                      | C:\\Users\\hp\\anaconda3\\DLLs\n",
      "_lzma                         | C:\\Users\\hp\\anaconda3\\DLLs\n",
      "_msi                          | C:\\Users\\hp\\anaconda3\\DLLs\n",
      "_multiprocessing              | C:\\Users\\hp\\anaconda3\\DLLs\n",
      "_overlapped                   | C:\\Users\\hp\\anaconda3\\DLLs\n",
      "_queue                        | C:\\Users\\hp\\anaconda3\\DLLs\n",
      "_socket                       | C:\\Users\\hp\\anaconda3\\DLLs\n",
      "_sqlite3                      | C:\\Users\\hp\\anaconda3\\DLLs\n",
      "_ssl                          | C:\\Users\\hp\\anaconda3\\DLLs\n",
      "_testbuffer                   | C:\\Users\\hp\\anaconda3\\DLLs\n",
      "_testcapi                     | C:\\Users\\hp\\anaconda3\\DLLs\n",
      "_testconsole                  | C:\\Users\\hp\\anaconda3\\DLLs\n",
      "_testimportmultiple           | C:\\Users\\hp\\anaconda3\\DLLs\n",
      "_testinternalcapi             | C:\\Users\\hp\\anaconda3\\DLLs\n",
      "_testmultiphase               | C:\\Users\\hp\\anaconda3\\DLLs\n",
      "_tkinter                      | C:\\Users\\hp\\anaconda3\\DLLs\n",
      "_uuid                         | C:\\Users\\hp\\anaconda3\\DLLs\n",
      "_zoneinfo                     | C:\\Users\\hp\\anaconda3\\DLLs\n",
      "pyexpat                       | C:\\Users\\hp\\anaconda3\\DLLs\n",
      "select                        | C:\\Users\\hp\\anaconda3\\DLLs\n",
      "unicodedata                   | C:\\Users\\hp\\anaconda3\\DLLs\n",
      "winsound                      | C:\\Users\\hp\\anaconda3\\DLLs\n",
      "__future__                    | C:\\Users\\hp\\anaconda3\\lib\n",
      "_aix_support                  | C:\\Users\\hp\\anaconda3\\lib\n",
      "_bootlocale                   | C:\\Users\\hp\\anaconda3\\lib\n",
      "_bootsubprocess               | C:\\Users\\hp\\anaconda3\\lib\n",
      "_collections_abc              | C:\\Users\\hp\\anaconda3\\lib\n",
      "_compat_pickle                | C:\\Users\\hp\\anaconda3\\lib\n",
      "_compression                  | C:\\Users\\hp\\anaconda3\\lib\n",
      "_markupbase                   | C:\\Users\\hp\\anaconda3\\lib\n",
      "_nsis                         | C:\\Users\\hp\\anaconda3\\lib\n",
      "_osx_support                  | C:\\Users\\hp\\anaconda3\\lib\n",
      "_py_abc                       | C:\\Users\\hp\\anaconda3\\lib\n",
      "_pydecimal                    | C:\\Users\\hp\\anaconda3\\lib\n",
      "_pyio                         | C:\\Users\\hp\\anaconda3\\lib\n",
      "_sitebuiltins                 | C:\\Users\\hp\\anaconda3\\lib\n",
      "_strptime                     | C:\\Users\\hp\\anaconda3\\lib\n",
      "_system_path                  | C:\\Users\\hp\\anaconda3\\lib\n",
      "_threading_local              | C:\\Users\\hp\\anaconda3\\lib\n",
      "_weakrefset                   | C:\\Users\\hp\\anaconda3\\lib\n",
      "abc                           | C:\\Users\\hp\\anaconda3\\lib\n",
      "aifc                          | C:\\Users\\hp\\anaconda3\\lib\n",
      "antigravity                   | C:\\Users\\hp\\anaconda3\\lib\n",
      "argparse                      | C:\\Users\\hp\\anaconda3\\lib\n",
      "ast                           | C:\\Users\\hp\\anaconda3\\lib\n",
      "asynchat                      | C:\\Users\\hp\\anaconda3\\lib\n",
      "asyncio                       | C:\\Users\\hp\\anaconda3\\lib\n",
      "asyncore                      | C:\\Users\\hp\\anaconda3\\lib\n",
      "base64                        | C:\\Users\\hp\\anaconda3\\lib\n",
      "bdb                           | C:\\Users\\hp\\anaconda3\\lib\n",
      "binhex                        | C:\\Users\\hp\\anaconda3\\lib\n",
      "bisect                        | C:\\Users\\hp\\anaconda3\\lib\n",
      "bz2                           | C:\\Users\\hp\\anaconda3\\lib\n",
      "cProfile                      | C:\\Users\\hp\\anaconda3\\lib\n",
      "calendar                      | C:\\Users\\hp\\anaconda3\\lib\n",
      "cgi                           | C:\\Users\\hp\\anaconda3\\lib\n",
      "cgitb                         | C:\\Users\\hp\\anaconda3\\lib\n",
      "chunk                         | C:\\Users\\hp\\anaconda3\\lib\n",
      "cmd                           | C:\\Users\\hp\\anaconda3\\lib\n",
      "code                          | C:\\Users\\hp\\anaconda3\\lib\n",
      "codecs                        | C:\\Users\\hp\\anaconda3\\lib\n",
      "codeop                        | C:\\Users\\hp\\anaconda3\\lib\n",
      "collections                   | C:\\Users\\hp\\anaconda3\\lib\n",
      "colorsys                      | C:\\Users\\hp\\anaconda3\\lib\n",
      "compileall                    | C:\\Users\\hp\\anaconda3\\lib\n",
      "concurrent                    | C:\\Users\\hp\\anaconda3\\lib\n",
      "configparser                  | C:\\Users\\hp\\anaconda3\\lib\n",
      "contextlib                    | C:\\Users\\hp\\anaconda3\\lib\n",
      "contextvars                   | C:\\Users\\hp\\anaconda3\\lib\n",
      "copy                          | C:\\Users\\hp\\anaconda3\\lib\n",
      "copyreg                       | C:\\Users\\hp\\anaconda3\\lib\n",
      "crypt                         | C:\\Users\\hp\\anaconda3\\lib\n",
      "csv                           | C:\\Users\\hp\\anaconda3\\lib\n",
      "ctypes                        | C:\\Users\\hp\\anaconda3\\lib\n",
      "curses                        | C:\\Users\\hp\\anaconda3\\lib\n",
      "dataclasses                   | C:\\Users\\hp\\anaconda3\\lib\n",
      "datetime                      | C:\\Users\\hp\\anaconda3\\lib\n",
      "dbm                           | C:\\Users\\hp\\anaconda3\\lib\n",
      "decimal                       | C:\\Users\\hp\\anaconda3\\lib\n",
      "difflib                       | C:\\Users\\hp\\anaconda3\\lib\n",
      "dis                           | C:\\Users\\hp\\anaconda3\\lib\n",
      "distutils                     | C:\\Users\\hp\\anaconda3\\lib\n",
      "doctest                       | C:\\Users\\hp\\anaconda3\\lib\n",
      "email                         | C:\\Users\\hp\\anaconda3\\lib\n",
      "encodings                     | C:\\Users\\hp\\anaconda3\\lib\n",
      "ensurepip                     | C:\\Users\\hp\\anaconda3\\lib\n",
      "enum                          | C:\\Users\\hp\\anaconda3\\lib\n",
      "filecmp                       | C:\\Users\\hp\\anaconda3\\lib\n",
      "fileinput                     | C:\\Users\\hp\\anaconda3\\lib\n",
      "fnmatch                       | C:\\Users\\hp\\anaconda3\\lib\n",
      "formatter                     | C:\\Users\\hp\\anaconda3\\lib\n",
      "fractions                     | C:\\Users\\hp\\anaconda3\\lib\n",
      "ftplib                        | C:\\Users\\hp\\anaconda3\\lib\n",
      "functools                     | C:\\Users\\hp\\anaconda3\\lib\n",
      "genericpath                   | C:\\Users\\hp\\anaconda3\\lib\n",
      "getopt                        | C:\\Users\\hp\\anaconda3\\lib\n",
      "getpass                       | C:\\Users\\hp\\anaconda3\\lib\n",
      "gettext                       | C:\\Users\\hp\\anaconda3\\lib\n",
      "glob                          | C:\\Users\\hp\\anaconda3\\lib\n",
      "graphlib                      | C:\\Users\\hp\\anaconda3\\lib\n",
      "gzip                          | C:\\Users\\hp\\anaconda3\\lib\n",
      "hashlib                       | C:\\Users\\hp\\anaconda3\\lib\n",
      "heapq                         | C:\\Users\\hp\\anaconda3\\lib\n",
      "hmac                          | C:\\Users\\hp\\anaconda3\\lib\n",
      "html                          | C:\\Users\\hp\\anaconda3\\lib\n",
      "http                          | C:\\Users\\hp\\anaconda3\\lib\n",
      "idlelib                       | C:\\Users\\hp\\anaconda3\\lib\n",
      "imaplib                       | C:\\Users\\hp\\anaconda3\\lib\n",
      "imghdr                        | C:\\Users\\hp\\anaconda3\\lib\n",
      "imp                           | C:\\Users\\hp\\anaconda3\\lib\n",
      "importlib                     | C:\\Users\\hp\\anaconda3\\lib\n",
      "inspect                       | C:\\Users\\hp\\anaconda3\\lib\n",
      "io                            | C:\\Users\\hp\\anaconda3\\lib\n",
      "ipaddress                     | C:\\Users\\hp\\anaconda3\\lib\n",
      "json                          | C:\\Users\\hp\\anaconda3\\lib\n",
      "keyword                       | C:\\Users\\hp\\anaconda3\\lib\n",
      "lib2to3                       | C:\\Users\\hp\\anaconda3\\lib\n",
      "linecache                     | C:\\Users\\hp\\anaconda3\\lib\n",
      "locale                        | C:\\Users\\hp\\anaconda3\\lib\n",
      "logging                       | C:\\Users\\hp\\anaconda3\\lib\n",
      "lzma                          | C:\\Users\\hp\\anaconda3\\lib\n",
      "mailbox                       | C:\\Users\\hp\\anaconda3\\lib\n",
      "mailcap                       | C:\\Users\\hp\\anaconda3\\lib\n",
      "mimetypes                     | C:\\Users\\hp\\anaconda3\\lib\n",
      "modulefinder                  | C:\\Users\\hp\\anaconda3\\lib\n",
      "msilib                        | C:\\Users\\hp\\anaconda3\\lib\n",
      "multiprocessing               | C:\\Users\\hp\\anaconda3\\lib\n",
      "netrc                         | C:\\Users\\hp\\anaconda3\\lib\n",
      "nntplib                       | C:\\Users\\hp\\anaconda3\\lib\n",
      "ntpath                        | C:\\Users\\hp\\anaconda3\\lib\n",
      "nturl2path                    | C:\\Users\\hp\\anaconda3\\lib\n",
      "numbers                       | C:\\Users\\hp\\anaconda3\\lib\n",
      "opcode                        | C:\\Users\\hp\\anaconda3\\lib\n",
      "operator                      | C:\\Users\\hp\\anaconda3\\lib\n",
      "optparse                      | C:\\Users\\hp\\anaconda3\\lib\n",
      "os                            | C:\\Users\\hp\\anaconda3\\lib\n",
      "pathlib                       | C:\\Users\\hp\\anaconda3\\lib\n",
      "pdb                           | C:\\Users\\hp\\anaconda3\\lib\n",
      "pickle                        | C:\\Users\\hp\\anaconda3\\lib\n",
      "pickletools                   | C:\\Users\\hp\\anaconda3\\lib\n",
      "pipes                         | C:\\Users\\hp\\anaconda3\\lib\n",
      "pkgutil                       | C:\\Users\\hp\\anaconda3\\lib\n",
      "platform                      | C:\\Users\\hp\\anaconda3\\lib\n",
      "plistlib                      | C:\\Users\\hp\\anaconda3\\lib\n",
      "poplib                        | C:\\Users\\hp\\anaconda3\\lib\n",
      "posixpath                     | C:\\Users\\hp\\anaconda3\\lib\n",
      "pprint                        | C:\\Users\\hp\\anaconda3\\lib\n",
      "profile                       | C:\\Users\\hp\\anaconda3\\lib\n",
      "pstats                        | C:\\Users\\hp\\anaconda3\\lib\n",
      "pty                           | C:\\Users\\hp\\anaconda3\\lib\n",
      "py_compile                    | C:\\Users\\hp\\anaconda3\\lib\n",
      "pyclbr                        | C:\\Users\\hp\\anaconda3\\lib\n",
      "pydoc                         | C:\\Users\\hp\\anaconda3\\lib\n",
      "pydoc_data                    | C:\\Users\\hp\\anaconda3\\lib\n",
      "queue                         | C:\\Users\\hp\\anaconda3\\lib\n",
      "quopri                        | C:\\Users\\hp\\anaconda3\\lib\n",
      "random                        | C:\\Users\\hp\\anaconda3\\lib\n",
      "re                            | C:\\Users\\hp\\anaconda3\\lib\n",
      "reprlib                       | C:\\Users\\hp\\anaconda3\\lib\n",
      "rlcompleter                   | C:\\Users\\hp\\anaconda3\\lib\n",
      "runpy                         | C:\\Users\\hp\\anaconda3\\lib\n",
      "sched                         | C:\\Users\\hp\\anaconda3\\lib\n",
      "secrets                       | C:\\Users\\hp\\anaconda3\\lib\n",
      "selectors                     | C:\\Users\\hp\\anaconda3\\lib\n",
      "shelve                        | C:\\Users\\hp\\anaconda3\\lib\n",
      "shlex                         | C:\\Users\\hp\\anaconda3\\lib\n",
      "shutil                        | C:\\Users\\hp\\anaconda3\\lib\n",
      "signal                        | C:\\Users\\hp\\anaconda3\\lib\n",
      "site                          | C:\\Users\\hp\\anaconda3\\lib\n",
      "smtpd                         | C:\\Users\\hp\\anaconda3\\lib\n",
      "smtplib                       | C:\\Users\\hp\\anaconda3\\lib\n",
      "sndhdr                        | C:\\Users\\hp\\anaconda3\\lib\n",
      "socket                        | C:\\Users\\hp\\anaconda3\\lib\n",
      "socketserver                  | C:\\Users\\hp\\anaconda3\\lib\n",
      "sqlite3                       | C:\\Users\\hp\\anaconda3\\lib\n",
      "sre_compile                   | C:\\Users\\hp\\anaconda3\\lib\n",
      "sre_constants                 | C:\\Users\\hp\\anaconda3\\lib\n",
      "sre_parse                     | C:\\Users\\hp\\anaconda3\\lib\n",
      "ssl                           | C:\\Users\\hp\\anaconda3\\lib\n",
      "stat                          | C:\\Users\\hp\\anaconda3\\lib\n",
      "statistics                    | C:\\Users\\hp\\anaconda3\\lib\n",
      "string                        | C:\\Users\\hp\\anaconda3\\lib\n",
      "stringprep                    | C:\\Users\\hp\\anaconda3\\lib\n",
      "struct                        | C:\\Users\\hp\\anaconda3\\lib\n",
      "subprocess                    | C:\\Users\\hp\\anaconda3\\lib\n",
      "sunau                         | C:\\Users\\hp\\anaconda3\\lib\n",
      "symbol                        | C:\\Users\\hp\\anaconda3\\lib\n",
      "symtable                      | C:\\Users\\hp\\anaconda3\\lib\n",
      "sysconfig                     | C:\\Users\\hp\\anaconda3\\lib\n",
      "tabnanny                      | C:\\Users\\hp\\anaconda3\\lib\n",
      "tarfile                       | C:\\Users\\hp\\anaconda3\\lib\n",
      "telnetlib                     | C:\\Users\\hp\\anaconda3\\lib\n",
      "tempfile                      | C:\\Users\\hp\\anaconda3\\lib\n",
      "test                          | C:\\Users\\hp\\anaconda3\\lib\n",
      "textwrap                      | C:\\Users\\hp\\anaconda3\\lib\n",
      "this                          | C:\\Users\\hp\\anaconda3\\lib\n",
      "threading                     | C:\\Users\\hp\\anaconda3\\lib\n",
      "timeit                        | C:\\Users\\hp\\anaconda3\\lib\n",
      "tkinter                       | C:\\Users\\hp\\anaconda3\\lib\n",
      "token                         | C:\\Users\\hp\\anaconda3\\lib\n",
      "tokenize                      | C:\\Users\\hp\\anaconda3\\lib\n",
      "trace                         | C:\\Users\\hp\\anaconda3\\lib\n",
      "traceback                     | C:\\Users\\hp\\anaconda3\\lib\n",
      "tracemalloc                   | C:\\Users\\hp\\anaconda3\\lib\n",
      "tty                           | C:\\Users\\hp\\anaconda3\\lib\n",
      "turtle                        | C:\\Users\\hp\\anaconda3\\lib\n",
      "turtledemo                    | C:\\Users\\hp\\anaconda3\\lib\n",
      "types                         | C:\\Users\\hp\\anaconda3\\lib\n",
      "typing                        | C:\\Users\\hp\\anaconda3\\lib\n",
      "unittest                      | C:\\Users\\hp\\anaconda3\\lib\n",
      "urllib                        | C:\\Users\\hp\\anaconda3\\lib\n",
      "uu                            | C:\\Users\\hp\\anaconda3\\lib\n",
      "uuid                          | C:\\Users\\hp\\anaconda3\\lib\n",
      "venv                          | C:\\Users\\hp\\anaconda3\\lib\n",
      "warnings                      | C:\\Users\\hp\\anaconda3\\lib\n",
      "wave                          | C:\\Users\\hp\\anaconda3\\lib\n",
      "weakref                       | C:\\Users\\hp\\anaconda3\\lib\n",
      "webbrowser                    | C:\\Users\\hp\\anaconda3\\lib\n",
      "wsgiref                       | C:\\Users\\hp\\anaconda3\\lib\n",
      "xdrlib                        | C:\\Users\\hp\\anaconda3\\lib\n",
      "xml                           | C:\\Users\\hp\\anaconda3\\lib\n",
      "xmlrpc                        | C:\\Users\\hp\\anaconda3\\lib\n",
      "zipapp                        | C:\\Users\\hp\\anaconda3\\lib\n",
      "zipfile                       | C:\\Users\\hp\\anaconda3\\lib\n",
      "zipimport                     | C:\\Users\\hp\\anaconda3\\lib\n",
      "zoneinfo                      | C:\\Users\\hp\\anaconda3\\lib\n",
      "cwp                           | C:\\Users\\hp\\anaconda3\n",
      "Cython                        | C:\\Users\\hp\\anaconda3\\lib\\site-packages\n",
      "IPython                       | C:\\Users\\hp\\anaconda3\\lib\\site-packages\n",
      "OpenSSL                       | C:\\Users\\hp\\anaconda3\\lib\\site-packages\n",
      "PIL                           | C:\\Users\\hp\\anaconda3\\lib\\site-packages\n",
      "PyQt5                         | C:\\Users\\hp\\anaconda3\\lib\\site-packages\n",
      "TBB                           | C:\\Users\\hp\\anaconda3\\lib\\site-packages\n",
      "_black_version                | C:\\Users\\hp\\anaconda3\\lib\\site-packages\n",
      "_cffi_backend                 | C:\\Users\\hp\\anaconda3\\lib\\site-packages\n",
      "_daal4py                      | C:\\Users\\hp\\anaconda3\\lib\\site-packages\n",
      "_distutils_hack               | C:\\Users\\hp\\anaconda3\\lib\\site-packages\n",
      "_onedal4py_host               | C:\\Users\\hp\\anaconda3\\lib\\site-packages\n",
      "_pyrsistent_version           | C:\\Users\\hp\\anaconda3\\lib\\site-packages\n",
      "_pytest                       | C:\\Users\\hp\\anaconda3\\lib\\site-packages\n",
      "_yaml                         | C:\\Users\\hp\\anaconda3\\lib\\site-packages\n",
      "adodbapi                      | C:\\Users\\hp\\anaconda3\\lib\\site-packages\n",
      "alabaster                     | C:\\Users\\hp\\anaconda3\\lib\\site-packages\n",
      "anaconda_navigator            | C:\\Users\\hp\\anaconda3\\lib\\site-packages\n",
      "anaconda_project              | C:\\Users\\hp\\anaconda3\\lib\\site-packages\n",
      "anyio                         | C:\\Users\\hp\\anaconda3\\lib\\site-packages\n",
      "appdirs                       | C:\\Users\\hp\\anaconda3\\lib\\site-packages\n",
      "argh                          | C:\\Users\\hp\\anaconda3\\lib\\site-packages\n",
      "argon2                        | C:\\Users\\hp\\anaconda3\\lib\\site-packages\n",
      "arrow                         | C:\\Users\\hp\\anaconda3\\lib\\site-packages\n",
      "asn1crypto                    | C:\\Users\\hp\\anaconda3\\lib\\site-packages\n",
      "astroid                       | C:\\Users\\hp\\anaconda3\\lib\\site-packages\n",
      "astropy                       | C:\\Users\\hp\\anaconda3\\lib\\site-packages\n",
      "async_generator               | C:\\Users\\hp\\anaconda3\\lib\\site-packages\n",
      "atomicwrites                  | C:\\Users\\hp\\anaconda3\\lib\\site-packages\n",
      "attr                          | C:\\Users\\hp\\anaconda3\\lib\\site-packages\n",
      "autopep8                      | C:\\Users\\hp\\anaconda3\\lib\\site-packages\n",
      "babel                         | C:\\Users\\hp\\anaconda3\\lib\\site-packages\n",
      "backcall                      | C:\\Users\\hp\\anaconda3\\lib\\site-packages\n",
      "backports                     | C:\\Users\\hp\\anaconda3\\lib\\site-packages\n",
      "bcrypt                        | C:\\Users\\hp\\anaconda3\\lib\\site-packages\n",
      "binaryornot                   | C:\\Users\\hp\\anaconda3\\lib\\site-packages\n",
      "binstar_client                | C:\\Users\\hp\\anaconda3\\lib\\site-packages\n",
      "bitarray                      | C:\\Users\\hp\\anaconda3\\lib\\site-packages\n",
      "bkcharts                      | C:\\Users\\hp\\anaconda3\\lib\\site-packages\n",
      "black                         | C:\\Users\\hp\\anaconda3\\lib\\site-packages\n",
      "blackd                        | C:\\Users\\hp\\anaconda3\\lib\\site-packages\n",
      "bleach                        | C:\\Users\\hp\\anaconda3\\lib\\site-packages\n",
      "blib2to3                      | C:\\Users\\hp\\anaconda3\\lib\\site-packages\n",
      "bokeh                         | C:\\Users\\hp\\anaconda3\\lib\\site-packages\n",
      "boto                          | C:\\Users\\hp\\anaconda3\\lib\\site-packages\n",
      "bottleneck                    | C:\\Users\\hp\\anaconda3\\lib\\site-packages\n",
      "brotli                        | C:\\Users\\hp\\anaconda3\\lib\\site-packages\n",
      "bs4                           | C:\\Users\\hp\\anaconda3\\lib\\site-packages\n",
      "cached_property               | C:\\Users\\hp\\anaconda3\\lib\\site-packages\n",
      "certifi                       | C:\\Users\\hp\\anaconda3\\lib\\site-packages\n",
      "cffi                          | C:\\Users\\hp\\anaconda3\\lib\\site-packages\n",
      "chardet                       | C:\\Users\\hp\\anaconda3\\lib\\site-packages\n",
      "charset_normalizer            | C:\\Users\\hp\\anaconda3\\lib\\site-packages\n",
      "click                         | C:\\Users\\hp\\anaconda3\\lib\\site-packages\n",
      "cloudpickle                   | C:\\Users\\hp\\anaconda3\\lib\\site-packages\n",
      "clyent                        | C:\\Users\\hp\\anaconda3\\lib\\site-packages\n",
      "colorama                      | C:\\Users\\hp\\anaconda3\\lib\\site-packages\n",
      "comtypes                      | C:\\Users\\hp\\anaconda3\\lib\\site-packages\n",
      "conda                         | C:\\Users\\hp\\anaconda3\\lib\\site-packages\n",
      "conda_build                   | C:\\Users\\hp\\anaconda3\\lib\\site-packages\n",
      "conda_content_trust           | C:\\Users\\hp\\anaconda3\\lib\\site-packages\n",
      "conda_env                     | C:\\Users\\hp\\anaconda3\\lib\\site-packages\n",
      "conda_pack                    | C:\\Users\\hp\\anaconda3\\lib\\site-packages\n",
      "conda_package_handling        | C:\\Users\\hp\\anaconda3\\lib\\site-packages\n",
      "conda_token                   | C:\\Users\\hp\\anaconda3\\lib\\site-packages\n",
      "conda_verify                  | C:\\Users\\hp\\anaconda3\\lib\\site-packages\n",
      "contextlib2                   | C:\\Users\\hp\\anaconda3\\lib\\site-packages\n",
      "cookiecutter                  | C:\\Users\\hp\\anaconda3\\lib\\site-packages\n",
      "cryptography                  | C:\\Users\\hp\\anaconda3\\lib\\site-packages\n",
      "curl                          | C:\\Users\\hp\\anaconda3\\lib\\site-packages\n",
      "cv2                           | C:\\Users\\hp\\anaconda3\\lib\\site-packages\n",
      "cycler                        | C:\\Users\\hp\\anaconda3\\lib\\site-packages\n",
      "cython                        | C:\\Users\\hp\\anaconda3\\lib\\site-packages\n",
      "cytoolz                       | C:\\Users\\hp\\anaconda3\\lib\\site-packages\n",
      "daal4py                       | C:\\Users\\hp\\anaconda3\\lib\\site-packages\n",
      "dask                          | C:\\Users\\hp\\anaconda3\\lib\\site-packages\n",
      "dateutil                      | C:\\Users\\hp\\anaconda3\\lib\\site-packages\n",
      "debugpy                       | C:\\Users\\hp\\anaconda3\\lib\\site-packages\n",
      "decorator                     | C:\\Users\\hp\\anaconda3\\lib\\site-packages\n",
      "defusedxml                    | C:\\Users\\hp\\anaconda3\\lib\\site-packages\n",
      "diff_match_patch              | C:\\Users\\hp\\anaconda3\\lib\\site-packages\n",
      "distributed                   | C:\\Users\\hp\\anaconda3\\lib\\site-packages\n",
      "docutils                      | C:\\Users\\hp\\anaconda3\\lib\\site-packages\n",
      "entrypoints                   | C:\\Users\\hp\\anaconda3\\lib\\site-packages\n",
      "erfa                          | C:\\Users\\hp\\anaconda3\\lib\\site-packages\n",
      "et_xmlfile                    | C:\\Users\\hp\\anaconda3\\lib\\site-packages\n",
      "face_recognition_models       | C:\\Users\\hp\\anaconda3\\lib\\site-packages\n",
      "fastcache                     | C:\\Users\\hp\\anaconda3\\lib\\site-packages\n",
      "filelock                      | C:\\Users\\hp\\anaconda3\\lib\\site-packages\n",
      "flake8                        | C:\\Users\\hp\\anaconda3\\lib\\site-packages\n",
      "flask                         | C:\\Users\\hp\\anaconda3\\lib\\site-packages\n",
      "fontTools                     | C:\\Users\\hp\\anaconda3\\lib\\site-packages\n",
      "fsspec                        | C:\\Users\\hp\\anaconda3\\lib\\site-packages\n",
      "future                        | C:\\Users\\hp\\anaconda3\\lib\\site-packages\n",
      "gevent                        | C:\\Users\\hp\\anaconda3\\lib\\site-packages\n",
      "glob2                         | C:\\Users\\hp\\anaconda3\\lib\\site-packages\n",
      "greenlet                      | C:\\Users\\hp\\anaconda3\\lib\\site-packages\n",
      "h5py                          | C:\\Users\\hp\\anaconda3\\lib\\site-packages\n",
      "heapdict                      | C:\\Users\\hp\\anaconda3\\lib\\site-packages\n",
      "html5lib                      | C:\\Users\\hp\\anaconda3\\lib\\site-packages\n",
      "idna                          | C:\\Users\\hp\\anaconda3\\lib\\site-packages\n",
      "imagecodecs                   | C:\\Users\\hp\\anaconda3\\lib\\site-packages\n",
      "imageio                       | C:\\Users\\hp\\anaconda3\\lib\\site-packages\n",
      "imagesize                     | C:\\Users\\hp\\anaconda3\\lib\\site-packages\n",
      "importlib_metadata            | C:\\Users\\hp\\anaconda3\\lib\\site-packages\n",
      "inflection                    | C:\\Users\\hp\\anaconda3\\lib\\site-packages\n",
      "iniconfig                     | C:\\Users\\hp\\anaconda3\\lib\\site-packages\n",
      "intervaltree                  | C:\\Users\\hp\\anaconda3\\lib\\site-packages\n",
      "ipykernel                     | C:\\Users\\hp\\anaconda3\\lib\\site-packages\n",
      "ipykernel_launcher            | C:\\Users\\hp\\anaconda3\\lib\\site-packages\n",
      "ipython_genutils              | C:\\Users\\hp\\anaconda3\\lib\\site-packages\n",
      "ipywidgets                    | C:\\Users\\hp\\anaconda3\\lib\\site-packages\n",
      "isapi                         | C:\\Users\\hp\\anaconda3\\lib\\site-packages\n",
      "isort                         | C:\\Users\\hp\\anaconda3\\lib\\site-packages\n",
      "isympy                        | C:\\Users\\hp\\anaconda3\\lib\\site-packages\n",
      "itsdangerous                  | C:\\Users\\hp\\anaconda3\\lib\\site-packages\n",
      "jdcal                         | C:\\Users\\hp\\anaconda3\\lib\\site-packages\n",
      "jedi                          | C:\\Users\\hp\\anaconda3\\lib\\site-packages\n",
      "jinja2                        | C:\\Users\\hp\\anaconda3\\lib\\site-packages\n",
      "jinja2_time                   | C:\\Users\\hp\\anaconda3\\lib\\site-packages\n",
      "joblib                        | C:\\Users\\hp\\anaconda3\\lib\\site-packages\n",
      "json5                         | C:\\Users\\hp\\anaconda3\\lib\\site-packages\n",
      "jsonschema                    | C:\\Users\\hp\\anaconda3\\lib\\site-packages\n",
      "jupyter                       | C:\\Users\\hp\\anaconda3\\lib\\site-packages\n",
      "jupyter_client                | C:\\Users\\hp\\anaconda3\\lib\\site-packages\n",
      "jupyter_console               | C:\\Users\\hp\\anaconda3\\lib\\site-packages\n",
      "jupyter_core                  | C:\\Users\\hp\\anaconda3\\lib\\site-packages\n",
      "jupyter_server                | C:\\Users\\hp\\anaconda3\\lib\\site-packages\n",
      "jupyterlab                    | C:\\Users\\hp\\anaconda3\\lib\\site-packages\n",
      "jupyterlab_pygments           | C:\\Users\\hp\\anaconda3\\lib\\site-packages\n",
      "jupyterlab_server             | C:\\Users\\hp\\anaconda3\\lib\\site-packages\n",
      "jupyterlab_widgets            | C:\\Users\\hp\\anaconda3\\lib\\site-packages\n",
      "jwt                           | C:\\Users\\hp\\anaconda3\\lib\\site-packages\n",
      "keyring                       | C:\\Users\\hp\\anaconda3\\lib\\site-packages\n",
      "kiwisolver                    | C:\\Users\\hp\\anaconda3\\lib\\site-packages\n",
      "lazy_object_proxy             | C:\\Users\\hp\\anaconda3\\lib\\site-packages\n",
      "libarchive                    | C:\\Users\\hp\\anaconda3\\lib\\site-packages\n",
      "libfuturize                   | C:\\Users\\hp\\anaconda3\\lib\\site-packages\n",
      "libpasteurize                 | C:\\Users\\hp\\anaconda3\\lib\\site-packages\n",
      "lief                          | C:\\Users\\hp\\anaconda3\\lib\\site-packages\n",
      "llvmlite                      | C:\\Users\\hp\\anaconda3\\lib\\site-packages\n",
      "lxml                          | C:\\Users\\hp\\anaconda3\\lib\\site-packages\n",
      "markupsafe                    | C:\\Users\\hp\\anaconda3\\lib\\site-packages\n",
      "matplotlib                    | C:\\Users\\hp\\anaconda3\\lib\\site-packages\n",
      "matplotlib_inline             | C:\\Users\\hp\\anaconda3\\lib\\site-packages\n",
      "mccabe                        | C:\\Users\\hp\\anaconda3\\lib\\site-packages\n",
      "menuinst                      | C:\\Users\\hp\\anaconda3\\lib\\site-packages\n",
      "mistune                       | C:\\Users\\hp\\anaconda3\\lib\\site-packages\n",
      "mkl                           | C:\\Users\\hp\\anaconda3\\lib\\site-packages\n",
      "mkl_fft                       | C:\\Users\\hp\\anaconda3\\lib\\site-packages\n",
      "mkl_random                    | C:\\Users\\hp\\anaconda3\\lib\\site-packages\n",
      "mock                          | C:\\Users\\hp\\anaconda3\\lib\\site-packages\n",
      "more_itertools                | C:\\Users\\hp\\anaconda3\\lib\\site-packages\n",
      "mpmath                        | C:\\Users\\hp\\anaconda3\\lib\\site-packages\n",
      "msgpack                       | C:\\Users\\hp\\anaconda3\\lib\\site-packages\n",
      "multipledispatch              | C:\\Users\\hp\\anaconda3\\lib\\site-packages\n",
      "munkres                       | C:\\Users\\hp\\anaconda3\\lib\\site-packages\n",
      "mypy_extensions               | C:\\Users\\hp\\anaconda3\\lib\\site-packages\n",
      "nacl                          | C:\\Users\\hp\\anaconda3\\lib\\site-packages\n",
      "navigator_updater             | C:\\Users\\hp\\anaconda3\\lib\\site-packages\n",
      "nbclassic                     | C:\\Users\\hp\\anaconda3\\lib\\site-packages\n",
      "nbclient                      | C:\\Users\\hp\\anaconda3\\lib\\site-packages\n",
      "nbconvert                     | C:\\Users\\hp\\anaconda3\\lib\\site-packages\n",
      "nbformat                      | C:\\Users\\hp\\anaconda3\\lib\\site-packages\n",
      "nest_asyncio                  | C:\\Users\\hp\\anaconda3\\lib\\site-packages\n",
      "networkx                      | C:\\Users\\hp\\anaconda3\\lib\\site-packages\n",
      "nltk                          | C:\\Users\\hp\\anaconda3\\lib\\site-packages\n",
      "nose                          | C:\\Users\\hp\\anaconda3\\lib\\site-packages\n",
      "notebook                      | C:\\Users\\hp\\anaconda3\\lib\\site-packages\n",
      "numba                         | C:\\Users\\hp\\anaconda3\\lib\\site-packages\n",
      "numexpr                       | C:\\Users\\hp\\anaconda3\\lib\\site-packages\n",
      "numpy                         | C:\\Users\\hp\\anaconda3\\lib\\site-packages\n",
      "numpydoc                      | C:\\Users\\hp\\anaconda3\\lib\\site-packages\n",
      "olefile                       | C:\\Users\\hp\\anaconda3\\lib\\site-packages\n",
      "onedal                        | C:\\Users\\hp\\anaconda3\\lib\\site-packages\n",
      "openpyxl                      | C:\\Users\\hp\\anaconda3\\lib\\site-packages\n",
      "packaging                     | C:\\Users\\hp\\anaconda3\\lib\\site-packages\n",
      "pandas                        | C:\\Users\\hp\\anaconda3\\lib\\site-packages\n",
      "pandocfilters                 | C:\\Users\\hp\\anaconda3\\lib\\site-packages\n",
      "paramiko                      | C:\\Users\\hp\\anaconda3\\lib\\site-packages\n",
      "parso                         | C:\\Users\\hp\\anaconda3\\lib\\site-packages\n",
      "partd                         | C:\\Users\\hp\\anaconda3\\lib\\site-packages\n",
      "past                          | C:\\Users\\hp\\anaconda3\\lib\\site-packages\n",
      "path                          | C:\\Users\\hp\\anaconda3\\lib\\site-packages\n",
      "pathlib2                      | C:\\Users\\hp\\anaconda3\\lib\\site-packages\n",
      "pathspec                      | C:\\Users\\hp\\anaconda3\\lib\\site-packages\n",
      "patsy                         | C:\\Users\\hp\\anaconda3\\lib\\site-packages\n",
      "pep8                          | C:\\Users\\hp\\anaconda3\\lib\\site-packages\n",
      "pexpect                       | C:\\Users\\hp\\anaconda3\\lib\\site-packages\n",
      "pickleshare                   | C:\\Users\\hp\\anaconda3\\lib\\site-packages\n",
      "pip                           | C:\\Users\\hp\\anaconda3\\lib\\site-packages\n",
      "pkg_resources                 | C:\\Users\\hp\\anaconda3\\lib\\site-packages\n",
      "pkginfo                       | C:\\Users\\hp\\anaconda3\\lib\\site-packages\n",
      "pluggy                        | C:\\Users\\hp\\anaconda3\\lib\\site-packages\n",
      "ply                           | C:\\Users\\hp\\anaconda3\\lib\\site-packages\n",
      "poyo                          | C:\\Users\\hp\\anaconda3\\lib\\site-packages\n",
      "prometheus_client             | C:\\Users\\hp\\anaconda3\\lib\\site-packages\n",
      "prompt_toolkit                | C:\\Users\\hp\\anaconda3\\lib\\site-packages\n",
      "psutil                        | C:\\Users\\hp\\anaconda3\\lib\\site-packages\n",
      "ptyprocess                    | C:\\Users\\hp\\anaconda3\\lib\\site-packages\n",
      "pvectorc                      | C:\\Users\\hp\\anaconda3\\lib\\site-packages\n",
      "py                            | C:\\Users\\hp\\anaconda3\\lib\\site-packages\n",
      "pycodestyle                   | C:\\Users\\hp\\anaconda3\\lib\\site-packages\n",
      "pycosat                       | C:\\Users\\hp\\anaconda3\\lib\\site-packages\n",
      "pycparser                     | C:\\Users\\hp\\anaconda3\\lib\\site-packages\n",
      "pycurl                        | C:\\Users\\hp\\anaconda3\\lib\\site-packages\n",
      "pydocstyle                    | C:\\Users\\hp\\anaconda3\\lib\\site-packages\n",
      "pyflakes                      | C:\\Users\\hp\\anaconda3\\lib\\site-packages\n",
      "pygments                      | C:\\Users\\hp\\anaconda3\\lib\\site-packages\n",
      "pylab                         | C:\\Users\\hp\\anaconda3\\lib\\site-packages\n",
      "pylint                        | C:\\Users\\hp\\anaconda3\\lib\\site-packages\n",
      "pyls_spyder                   | C:\\Users\\hp\\anaconda3\\lib\\site-packages\n",
      "pylsp                         | C:\\Users\\hp\\anaconda3\\lib\\site-packages\n",
      "pylsp_black                   | C:\\Users\\hp\\anaconda3\\lib\\site-packages\n",
      "pylsp_jsonrpc                 | C:\\Users\\hp\\anaconda3\\lib\\site-packages\n",
      "pyodbc                        | C:\\Users\\hp\\anaconda3\\lib\\site-packages\n",
      "pyparsing                     | C:\\Users\\hp\\anaconda3\\lib\\site-packages\n",
      "pyreadline                    | C:\\Users\\hp\\anaconda3\\lib\\site-packages\n",
      "pyrsistent                    | C:\\Users\\hp\\anaconda3\\lib\\site-packages\n",
      "pytest                        | C:\\Users\\hp\\anaconda3\\lib\\site-packages\n",
      "pythoncom                     | C:\\Users\\hp\\anaconda3\\lib\\site-packages\n",
      "pytz                          | C:\\Users\\hp\\anaconda3\\lib\\site-packages\n",
      "pywt                          | C:\\Users\\hp\\anaconda3\\lib\\site-packages\n",
      "pyximport                     | C:\\Users\\hp\\anaconda3\\lib\\site-packages\n",
      "qdarkstyle                    | C:\\Users\\hp\\anaconda3\\lib\\site-packages\n",
      "qstylizer                     | C:\\Users\\hp\\anaconda3\\lib\\site-packages\n",
      "qtawesome                     | C:\\Users\\hp\\anaconda3\\lib\\site-packages\n",
      "qtconsole                     | C:\\Users\\hp\\anaconda3\\lib\\site-packages\n",
      "qtpy                          | C:\\Users\\hp\\anaconda3\\lib\\site-packages\n",
      "readline                      | C:\\Users\\hp\\anaconda3\\lib\\site-packages\n",
      "regex                         | C:\\Users\\hp\\anaconda3\\lib\\site-packages\n",
      "repo_cli                      | C:\\Users\\hp\\anaconda3\\lib\\site-packages\n",
      "requests                      | C:\\Users\\hp\\anaconda3\\lib\\site-packages\n",
      "rope                          | C:\\Users\\hp\\anaconda3\\lib\\site-packages\n",
      "rtree                         | C:\\Users\\hp\\anaconda3\\lib\\site-packages\n",
      "ruamel_yaml                   | C:\\Users\\hp\\anaconda3\\lib\\site-packages\n",
      "run                           | C:\\Users\\hp\\anaconda3\\lib\\site-packages\n",
      "scipy                         | C:\\Users\\hp\\anaconda3\\lib\\site-packages\n",
      "scripts                       | C:\\Users\\hp\\anaconda3\\lib\\site-packages\n",
      "seaborn                       | C:\\Users\\hp\\anaconda3\\lib\\site-packages\n",
      "send2trash                    | C:\\Users\\hp\\anaconda3\\lib\\site-packages\n",
      "setuptools                    | C:\\Users\\hp\\anaconda3\\lib\\site-packages\n",
      "simplegeneric                 | C:\\Users\\hp\\anaconda3\\lib\\site-packages\n",
      "singledispatch                | C:\\Users\\hp\\anaconda3\\lib\\site-packages\n",
      "sip                           | C:\\Users\\hp\\anaconda3\\lib\\site-packages\n",
      "sipconfig                     | C:\\Users\\hp\\anaconda3\\lib\\site-packages\n",
      "sipdistutils                  | C:\\Users\\hp\\anaconda3\\lib\\site-packages\n",
      "six                           | C:\\Users\\hp\\anaconda3\\lib\\site-packages\n",
      "skimage                       | C:\\Users\\hp\\anaconda3\\lib\\site-packages\n",
      "sklearn                       | C:\\Users\\hp\\anaconda3\\lib\\site-packages\n",
      "sklearnex                     | C:\\Users\\hp\\anaconda3\\lib\\site-packages\n",
      "slugify                       | C:\\Users\\hp\\anaconda3\\lib\\site-packages\n",
      "sniffio                       | C:\\Users\\hp\\anaconda3\\lib\\site-packages\n",
      "snowballstemmer               | C:\\Users\\hp\\anaconda3\\lib\\site-packages\n",
      "socks                         | C:\\Users\\hp\\anaconda3\\lib\\site-packages\n",
      "sockshandler                  | C:\\Users\\hp\\anaconda3\\lib\\site-packages\n",
      "sortedcollections             | C:\\Users\\hp\\anaconda3\\lib\\site-packages\n",
      "sortedcontainers              | C:\\Users\\hp\\anaconda3\\lib\\site-packages\n",
      "soupsieve                     | C:\\Users\\hp\\anaconda3\\lib\\site-packages\n",
      "sphinx                        | C:\\Users\\hp\\anaconda3\\lib\\site-packages\n",
      "sphinxcontrib                 | C:\\Users\\hp\\anaconda3\\lib\\site-packages\n",
      "spyder                        | C:\\Users\\hp\\anaconda3\\lib\\site-packages\n",
      "spyder_kernels                | C:\\Users\\hp\\anaconda3\\lib\\site-packages\n",
      "sqlalchemy                    | C:\\Users\\hp\\anaconda3\\lib\\site-packages\n",
      "statsmodels                   | C:\\Users\\hp\\anaconda3\\lib\\site-packages\n",
      "sympy                         | C:\\Users\\hp\\anaconda3\\lib\\site-packages\n",
      "tables                        | C:\\Users\\hp\\anaconda3\\lib\\site-packages\n",
      "tbb                           | C:\\Users\\hp\\anaconda3\\lib\\site-packages\n",
      "tblib                         | C:\\Users\\hp\\anaconda3\\lib\\site-packages\n",
      "terminado                     | C:\\Users\\hp\\anaconda3\\lib\\site-packages\n",
      "test_data                     | C:\\Users\\hp\\anaconda3\\lib\\site-packages\n",
      "test_pycosat                  | C:\\Users\\hp\\anaconda3\\lib\\site-packages\n",
      "testpath                      | C:\\Users\\hp\\anaconda3\\lib\\site-packages\n",
      "text_unidecode                | C:\\Users\\hp\\anaconda3\\lib\\site-packages\n",
      "textdistance                  | C:\\Users\\hp\\anaconda3\\lib\\site-packages\n",
      "threadpoolctl                 | C:\\Users\\hp\\anaconda3\\lib\\site-packages\n",
      "three_merge                   | C:\\Users\\hp\\anaconda3\\lib\\site-packages\n",
      "tifffile                      | C:\\Users\\hp\\anaconda3\\lib\\site-packages\n",
      "tinycss                       | C:\\Users\\hp\\anaconda3\\lib\\site-packages\n",
      "tlz                           | C:\\Users\\hp\\anaconda3\\lib\\site-packages\n",
      "toml                          | C:\\Users\\hp\\anaconda3\\lib\\site-packages\n",
      "toolz                         | C:\\Users\\hp\\anaconda3\\lib\\site-packages\n",
      "tornado                       | C:\\Users\\hp\\anaconda3\\lib\\site-packages\n",
      "tqdm                          | C:\\Users\\hp\\anaconda3\\lib\\site-packages\n",
      "traitlets                     | C:\\Users\\hp\\anaconda3\\lib\\site-packages\n",
      "typed_ast                     | C:\\Users\\hp\\anaconda3\\lib\\site-packages\n",
      "typing_extensions             | C:\\Users\\hp\\anaconda3\\lib\\site-packages\n",
      "ujson                         | C:\\Users\\hp\\anaconda3\\lib\\site-packages\n",
      "unicodecsv                    | C:\\Users\\hp\\anaconda3\\lib\\site-packages\n",
      "unidecode                     | C:\\Users\\hp\\anaconda3\\lib\\site-packages\n",
      "urllib3                       | C:\\Users\\hp\\anaconda3\\lib\\site-packages\n",
      "watchdog                      | C:\\Users\\hp\\anaconda3\\lib\\site-packages\n",
      "wcwidth                       | C:\\Users\\hp\\anaconda3\\lib\\site-packages\n",
      "webencodings                  | C:\\Users\\hp\\anaconda3\\lib\\site-packages\n",
      "werkzeug                      | C:\\Users\\hp\\anaconda3\\lib\\site-packages\n",
      "wheel                         | C:\\Users\\hp\\anaconda3\\lib\\site-packages\n",
      "whichcraft                    | C:\\Users\\hp\\anaconda3\\lib\\site-packages\n",
      "widgetsnbextension            | C:\\Users\\hp\\anaconda3\\lib\\site-packages\n",
      "win32com                      | C:\\Users\\hp\\anaconda3\\lib\\site-packages\n",
      "win32ctypes                   | C:\\Users\\hp\\anaconda3\\lib\\site-packages\n",
      "win_inet_pton                 | C:\\Users\\hp\\anaconda3\\lib\\site-packages\n",
      "win_unicode_console           | C:\\Users\\hp\\anaconda3\\lib\\site-packages\n",
      "wincertstore                  | C:\\Users\\hp\\anaconda3\\lib\\site-packages\n",
      "winpty                        | C:\\Users\\hp\\anaconda3\\lib\\site-packages\n",
      "wrapt                         | C:\\Users\\hp\\anaconda3\\lib\\site-packages\n",
      "xlrd                          | C:\\Users\\hp\\anaconda3\\lib\\site-packages\n",
      "xlsxwriter                    | C:\\Users\\hp\\anaconda3\\lib\\site-packages\n",
      "xlwings                       | C:\\Users\\hp\\anaconda3\\lib\\site-packages\n",
      "xlwt                          | C:\\Users\\hp\\anaconda3\\lib\\site-packages\n",
      "xmltodict                     | C:\\Users\\hp\\anaconda3\\lib\\site-packages\n",
      "yaml                          | C:\\Users\\hp\\anaconda3\\lib\\site-packages\n",
      "yapf                          | C:\\Users\\hp\\anaconda3\\lib\\site-packages\n",
      "yapftests                     | C:\\Users\\hp\\anaconda3\\lib\\site-packages\n",
      "zict                          | C:\\Users\\hp\\anaconda3\\lib\\site-packages\n",
      "zipp                          | C:\\Users\\hp\\anaconda3\\lib\\site-packages\n",
      "zmq                           | C:\\Users\\hp\\anaconda3\\lib\\site-packages\n",
      "zope                          | C:\\Users\\hp\\anaconda3\\lib\\site-packages\n"
     ]
    },
    {
     "ename": "AttributeError",
     "evalue": "'zipimporter' object has no attribute 'path'",
     "output_type": "error",
     "traceback": [
      "\u001b[1;31m---------------------------------------------------------------------------\u001b[0m",
      "\u001b[1;31mAttributeError\u001b[0m                            Traceback (most recent call last)",
      "\u001b[1;32m~\\AppData\\Local\\Temp/ipykernel_3136/1589222540.py\u001b[0m in \u001b[0;36m<module>\u001b[1;34m\u001b[0m\n\u001b[1;32m----> 1\u001b[1;33m \u001b[0mshow_acceptable_modules\u001b[0m\u001b[1;33m(\u001b[0m\u001b[1;33m)\u001b[0m\u001b[1;33m\u001b[0m\u001b[1;33m\u001b[0m\u001b[0m\n\u001b[0m",
      "\u001b[1;32m~\\AppData\\Local\\Temp/ipykernel_3136/4031654200.py\u001b[0m in \u001b[0;36mshow_acceptable_modules\u001b[1;34m()\u001b[0m\n\u001b[0;32m      6\u001b[0m     \u001b[0mprint\u001b[0m\u001b[1;33m(\u001b[0m\u001b[1;34m'{}\\n{:^30}|{:^20}\\n{}'\u001b[0m\u001b[1;33m.\u001b[0m\u001b[0mformat\u001b[0m\u001b[1;33m(\u001b[0m\u001b[0mline\u001b[0m\u001b[1;33m,\u001b[0m \u001b[1;34m'Module'\u001b[0m\u001b[1;33m,\u001b[0m \u001b[1;34m'Location'\u001b[0m\u001b[1;33m,\u001b[0m \u001b[0mline\u001b[0m\u001b[1;33m)\u001b[0m\u001b[1;33m)\u001b[0m\u001b[1;33m\u001b[0m\u001b[1;33m\u001b[0m\u001b[0m\n\u001b[0;32m      7\u001b[0m     \u001b[1;32mfor\u001b[0m \u001b[0mentry\u001b[0m \u001b[1;32min\u001b[0m \u001b[0mpkgutil\u001b[0m\u001b[1;33m.\u001b[0m\u001b[0miter_modules\u001b[0m\u001b[1;33m(\u001b[0m\u001b[1;33m)\u001b[0m\u001b[1;33m:\u001b[0m\u001b[1;33m\u001b[0m\u001b[1;33m\u001b[0m\u001b[0m\n\u001b[1;32m----> 8\u001b[1;33m         \u001b[0mprint\u001b[0m\u001b[1;33m(\u001b[0m\u001b[1;34m'{:30}| {}'\u001b[0m\u001b[1;33m.\u001b[0m\u001b[0mformat\u001b[0m\u001b[1;33m(\u001b[0m\u001b[0mentry\u001b[0m\u001b[1;33m[\u001b[0m\u001b[1;36m1\u001b[0m\u001b[1;33m]\u001b[0m\u001b[1;33m,\u001b[0m \u001b[0mentry\u001b[0m\u001b[1;33m[\u001b[0m\u001b[1;36m0\u001b[0m\u001b[1;33m]\u001b[0m\u001b[1;33m.\u001b[0m\u001b[0mpath\u001b[0m\u001b[1;33m)\u001b[0m\u001b[1;33m)\u001b[0m\u001b[1;33m\u001b[0m\u001b[1;33m\u001b[0m\u001b[0m\n\u001b[0m",
      "\u001b[1;31mAttributeError\u001b[0m: 'zipimporter' object has no attribute 'path'"
     ]
    }
   ],
   "source": [
    "show_acceptable_modules()"
   ]
  },
  {
   "cell_type": "markdown",
   "metadata": {
    "id": "3SaAGxbhNE8W"
   },
   "source": [
    "**QUESTION 2**\n",
    "\n",
    "What is displayed on the last output?\n",
    "\n",
    "function to iterate through available modules and display their names and locations. Then, it prints this information in a tabular format.\n",
    "\n",
    "Which is the used Python version?\n",
    "\n",
    "python3\n",
    "\n",
    "For this TP1, you will need:\n",
    "- pandas\n",
    "- matplotlib\n",
    "- numpy\n",
    "- sklearn\n",
    "\n",
    "Are these packages installed in this environment?\n",
    "\n",
    "They're not imported yet !"
   ]
  },
  {
   "cell_type": "markdown",
   "metadata": {
    "id": "plKPi2AyOJbH"
   },
   "source": [
    "**TO DO 1.3**\n",
    "\n",
    "Execute the following cell"
   ]
  },
  {
   "cell_type": "code",
   "execution_count": 7,
   "metadata": {
    "colab": {
     "base_uri": "https://localhost:8080/",
     "height": 36
    },
    "id": "uA8_Sk99OCwx",
    "outputId": "50e33ca5-7055-4ca5-bdb2-0e4b5df44618"
   },
   "outputs": [
    {
     "data": {
      "text/plain": [
       "'1.3.4'"
      ]
     },
     "execution_count": 7,
     "metadata": {},
     "output_type": "execute_result"
    }
   ],
   "source": [
    "import pandas as pd\n",
    "pd.__version__"
   ]
  },
  {
   "cell_type": "markdown",
   "metadata": {
    "id": "s-fXaMVZOUz6"
   },
   "source": [
    "**QUESTION 3**\n",
    "\n",
    "How would you solve this error?"
   ]
  },
  {
   "cell_type": "markdown",
   "metadata": {
    "id": "UeFUQwYnOkOc"
   },
   "source": [
    "## STEP 2: Data manipulation and visualization\n"
   ]
  },
  {
   "cell_type": "markdown",
   "metadata": {
    "id": "jooNCqdVO3DM"
   },
   "source": [
    "**TO DO 2.1**\n",
    "\n",
    "Execute the following cell"
   ]
  },
  {
   "cell_type": "code",
   "execution_count": 11,
   "metadata": {
    "colab": {
     "base_uri": "https://localhost:8080/"
    },
    "id": "rDNpZKEOO85F",
    "outputId": "4cf9c415-c083-4f57-a286-6cc2362f48b2"
   },
   "outputs": [
    {
     "name": "stdout",
     "output_type": "stream",
     "text": [
      "<class 'pandas.core.frame.DataFrame'>\n",
      "Int64Index: 1649 entries, 0 to 2937\n",
      "Data columns (total 25 columns):\n",
      " #   Column                           Non-Null Count  Dtype  \n",
      "---  ------                           --------------  -----  \n",
      " 0   Country                          1649 non-null   object \n",
      " 1   Longitude                        1649 non-null   float64\n",
      " 2   Latitude                         1649 non-null   float64\n",
      " 3   Continent                        1649 non-null   object \n",
      " 4   Year                             1649 non-null   int64  \n",
      " 5   Status                           1649 non-null   object \n",
      " 6   Life_expectancy                  1649 non-null   float64\n",
      " 7   Adult_mortality                  1649 non-null   float64\n",
      " 8   Infant_deaths                    1649 non-null   int64  \n",
      " 9   Alcohol                          1649 non-null   float64\n",
      " 10  Percentage_expenditure           1649 non-null   float64\n",
      " 11  Hepatitis_B                      1649 non-null   float64\n",
      " 12  Measles                          1649 non-null   int64  \n",
      " 13  BMI                              1649 non-null   float64\n",
      " 14  Under-five_deaths                1649 non-null   int64  \n",
      " 15  Polio                            1649 non-null   float64\n",
      " 16  Total_expenditure                1649 non-null   float64\n",
      " 17  Diphtheria                       1649 non-null   float64\n",
      " 18  HIV_AIDS                         1649 non-null   float64\n",
      " 19  GDP                              1649 non-null   float64\n",
      " 20  Population                       1649 non-null   float64\n",
      " 21  Thinness _1-19_years             1649 non-null   float64\n",
      " 22  Thinness_5-9_years               1649 non-null   float64\n",
      " 23  Income_composition_of_resources  1649 non-null   float64\n",
      " 24  Schooling                        1649 non-null   float64\n",
      "dtypes: float64(18), int64(4), object(3)\n",
      "memory usage: 335.0+ KB\n"
     ]
    }
   ],
   "source": [
    "import pandas as pd\n",
    "import matplotlib.pyplot as plt\n",
    "\n",
    "\n",
    "df = pd.read_csv(\"C:\\\\Users\\\\hp\\\\Desktop\\\\3A-SIA\\\\ML\\Life_Expectancy_Data.csv\")\n",
    "df = df.dropna()\n",
    "df.info()"
   ]
  },
  {
   "cell_type": "markdown",
   "metadata": {
    "id": "OdmKi5iNPEpg"
   },
   "source": [
    "**QUESTION 4**\n",
    "\n",
    "Can you explain the different elements printed on the last output?\n",
    "\n",
    "\n",
    "We print in the df1, all information(Life Expectancy) we have on the selected country \"France\" over the years started from 2011\n",
    "In the second one, df2, we print the years column for the selected country \"France\""
   ]
  },
  {
   "cell_type": "code",
   "execution_count": 12,
   "metadata": {
    "colab": {
     "base_uri": "https://localhost:8080/"
    },
    "id": "TO2VhknbPPcD",
    "outputId": "44d04530-3eac-4d2a-cdb6-9bc4ae2f1e3b"
   },
   "outputs": [
    {
     "name": "stdout",
     "output_type": "stream",
     "text": [
      "df1:      Country  Longitude  Latitude Continent  Year      Status  Life_expectancy  \\\n",
      "931  France  -2.761729  42.17344    Europe  2014  Developing             82.2   \n",
      "932  France  -2.761729  42.17344    Europe  2013  Developing             82.0   \n",
      "933  France  -2.761729  42.17344    Europe  2012  Developing             81.5   \n",
      "934  France  -2.761729  42.17344    Europe  2011  Developing             81.7   \n",
      "\n",
      "     Adult_mortality  Infant_deaths  Alcohol  ...  Polio  Total_expenditure  \\\n",
      "931             79.0              3     11.5  ...   98.0              11.54   \n",
      "932             81.0              3     11.1  ...   99.0              11.56   \n",
      "933             83.0              3     11.5  ...   99.0              11.44   \n",
      "934             83.0              3     11.8  ...   99.0              11.33   \n",
      "\n",
      "     Diphtheria  HIV_AIDS          GDP  Population  Thinness _1-19_years  \\\n",
      "931        98.0       0.1  42955.24287  66331957.0                   0.6   \n",
      "932        99.0       0.1  42554.12250   6599857.0                   0.6   \n",
      "933        99.0       0.1   4838.24440   6565979.0                   0.6   \n",
      "934        99.0       0.1   4381.28800  65342776.0                   0.6   \n",
      "\n",
      "     Thinness_5-9_years  Income_composition_of_resources  Schooling  \n",
      "931                 0.6                            0.890       16.2  \n",
      "932                 0.6                            0.887       16.2  \n",
      "933                 0.6                            0.885       16.1  \n",
      "934                 0.6                            0.882       16.1  \n",
      "\n",
      "[4 rows x 25 columns]\n",
      "df2:  931    2014\n",
      "932    2013\n",
      "933    2012\n",
      "934    2011\n",
      "935    2010\n",
      "936    2009\n",
      "937    2008\n",
      "938    2007\n",
      "939    2006\n",
      "940    2005\n",
      "941    2004\n",
      "942    2003\n",
      "943    2002\n",
      "944    2001\n",
      "945    2000\n",
      "Name: Year, dtype: int64\n"
     ]
    }
   ],
   "source": [
    "df1 = df[(df.Country == \"France\") & (df.Year > 2010)]\n",
    "print(\"df1: \", df1)\n",
    "df2 = df[(df.Country == \"France\")].Year\n",
    "print(\"df2: \", df2)"
   ]
  },
  {
   "cell_type": "markdown",
   "metadata": {
    "id": "HIPyWcrYPicD"
   },
   "source": [
    "**QUESTION 5**\n",
    "\n",
    "How do you interpret the new Data Frame df1 compared to df? What represents df2 compared to df1?\n",
    "\n",
    "\n",
    "df2 shows us all the dates for the country \"France\" available in our csv while df1 only displays all the data present on the country \"France\" after 2010"
   ]
  },
  {
   "cell_type": "markdown",
   "metadata": {
    "id": "ZOiWa2vsPq-A"
   },
   "source": [
    "**TO CODE 2.2**\n",
    "\n",
    "What is the range of life expectancy of Belgium between 2004 and 2008?"
   ]
  },
  {
   "cell_type": "code",
   "execution_count": 13,
   "metadata": {
    "colab": {
     "base_uri": "https://localhost:8080/"
    },
    "id": "G6bvJ4oQPyiU",
    "outputId": "61db9926-a6de-4b41-96de-5f80c9667eb4"
   },
   "outputs": [
    {
     "name": "stdout",
     "output_type": "stream",
     "text": [
      "df3:       Country  Longitude   Latitude Continent  Year     Status  \\\n",
      "248  Belgium   4.640651  50.639816    Europe  2007  Developed   \n",
      "249  Belgium   4.640651  50.639816    Europe  2006  Developed   \n",
      "250  Belgium   4.640651  50.639816    Europe  2005  Developed   \n",
      "\n",
      "     Life_expectancy  Adult_mortality  Infant_deaths  Alcohol  ...  Polio  \\\n",
      "248             79.5             86.0              0    10.25  ...   99.0   \n",
      "249             79.4             85.0              0    10.98  ...   99.0   \n",
      "250             78.9             89.0              0    12.27  ...   97.0   \n",
      "\n",
      "     Total_expenditure  Diphtheria  HIV_AIDS          GDP  Population  \\\n",
      "248               9.25        98.0       0.1   4443.83131     16257.0   \n",
      "249               9.17        98.0       0.1  38852.36130   1547958.0   \n",
      "250               9.24        97.0       0.1  36967.28292   1478617.0   \n",
      "\n",
      "     Thinness _1-19_years  Thinness_5-9_years  \\\n",
      "248                   0.8                 0.8   \n",
      "249                   0.8                 0.8   \n",
      "250                   0.8                 0.8   \n",
      "\n",
      "     Income_composition_of_resources  Schooling  \n",
      "248                            0.871       15.8  \n",
      "249                            0.865       15.7  \n",
      "250                            0.861       15.7  \n",
      "\n",
      "[3 rows x 25 columns]\n"
     ]
    }
   ],
   "source": [
    "df3 = df[(df.Country == \"Belgium\") & (df.Year > 2004) & (df.Year  <2008)]\n",
    "print(\"df3: \", df3)"
   ]
  },
  {
   "cell_type": "markdown",
   "metadata": {
    "id": "JQ5hQwbzP-IQ"
   },
   "source": [
    "**TO DO 2.3**\n",
    "\n",
    "Compute the correlation among all features"
   ]
  },
  {
   "cell_type": "code",
   "execution_count": 14,
   "metadata": {
    "colab": {
     "base_uri": "https://localhost:8080/"
    },
    "id": "wR83je-kQFD8",
    "outputId": "5905f656-51c1-4da5-b8f3-44e48d8c45c3"
   },
   "outputs": [
    {
     "name": "stdout",
     "output_type": "stream",
     "text": [
      "                                 Longitude  Latitude      Year  \\\n",
      "Longitude                         1.000000  0.064602 -0.018635   \n",
      "Latitude                          0.064602  1.000000 -0.027252   \n",
      "Year                             -0.018635 -0.027252  1.000000   \n",
      "Life_expectancy                  -0.192675  0.432515  0.050771   \n",
      "Adult_mortality                   0.091557 -0.348847 -0.037092   \n",
      "Infant_deaths                     0.140981 -0.002955  0.008029   \n",
      "Alcohol                          -0.202308  0.349825 -0.113365   \n",
      "Percentage_expenditure           -0.057579  0.214447  0.069553   \n",
      "Hepatitis_B                       0.012114  0.060178  0.114897   \n",
      "Measles                           0.168937  0.033374 -0.053822   \n",
      "BMI                              -0.233330  0.268139  0.005739   \n",
      "Under-five_deaths                 0.134130 -0.011890  0.010479   \n",
      "Polio                            -0.002238  0.179645 -0.016699   \n",
      "Total_expenditure                -0.200847  0.043328  0.059493   \n",
      "Diphtheria                       -0.026703  0.189472  0.029641   \n",
      "HIV_AIDS                          0.027877 -0.388946 -0.123405   \n",
      "GDP                              -0.049566  0.250799  0.096421   \n",
      "Population                        0.068179  0.010934  0.012567   \n",
      "Thinness _1-19_years              0.282557 -0.155765  0.019757   \n",
      "Thinness_5-9_years                0.308874 -0.162645  0.014122   \n",
      "Income_composition_of_resources  -0.227682  0.330439  0.122892   \n",
      "Schooling                        -0.151183  0.279783  0.088732   \n",
      "\n",
      "                                 Life_expectancy  Adult_mortality  \\\n",
      "Longitude                              -0.192675         0.091557   \n",
      "Latitude                                0.432515        -0.348847   \n",
      "Year                                    0.050771        -0.037092   \n",
      "Life_expectancy                         1.000000        -0.702523   \n",
      "Adult_mortality                        -0.702523         1.000000   \n",
      "Infant_deaths                          -0.169074         0.042450   \n",
      "Alcohol                                 0.402718        -0.175535   \n",
      "Percentage_expenditure                  0.409631        -0.237610   \n",
      "Hepatitis_B                             0.199935        -0.105225   \n",
      "Measles                                -0.068881        -0.003967   \n",
      "BMI                                     0.542042        -0.351542   \n",
      "Under-five_deaths                      -0.192265         0.060365   \n",
      "Polio                                   0.327294        -0.199853   \n",
      "Total_expenditure                       0.174718        -0.085227   \n",
      "Diphtheria                              0.341331        -0.191429   \n",
      "HIV_AIDS                               -0.592236         0.550691   \n",
      "GDP                                     0.441322        -0.255035   \n",
      "Population                             -0.022305        -0.015012   \n",
      "Thinness _1-19_years                   -0.457838         0.272230   \n",
      "Thinness_5-9_years                     -0.457508         0.286723   \n",
      "Income_composition_of_resources         0.721083        -0.442203   \n",
      "Schooling                               0.727630        -0.421171   \n",
      "\n",
      "                                 Infant_deaths   Alcohol  \\\n",
      "Longitude                             0.140981 -0.202308   \n",
      "Latitude                             -0.002955  0.349825   \n",
      "Year                                  0.008029 -0.113365   \n",
      "Life_expectancy                      -0.169074  0.402718   \n",
      "Adult_mortality                       0.042450 -0.175535   \n",
      "Infant_deaths                         1.000000 -0.106217   \n",
      "Alcohol                              -0.106217  1.000000   \n",
      "Percentage_expenditure               -0.090765  0.417047   \n",
      "Hepatitis_B                          -0.231769  0.109889   \n",
      "Measles                               0.532680 -0.050110   \n",
      "BMI                                  -0.234425  0.353396   \n",
      "Under-five_deaths                     0.996906 -0.101082   \n",
      "Polio                                -0.156929  0.240315   \n",
      "Total_expenditure                    -0.146951  0.214885   \n",
      "Diphtheria                           -0.161871  0.242951   \n",
      "HIV_AIDS                              0.007712 -0.027113   \n",
      "GDP                                  -0.098092  0.443433   \n",
      "Population                            0.671758 -0.028880   \n",
      "Thinness _1-19_years                  0.463415 -0.403755   \n",
      "Thinness_5-9_years                    0.461908 -0.386208   \n",
      "Income_composition_of_resources      -0.134754  0.561074   \n",
      "Schooling                            -0.214372  0.616975   \n",
      "\n",
      "                                 Percentage_expenditure  Hepatitis_B  \\\n",
      "Longitude                                     -0.057579     0.012114   \n",
      "Latitude                                       0.214447     0.060178   \n",
      "Year                                           0.069553     0.114897   \n",
      "Life_expectancy                                0.409631     0.199935   \n",
      "Adult_mortality                               -0.237610    -0.105225   \n",
      "Infant_deaths                                 -0.090765    -0.231769   \n",
      "Alcohol                                        0.417047     0.109889   \n",
      "Percentage_expenditure                         1.000000     0.016760   \n",
      "Hepatitis_B                                    0.016760     1.000000   \n",
      "Measles                                       -0.063071    -0.124800   \n",
      "BMI                                            0.242738     0.143302   \n",
      "Under-five_deaths                             -0.092158    -0.240766   \n",
      "Polio                                          0.128626     0.463331   \n",
      "Total_expenditure                              0.183872     0.113327   \n",
      "Diphtheria                                     0.134813     0.588990   \n",
      "HIV_AIDS                                      -0.095085    -0.094802   \n",
      "GDP                                            0.959299     0.041850   \n",
      "Population                                    -0.016792    -0.129723   \n",
      "Thinness _1-19_years                          -0.255035    -0.129406   \n",
      "Thinness_5-9_years                            -0.255635    -0.133251   \n",
      "Income_composition_of_resources                0.402170     0.184921   \n",
      "Schooling                                      0.422088     0.215182   \n",
      "\n",
      "                                  Measles  ...     Polio  Total_expenditure  \\\n",
      "Longitude                        0.168937  ... -0.002238          -0.200847   \n",
      "Latitude                         0.033374  ...  0.179645           0.043328   \n",
      "Year                            -0.053822  ... -0.016699           0.059493   \n",
      "Life_expectancy                 -0.068881  ...  0.327294           0.174718   \n",
      "Adult_mortality                 -0.003967  ... -0.199853          -0.085227   \n",
      "Infant_deaths                    0.532680  ... -0.156929          -0.146951   \n",
      "Alcohol                         -0.050110  ...  0.240315           0.214885   \n",
      "Percentage_expenditure          -0.063071  ...  0.128626           0.183872   \n",
      "Hepatitis_B                     -0.124800  ...  0.463331           0.113327   \n",
      "Measles                          1.000000  ... -0.057850          -0.113583   \n",
      "BMI                             -0.153245  ...  0.186268           0.189469   \n",
      "Under-five_deaths                0.517506  ... -0.171164          -0.145803   \n",
      "Polio                           -0.057850  ...  1.000000           0.119768   \n",
      "Total_expenditure               -0.113583  ...  0.119768           1.000000   \n",
      "Diphtheria                      -0.058606  ...  0.609245           0.129915   \n",
      "HIV_AIDS                        -0.003522  ... -0.107885           0.043101   \n",
      "GDP                             -0.064768  ...  0.156809           0.180373   \n",
      "Population                       0.321946  ... -0.045387          -0.079962   \n",
      "Thinness _1-19_years             0.180642  ... -0.164070          -0.209872   \n",
      "Thinness_5-9_years               0.174946  ... -0.174489          -0.217865   \n",
      "Income_composition_of_resources -0.058277  ...  0.314682           0.183653   \n",
      "Schooling                       -0.115660  ...  0.350147           0.243783   \n",
      "\n",
      "                                 Diphtheria  HIV_AIDS       GDP  Population  \\\n",
      "Longitude                         -0.026703  0.027877 -0.049566    0.068179   \n",
      "Latitude                           0.189472 -0.388946  0.250799    0.010934   \n",
      "Year                               0.029641 -0.123405  0.096421    0.012567   \n",
      "Life_expectancy                    0.341331 -0.592236  0.441322   -0.022305   \n",
      "Adult_mortality                   -0.191429  0.550691 -0.255035   -0.015012   \n",
      "Infant_deaths                     -0.161871  0.007712 -0.098092    0.671758   \n",
      "Alcohol                            0.242951 -0.027113  0.443433   -0.028880   \n",
      "Percentage_expenditure             0.134813 -0.095085  0.959299   -0.016792   \n",
      "Hepatitis_B                        0.588990 -0.094802  0.041850   -0.129723   \n",
      "Measles                           -0.058606 -0.003522 -0.064768    0.321946   \n",
      "BMI                                0.176295 -0.210897  0.266114   -0.081416   \n",
      "Under-five_deaths                 -0.178448  0.019476 -0.100331    0.658680   \n",
      "Polio                              0.609245 -0.107885  0.156809   -0.045387   \n",
      "Total_expenditure                  0.129915  0.043101  0.180373   -0.079962   \n",
      "Diphtheria                         1.000000 -0.117601  0.158438   -0.039898   \n",
      "HIV_AIDS                          -0.117601  1.000000 -0.108081   -0.027801   \n",
      "GDP                                0.158438 -0.108081  1.000000   -0.020369   \n",
      "Population                        -0.039898 -0.027801 -0.020369    1.000000   \n",
      "Thinness _1-19_years              -0.187242  0.172592 -0.277498    0.282529   \n",
      "Thinness_5-9_years                -0.180952  0.183147 -0.277959    0.277913   \n",
      "Income_composition_of_resources    0.343262 -0.248590  0.446856   -0.008132   \n",
      "Schooling                          0.350398 -0.211840  0.467947   -0.040312   \n",
      "\n",
      "                                 Thinness _1-19_years  Thinness_5-9_years  \\\n",
      "Longitude                                    0.282557            0.308874   \n",
      "Latitude                                    -0.155765           -0.162645   \n",
      "Year                                         0.019757            0.014122   \n",
      "Life_expectancy                             -0.457838           -0.457508   \n",
      "Adult_mortality                              0.272230            0.286723   \n",
      "Infant_deaths                                0.463415            0.461908   \n",
      "Alcohol                                     -0.403755           -0.386208   \n",
      "Percentage_expenditure                      -0.255035           -0.255635   \n",
      "Hepatitis_B                                 -0.129406           -0.133251   \n",
      "Measles                                      0.180642            0.174946   \n",
      "BMI                                         -0.547018           -0.554094   \n",
      "Under-five_deaths                            0.464785            0.462289   \n",
      "Polio                                       -0.164070           -0.174489   \n",
      "Total_expenditure                           -0.209872           -0.217865   \n",
      "Diphtheria                                  -0.187242           -0.180952   \n",
      "HIV_AIDS                                     0.172592            0.183147   \n",
      "GDP                                         -0.277498           -0.277959   \n",
      "Population                                   0.282529            0.277913   \n",
      "Thinness _1-19_years                         1.000000            0.927913   \n",
      "Thinness_5-9_years                           0.927913            1.000000   \n",
      "Income_composition_of_resources             -0.453679           -0.438484   \n",
      "Schooling                                   -0.491199           -0.472482   \n",
      "\n",
      "                                 Income_composition_of_resources  Schooling  \n",
      "Longitude                                              -0.227682  -0.151183  \n",
      "Latitude                                                0.330439   0.279783  \n",
      "Year                                                    0.122892   0.088732  \n",
      "Life_expectancy                                         0.721083   0.727630  \n",
      "Adult_mortality                                        -0.442203  -0.421171  \n",
      "Infant_deaths                                          -0.134754  -0.214372  \n",
      "Alcohol                                                 0.561074   0.616975  \n",
      "Percentage_expenditure                                  0.402170   0.422088  \n",
      "Hepatitis_B                                             0.184921   0.215182  \n",
      "Measles                                                -0.058277  -0.115660  \n",
      "BMI                                                     0.510505   0.554844  \n",
      "Under-five_deaths                                      -0.148097  -0.226013  \n",
      "Polio                                                   0.314682   0.350147  \n",
      "Total_expenditure                                       0.183653   0.243783  \n",
      "Diphtheria                                              0.343262   0.350398  \n",
      "HIV_AIDS                                               -0.248590  -0.211840  \n",
      "GDP                                                     0.446856   0.467947  \n",
      "Population                                             -0.008132  -0.040312  \n",
      "Thinness _1-19_years                                   -0.453679  -0.491199  \n",
      "Thinness_5-9_years                                     -0.438484  -0.472482  \n",
      "Income_composition_of_resources                         1.000000   0.784741  \n",
      "Schooling                                               0.784741   1.000000  \n",
      "\n",
      "[22 rows x 22 columns]\n"
     ]
    }
   ],
   "source": [
    "print(df.corr())"
   ]
  },
  {
   "cell_type": "markdown",
   "metadata": {
    "id": "UXcFU3_ARz1C"
   },
   "source": [
    "**QUESTION 6**\n",
    "\n",
    "Which seems the most and the least promising values to use as a predictor for life expectancy?\n",
    "\n",
    "- Life_expectancy  -  Adult_mortality\n",
    "- Diphtheria -  HIV_AIDS  -     GDP  - Population\n",
    "- Income_composition_of_resources  - Schooling"
   ]
  },
  {
   "cell_type": "markdown",
   "metadata": {
    "id": "EZlknwdoSgcH"
   },
   "source": [
    "The function scatter of matplotlib allows to plot two values against each other. Here is the documentation about this function:\n",
    "\n",
    "```\n",
    "matplotlib.pyplot.scatter(x, y, s=None, c=None, marker=None, cmap=None, norm=None, vmin=None, vmax=None, alpha=None, linewidths=None, *, edgecolors=None, plotnonfinite=False, data=None, **kwargs)\n",
    "```\n",
    "Parameters:\n",
    "\n",
    "**x, y** float or array-like, shape (n, )\n",
    "\n",
    "The data positions.\n",
    "\n",
    "**s** float or array-like, shape (n, ), optional\n",
    "\n",
    "The marker size in points**2. Default is rcParams['lines.markersize'] ** 2.\n",
    "\n",
    "**c** array-like or list of colors or color, optional\n",
    "\n",
    "The marker colors. Possible values:\n",
    "\n",
    "- A scalar or sequence of n numbers to be mapped to colors using cmap and norm.\n",
    "\n",
    "- A 2D array in which the rows are RGB or RGBA.\n",
    "\n",
    "- A sequence of colors of length n.\n",
    "\n",
    "- A single color format string.\n",
    "\n",
    "**marker** MarkerStyle, default: rcParams (default: 'o')\n",
    "\n",
    "The marker style. marker can be either an instance of the class or the text shorthand for a particular marker. See matplotlib.markers for more information about marker styles.\n",
    "\n",
    "**cmapstr** or Colormap, default: rcParams(default: 'viridis')\n",
    "\n",
    "A Colormap instance or registered colormap name. cmap is only used if c is an array of floats.\n",
    "\n",
    "**norm** Normalize, default: None\n",
    "\n",
    "If c is an array of floats, norm is used to scale the color data, c, in the range 0 to 1, in order to map into the colormap cmap. If None, use the default colors.Normalize.\n",
    "\n",
    "**vmin, vmax** float, default: None\n",
    "\n",
    "vmin and vmax are used in conjunction with the default norm to map the color array c to the colormap cmap. If None, the respective min and max of the color array is used. It is deprecated to use vmin/vmax when norm is given.\n",
    "\n",
    "**alpha** float, default: None\n",
    "\n",
    "The alpha blending value, between 0 (transparent) and 1 (opaque).\n",
    "\n",
    "**linewidths** float or array-like, default: rcParams (default: 1.5)\n",
    "\n",
    "The linewidth of the marker edges. Note: The default edgecolors is 'face'. You may want to change this as well.\n",
    "\n",
    "**edgecolors** {'face', 'none', None} or color or sequence of color, default: rcParams[\"scatter.edgecolors\"] (default: 'face')\n",
    "\n",
    "The edge color of the marker. Possible values:\n",
    "\n",
    "- 'face': The edge color will always be the same as the face color.\n",
    "\n",
    "- 'none': No patch boundary will be drawn.\n",
    "        \n",
    "- A color or sequence of colors.\n",
    "\n",
    "For non-filled markers, edgecolors is ignored. Instead, the color is determined like with 'face', i.e. from c, colors, or facecolors.\n",
    "\n",
    "**plotnonfinite** bool, default: False\n",
    "\n",
    "Whether to plot points with nonfinite c (i.e. inf, -inf or nan). If True the points are drawn with the bad colormap color (see Colormap.set_bad).\n"
   ]
  },
  {
   "cell_type": "markdown",
   "metadata": {
    "id": "oU01fx8SUrrI"
   },
   "source": [
    "**TO CODE 2.4**\n",
    "\n",
    "Plot life expectancy against one of your chosen values."
   ]
  },
  {
   "cell_type": "code",
   "execution_count": 16,
   "metadata": {
    "colab": {
     "base_uri": "https://localhost:8080/",
     "height": 472
    },
    "id": "zlfMZyAM_V5P",
    "outputId": "5024969a-c04e-4fbe-e9a7-0d20f6197b51"
   },
   "outputs": [
    {
     "data": {
      "image/png": "[encoded data removed]",
      "text/plain": [
       "<Figure size 432x288 with 1 Axes>"
      ]
     },
     "metadata": {
      "needs_background": "light"
     },
     "output_type": "display_data"
    }
   ],
   "source": [
    "plt.scatter(\n",
    "    df['Life_expectancy'],\n",
    "    df['Adult_mortality'],\n",
    "    s=20,\n",
    "    c='blue',\n",
    "    marker='o',\n",
    "    cmap=None,\n",
    "    alpha=0.7,\n",
    "    edgecolors='black',\n",
    "    linewidths=1,\n",
    ")\n",
    "plt.xlabel('Life Expectancy')\n",
    "plt.ylabel('Adult Mortality')\n",
    "plt.title('Scatter Plot: Life Expectancy vs. Adult Mortality')\n",
    "plt.show()"
   ]
  },
  {
   "cell_type": "markdown",
   "metadata": {
    "id": "S0LPy8bQU89J"
   },
   "source": [
    "## STEP 3: Simple Linear Regression"
   ]
  },
  {
   "cell_type": "code",
   "execution_count": 17,
   "metadata": {
    "id": "IGQeYPIVVGEj"
   },
   "outputs": [],
   "source": [
    "import numpy as np"
   ]
  },
  {
   "cell_type": "markdown",
   "metadata": {
    "id": "i9YDznMfVJDJ"
   },
   "source": [
    "**TO CODE 3.1**\n",
    "\n",
    "Select the Life Expectancy and the Income composition of resources of Belarus, Madagascar, India and Lithuania. This new Data Frame will be called df_study"
   ]
  },
  {
   "cell_type": "code",
   "execution_count": 18,
   "metadata": {
    "colab": {
     "base_uri": "https://localhost:8080/",
     "height": 1000
    },
    "id": "5qPFHI2bVPxz",
    "outputId": "fa47a1aa-8661-4904-83ed-494679157074"
   },
   "outputs": [
    {
     "data": {
      "text/html": [
       "<div>\n",
       "<style scoped>\n",
       "    .dataframe tbody tr th:only-of-type {\n",
       "        vertical-align: middle;\n",
       "    }\n",
       "\n",
       "    .dataframe tbody tr th {\n",
       "        vertical-align: top;\n",
       "    }\n",
       "\n",
       "    .dataframe thead th {\n",
       "        text-align: right;\n",
       "    }\n",
       "</style>\n",
       "<table border=\"1\" class=\"dataframe\">\n",
       "  <thead>\n",
       "    <tr style=\"text-align: right;\">\n",
       "      <th></th>\n",
       "      <th>Country</th>\n",
       "      <th>Life_expectancy</th>\n",
       "      <th>Income_composition_of_resources</th>\n",
       "    </tr>\n",
       "  </thead>\n",
       "  <tbody>\n",
       "    <tr>\n",
       "      <th>0</th>\n",
       "      <td>Belarus</td>\n",
       "      <td>72.0</td>\n",
       "      <td>0.796</td>\n",
       "    </tr>\n",
       "    <tr>\n",
       "      <th>1</th>\n",
       "      <td>Belarus</td>\n",
       "      <td>71.7</td>\n",
       "      <td>0.796</td>\n",
       "    </tr>\n",
       "    <tr>\n",
       "      <th>2</th>\n",
       "      <td>Belarus</td>\n",
       "      <td>71.9</td>\n",
       "      <td>0.793</td>\n",
       "    </tr>\n",
       "    <tr>\n",
       "      <th>3</th>\n",
       "      <td>Belarus</td>\n",
       "      <td>72.0</td>\n",
       "      <td>0.787</td>\n",
       "    </tr>\n",
       "    <tr>\n",
       "      <th>4</th>\n",
       "      <td>Belarus</td>\n",
       "      <td>73.0</td>\n",
       "      <td>0.780</td>\n",
       "    </tr>\n",
       "    <tr>\n",
       "      <th>5</th>\n",
       "      <td>Belarus</td>\n",
       "      <td>70.0</td>\n",
       "      <td>0.771</td>\n",
       "    </tr>\n",
       "    <tr>\n",
       "      <th>6</th>\n",
       "      <td>Belarus</td>\n",
       "      <td>70.0</td>\n",
       "      <td>0.755</td>\n",
       "    </tr>\n",
       "    <tr>\n",
       "      <th>7</th>\n",
       "      <td>Belarus</td>\n",
       "      <td>69.8</td>\n",
       "      <td>0.739</td>\n",
       "    </tr>\n",
       "    <tr>\n",
       "      <th>8</th>\n",
       "      <td>Belarus</td>\n",
       "      <td>68.9</td>\n",
       "      <td>0.723</td>\n",
       "    </tr>\n",
       "    <tr>\n",
       "      <th>9</th>\n",
       "      <td>Belarus</td>\n",
       "      <td>68.1</td>\n",
       "      <td>0.713</td>\n",
       "    </tr>\n",
       "    <tr>\n",
       "      <th>10</th>\n",
       "      <td>Belarus</td>\n",
       "      <td>68.2</td>\n",
       "      <td>0.703</td>\n",
       "    </tr>\n",
       "    <tr>\n",
       "      <th>11</th>\n",
       "      <td>Belarus</td>\n",
       "      <td>67.7</td>\n",
       "      <td>0.695</td>\n",
       "    </tr>\n",
       "    <tr>\n",
       "      <th>12</th>\n",
       "      <td>Belarus</td>\n",
       "      <td>67.2</td>\n",
       "      <td>0.687</td>\n",
       "    </tr>\n",
       "    <tr>\n",
       "      <th>13</th>\n",
       "      <td>Belarus</td>\n",
       "      <td>67.7</td>\n",
       "      <td>0.681</td>\n",
       "    </tr>\n",
       "    <tr>\n",
       "      <th>14</th>\n",
       "      <td>Belarus</td>\n",
       "      <td>68.0</td>\n",
       "      <td>0.675</td>\n",
       "    </tr>\n",
       "    <tr>\n",
       "      <th>15</th>\n",
       "      <td>India</td>\n",
       "      <td>68.0</td>\n",
       "      <td>0.607</td>\n",
       "    </tr>\n",
       "    <tr>\n",
       "      <th>16</th>\n",
       "      <td>India</td>\n",
       "      <td>67.6</td>\n",
       "      <td>0.599</td>\n",
       "    </tr>\n",
       "    <tr>\n",
       "      <th>17</th>\n",
       "      <td>India</td>\n",
       "      <td>67.3</td>\n",
       "      <td>0.590</td>\n",
       "    </tr>\n",
       "    <tr>\n",
       "      <th>18</th>\n",
       "      <td>India</td>\n",
       "      <td>66.8</td>\n",
       "      <td>0.580</td>\n",
       "    </tr>\n",
       "    <tr>\n",
       "      <th>19</th>\n",
       "      <td>India</td>\n",
       "      <td>66.4</td>\n",
       "      <td>0.569</td>\n",
       "    </tr>\n",
       "    <tr>\n",
       "      <th>20</th>\n",
       "      <td>India</td>\n",
       "      <td>66.0</td>\n",
       "      <td>0.563</td>\n",
       "    </tr>\n",
       "    <tr>\n",
       "      <th>21</th>\n",
       "      <td>India</td>\n",
       "      <td>65.5</td>\n",
       "      <td>0.556</td>\n",
       "    </tr>\n",
       "    <tr>\n",
       "      <th>22</th>\n",
       "      <td>India</td>\n",
       "      <td>65.2</td>\n",
       "      <td>0.546</td>\n",
       "    </tr>\n",
       "    <tr>\n",
       "      <th>23</th>\n",
       "      <td>India</td>\n",
       "      <td>64.8</td>\n",
       "      <td>0.536</td>\n",
       "    </tr>\n",
       "    <tr>\n",
       "      <th>24</th>\n",
       "      <td>India</td>\n",
       "      <td>64.4</td>\n",
       "      <td>0.526</td>\n",
       "    </tr>\n",
       "    <tr>\n",
       "      <th>25</th>\n",
       "      <td>India</td>\n",
       "      <td>64.0</td>\n",
       "      <td>0.518</td>\n",
       "    </tr>\n",
       "    <tr>\n",
       "      <th>26</th>\n",
       "      <td>Lithuania</td>\n",
       "      <td>73.4</td>\n",
       "      <td>0.841</td>\n",
       "    </tr>\n",
       "    <tr>\n",
       "      <th>27</th>\n",
       "      <td>Lithuania</td>\n",
       "      <td>73.0</td>\n",
       "      <td>0.834</td>\n",
       "    </tr>\n",
       "    <tr>\n",
       "      <th>28</th>\n",
       "      <td>Lithuania</td>\n",
       "      <td>73.0</td>\n",
       "      <td>0.830</td>\n",
       "    </tr>\n",
       "    <tr>\n",
       "      <th>29</th>\n",
       "      <td>Lithuania</td>\n",
       "      <td>72.8</td>\n",
       "      <td>0.826</td>\n",
       "    </tr>\n",
       "    <tr>\n",
       "      <th>30</th>\n",
       "      <td>Lithuania</td>\n",
       "      <td>72.4</td>\n",
       "      <td>0.824</td>\n",
       "    </tr>\n",
       "    <tr>\n",
       "      <th>31</th>\n",
       "      <td>Lithuania</td>\n",
       "      <td>72.2</td>\n",
       "      <td>0.825</td>\n",
       "    </tr>\n",
       "    <tr>\n",
       "      <th>32</th>\n",
       "      <td>Lithuania</td>\n",
       "      <td>71.1</td>\n",
       "      <td>0.820</td>\n",
       "    </tr>\n",
       "    <tr>\n",
       "      <th>33</th>\n",
       "      <td>Lithuania</td>\n",
       "      <td>72.0</td>\n",
       "      <td>0.812</td>\n",
       "    </tr>\n",
       "    <tr>\n",
       "      <th>34</th>\n",
       "      <td>Lithuania</td>\n",
       "      <td>76.0</td>\n",
       "      <td>0.807</td>\n",
       "    </tr>\n",
       "    <tr>\n",
       "      <th>35</th>\n",
       "      <td>Lithuania</td>\n",
       "      <td>78.0</td>\n",
       "      <td>0.798</td>\n",
       "    </tr>\n",
       "    <tr>\n",
       "      <th>36</th>\n",
       "      <td>Lithuania</td>\n",
       "      <td>71.6</td>\n",
       "      <td>0.792</td>\n",
       "    </tr>\n",
       "    <tr>\n",
       "      <th>37</th>\n",
       "      <td>Lithuania</td>\n",
       "      <td>71.6</td>\n",
       "      <td>0.780</td>\n",
       "    </tr>\n",
       "    <tr>\n",
       "      <th>38</th>\n",
       "      <td>Lithuania</td>\n",
       "      <td>71.4</td>\n",
       "      <td>0.770</td>\n",
       "    </tr>\n",
       "    <tr>\n",
       "      <th>39</th>\n",
       "      <td>Lithuania</td>\n",
       "      <td>71.2</td>\n",
       "      <td>0.757</td>\n",
       "    </tr>\n",
       "    <tr>\n",
       "      <th>40</th>\n",
       "      <td>Lithuania</td>\n",
       "      <td>71.6</td>\n",
       "      <td>0.745</td>\n",
       "    </tr>\n",
       "    <tr>\n",
       "      <th>41</th>\n",
       "      <td>Madagascar</td>\n",
       "      <td>65.1</td>\n",
       "      <td>0.509</td>\n",
       "    </tr>\n",
       "    <tr>\n",
       "      <th>42</th>\n",
       "      <td>Madagascar</td>\n",
       "      <td>64.7</td>\n",
       "      <td>0.508</td>\n",
       "    </tr>\n",
       "    <tr>\n",
       "      <th>43</th>\n",
       "      <td>Madagascar</td>\n",
       "      <td>64.3</td>\n",
       "      <td>0.506</td>\n",
       "    </tr>\n",
       "    <tr>\n",
       "      <th>44</th>\n",
       "      <td>Madagascar</td>\n",
       "      <td>63.8</td>\n",
       "      <td>0.504</td>\n",
       "    </tr>\n",
       "    <tr>\n",
       "      <th>45</th>\n",
       "      <td>Madagascar</td>\n",
       "      <td>63.3</td>\n",
       "      <td>0.503</td>\n",
       "    </tr>\n",
       "    <tr>\n",
       "      <th>46</th>\n",
       "      <td>Madagascar</td>\n",
       "      <td>62.8</td>\n",
       "      <td>0.500</td>\n",
       "    </tr>\n",
       "    <tr>\n",
       "      <th>47</th>\n",
       "      <td>Madagascar</td>\n",
       "      <td>62.3</td>\n",
       "      <td>0.491</td>\n",
       "    </tr>\n",
       "    <tr>\n",
       "      <th>48</th>\n",
       "      <td>Madagascar</td>\n",
       "      <td>61.9</td>\n",
       "      <td>0.483</td>\n",
       "    </tr>\n",
       "    <tr>\n",
       "      <th>49</th>\n",
       "      <td>Madagascar</td>\n",
       "      <td>61.4</td>\n",
       "      <td>0.478</td>\n",
       "    </tr>\n",
       "    <tr>\n",
       "      <th>50</th>\n",
       "      <td>Madagascar</td>\n",
       "      <td>69.0</td>\n",
       "      <td>0.473</td>\n",
       "    </tr>\n",
       "    <tr>\n",
       "      <th>51</th>\n",
       "      <td>Madagascar</td>\n",
       "      <td>64.0</td>\n",
       "      <td>0.466</td>\n",
       "    </tr>\n",
       "    <tr>\n",
       "      <th>52</th>\n",
       "      <td>Madagascar</td>\n",
       "      <td>59.9</td>\n",
       "      <td>0.457</td>\n",
       "    </tr>\n",
       "    <tr>\n",
       "      <th>53</th>\n",
       "      <td>Madagascar</td>\n",
       "      <td>59.3</td>\n",
       "      <td>0.462</td>\n",
       "    </tr>\n",
       "  </tbody>\n",
       "</table>\n",
       "</div>"
      ],
      "text/plain": [
       "       Country  Life_expectancy  Income_composition_of_resources\n",
       "0      Belarus             72.0                            0.796\n",
       "1      Belarus             71.7                            0.796\n",
       "2      Belarus             71.9                            0.793\n",
       "3      Belarus             72.0                            0.787\n",
       "4      Belarus             73.0                            0.780\n",
       "5      Belarus             70.0                            0.771\n",
       "6      Belarus             70.0                            0.755\n",
       "7      Belarus             69.8                            0.739\n",
       "8      Belarus             68.9                            0.723\n",
       "9      Belarus             68.1                            0.713\n",
       "10     Belarus             68.2                            0.703\n",
       "11     Belarus             67.7                            0.695\n",
       "12     Belarus             67.2                            0.687\n",
       "13     Belarus             67.7                            0.681\n",
       "14     Belarus             68.0                            0.675\n",
       "15       India             68.0                            0.607\n",
       "16       India             67.6                            0.599\n",
       "17       India             67.3                            0.590\n",
       "18       India             66.8                            0.580\n",
       "19       India             66.4                            0.569\n",
       "20       India             66.0                            0.563\n",
       "21       India             65.5                            0.556\n",
       "22       India             65.2                            0.546\n",
       "23       India             64.8                            0.536\n",
       "24       India             64.4                            0.526\n",
       "25       India             64.0                            0.518\n",
       "26   Lithuania             73.4                            0.841\n",
       "27   Lithuania             73.0                            0.834\n",
       "28   Lithuania             73.0                            0.830\n",
       "29   Lithuania             72.8                            0.826\n",
       "30   Lithuania             72.4                            0.824\n",
       "31   Lithuania             72.2                            0.825\n",
       "32   Lithuania             71.1                            0.820\n",
       "33   Lithuania             72.0                            0.812\n",
       "34   Lithuania             76.0                            0.807\n",
       "35   Lithuania             78.0                            0.798\n",
       "36   Lithuania             71.6                            0.792\n",
       "37   Lithuania             71.6                            0.780\n",
       "38   Lithuania             71.4                            0.770\n",
       "39   Lithuania             71.2                            0.757\n",
       "40   Lithuania             71.6                            0.745\n",
       "41  Madagascar             65.1                            0.509\n",
       "42  Madagascar             64.7                            0.508\n",
       "43  Madagascar             64.3                            0.506\n",
       "44  Madagascar             63.8                            0.504\n",
       "45  Madagascar             63.3                            0.503\n",
       "46  Madagascar             62.8                            0.500\n",
       "47  Madagascar             62.3                            0.491\n",
       "48  Madagascar             61.9                            0.483\n",
       "49  Madagascar             61.4                            0.478\n",
       "50  Madagascar             69.0                            0.473\n",
       "51  Madagascar             64.0                            0.466\n",
       "52  Madagascar             59.9                            0.457\n",
       "53  Madagascar             59.3                            0.462"
      ]
     },
     "execution_count": 18,
     "metadata": {},
     "output_type": "execute_result"
    }
   ],
   "source": [
    "# List of countries to select\n",
    "countries_to_select = ['Belarus', 'Madagascar', 'India', 'Lithuania']\n",
    "\n",
    "# Select the rows for the specified countries and columns\n",
    "df_study = df.loc[df['Country'].isin(countries_to_select), ['Country', 'Life_expectancy', 'Income_composition_of_resources']]\n",
    "\n",
    "# Reset the index of the new DataFrame\n",
    "df_study.reset_index(drop=True, inplace=True)\n",
    "df_study"
   ]
  },
  {
   "cell_type": "markdown",
   "metadata": {
    "id": "_PKXxl6KVVx2"
   },
   "source": [
    "**TO CODE 3.2**\n",
    "\n",
    "Implement a simple least square function and apply it on the previous selected data."
   ]
  },
  {
   "cell_type": "code",
   "execution_count": 19,
   "metadata": {
    "id": "JSv6B7r8VeCO"
   },
   "outputs": [],
   "source": [
    "def least_squares(X, Y):\n",
    "    n = len(X)\n",
    "    X_mean = np.mean(X)\n",
    "    Y_mean = np.mean(Y)\n",
    "\n",
    "    numerator = np.sum((X - X_mean) * (Y - Y_mean))\n",
    "    denominator = np.sum((X - X_mean) ** 2)\n",
    "\n",
    "    # Calculate the slope (m) and intercept (b)\n",
    "    w = numerator / denominator\n",
    "    b = Y_mean - w * X_mean\n",
    "\n",
    "    return w, b"
   ]
  },
  {
   "cell_type": "code",
   "execution_count": 20,
   "metadata": {
    "id": "X72AKtQ0_V5R"
   },
   "outputs": [],
   "source": [
    "# On df_study DataFrame\n",
    "X = df_study['Life_expectancy'].values\n",
    "Y = df_study['Income_composition_of_resources'].values\n",
    "\n",
    "w, b = least_squares(X, Y)"
   ]
  },
  {
   "cell_type": "markdown",
   "metadata": {
    "id": "ZvElQdfr_V5S"
   },
   "source": [
    "**TO CODE 3.3**\n",
    "\n",
    "On the same figure, draw the line corresponding to your regression and the data points corres-\n",
    "ponding to df_study"
   ]
  },
  {
   "cell_type": "code",
   "execution_count": 21,
   "metadata": {
    "colab": {
     "base_uri": "https://localhost:8080/",
     "height": 449
    },
    "id": "-LOj9-HL_V5d",
    "outputId": "e7d7ad59-5d96-4858-ac7b-a41533ffc57b"
   },
   "outputs": [
    {
     "data": {
      "image/png": "[encoded data removed]",
      "text/plain": [
       "<Figure size 432x288 with 1 Axes>"
      ]
     },
     "metadata": {
      "needs_background": "light"
     },
     "output_type": "display_data"
    }
   ],
   "source": [
    "# Scatter plot of the data points\n",
    "plt.scatter(X, Y, label='Data')\n",
    "\n",
    "# Plot the regression line\n",
    "regression_line = w * X + b\n",
    "plt.plot(X, regression_line, color='red', label='Regression Line')\n",
    "\n",
    "# Add labels and a legend\n",
    "plt.xlabel('Life Expectancy')\n",
    "plt.ylabel('Income Composition of Resources')\n",
    "plt.legend()\n",
    "\n",
    "# Show the plot\n",
    "plt.show()"
   ]
  },
  {
   "cell_type": "markdown",
   "metadata": {
    "id": "rN969VMTVi7U"
   },
   "source": [
    "**TO CODE 3.4**\n",
    "\n",
    "Now, implement a Gradient Descend function `def gradDescent(x, y, theta, alpha, iters)` where `x` are\n",
    "the covariates, `y` the target value, `theta` the initial weights, `alpha` the learning rate and `iters` the number\n",
    "of gradient descent iterations. Your function should return all intermediary values of `theta` that has been computed as a list."
   ]
  },
  {
   "cell_type": "code",
   "execution_count": 22,
   "metadata": {
    "id": "j2r8IGYSVoL_"
   },
   "outputs": [],
   "source": [
    "def gradient_descent(x, y, theta, alpha, iters):\n",
    "    # Initialize a list to store intermediate theta values\n",
    "    theta_values = [theta.copy()]\n",
    "    m = len(y)  # Number of data points\n",
    "\n",
    "    for _ in range(iters):\n",
    "        # Calculate the predicted values\n",
    "        predictions = np.dot(x, theta)\n",
    "\n",
    "        # Calculate the error (residuals)\n",
    "        errors = predictions - y\n",
    "\n",
    "        # Calculate the gradient of the cost function\n",
    "        gradient = np.dot(x.T, errors) / m\n",
    "\n",
    "        # Update theta using the gradient and learning rate\n",
    "        theta -= alpha * gradient\n",
    "\n",
    "        # Append the updated theta to the list\n",
    "        theta_values.append(theta.copy())\n",
    "\n",
    "    return theta_values\n"
   ]
  },
  {
   "cell_type": "markdown",
   "metadata": {
    "id": "VQpG25CiVzWM"
   },
   "source": [
    "**TO CODE 3.5**\n",
    "\n",
    "Compute the gradient descend on df_study for 1000 iterations with different values of `alpha`. You\n",
    "may initialize `theta` with `theta_0 = 0` and `theta_1 = 1`"
   ]
  },
  {
   "cell_type": "code",
   "execution_count": 23,
   "metadata": {
    "colab": {
     "base_uri": "https://localhost:8080/"
    },
    "id": "UcBnQMNAWDll",
    "outputId": "bd907fb9-e145-4dcd-9ef4-fefc623d68aa"
   },
   "outputs": [
    {
     "name": "stdout",
     "output_type": "stream",
     "text": [
      "Alpha = 1e-06: Final optimized theta = [-0.01432565  0.01909342]\n",
      "Alpha = 1e-05: Final optimized theta = [-0.01450782  0.00996733]\n",
      "Alpha = 0.0001: Final optimized theta = [-0.01499694  0.00997447]\n"
     ]
    }
   ],
   "source": [
    "\n",
    "# Add a bias term to X\n",
    "X = np.column_stack((np.ones_like(X), X))\n",
    "\n",
    "# Initialize theta with theta_0 = 0 and theta_1 = 1 as float values\n",
    "initial_theta = np.array([0.0, 1.0])\n",
    "\n",
    "# List of alpha values to iterate through\n",
    "alpha_values = [1e-06, 1e-05, 1e-04]\n",
    "\n",
    "# Number of gradient descent iterations\n",
    "iterations = 1000\n",
    "\n",
    "# Dictionary to store intermediary theta values for each alpha\n",
    "theta_values_dict = {}\n",
    "\n",
    "# Perform gradient descent for each alpha\n",
    "for alpha in alpha_values:\n",
    "    # Perform gradient descent\n",
    "    theta_values = gradient_descent(X, Y, initial_theta, alpha, iterations)\n",
    "\n",
    "    # Store the theta values in the dictionary\n",
    "    theta_values_dict[alpha] = theta_values\n",
    "\n",
    "# Print the final optimized theta values for each alpha\n",
    "for alpha, theta_values in theta_values_dict.items():\n",
    "    final_theta = theta_values[-1]\n",
    "    print(f\"Alpha = {alpha}: Final optimized theta = {final_theta}\")\n"
   ]
  },
  {
   "cell_type": "markdown",
   "metadata": {
    "id": "AX03byhrWJvJ"
   },
   "source": [
    "**TO CODE 3.6**\n",
    "\n",
    "On the same figure, plot the evolution of theta_0 through the iterations for each different values of\n",
    "alpha you chose. Do the same thing for theta_1."
   ]
  },
  {
   "cell_type": "code",
   "execution_count": 24,
   "metadata": {
    "colab": {
     "base_uri": "https://localhost:8080/",
     "height": 807
    },
    "id": "aqSKwaxEWVoU",
    "outputId": "e9a14e4d-4d55-4b4a-bd40-9f25e9d53271"
   },
   "outputs": [
    {
     "data": {
      "image/png": "[encoded data removed]",
      "text/plain": [
       "<Figure size 720x576 with 2 Axes>"
      ]
     },
     "metadata": {
      "needs_background": "light"
     },
     "output_type": "display_data"
    }
   ],
   "source": [
    "import matplotlib.pyplot as plt\n",
    "\n",
    "# Create subplots for theta_0 and theta_1\n",
    "fig, axes = plt.subplots(2, 1, figsize=(10, 8))\n",
    "\n",
    "# Iterate through each alpha value\n",
    "for alpha, theta_values in theta_values_dict.items():\n",
    "    # Extract theta_0 and theta_1 values for each iteration\n",
    "    theta_0_values = [theta[0] for theta in theta_values]\n",
    "    theta_1_values = [theta[1] for theta in theta_values]\n",
    "\n",
    "    # Plot the evolution of theta_0 for each alpha\n",
    "    axes[0].plot(range(iterations + 1), theta_0_values, label=f'Alpha = {alpha}')\n",
    "    axes[0].set_xlabel('Iterations')\n",
    "    axes[0].set_ylabel('Theta_0')\n",
    "    axes[0].set_title('Evolution of Theta_0 through Iterations')\n",
    "    axes[0].legend()\n",
    "\n",
    "    # Plot the evolution of theta_1 for each alpha\n",
    "    axes[1].plot(range(iterations + 1), theta_1_values, label=f'Alpha = {alpha}')\n",
    "    axes[1].set_xlabel('Iterations')\n",
    "    axes[1].set_ylabel('Theta_1')\n",
    "    axes[1].set_title('Evolution of Theta_1 through Iterations')\n",
    "    axes[1].legend()\n",
    "\n",
    "# Adjust the layout and show the plots\n",
    "plt.tight_layout()\n",
    "plt.show()\n"
   ]
  },
  {
   "cell_type": "markdown",
   "metadata": {
    "id": "5zgsbk04We9F"
   },
   "source": [
    "**Question 7**\n",
    "\n",
    "Discuss on the role of alpha"
   ]
  },
  {
   "cell_type": "markdown",
   "metadata": {
    "id": "iOo29xisWxRo"
   },
   "source": [
    "$R^2$ is the coefficient of determination useful to score a regression against the ground truth data.\n",
    "\n",
    "This coefficient can be computed with a sklearn function:\n",
    "\n",
    "```\n",
    "sklearn.metrics.r2_score(y_true, y_pred, *, sample_weight=None, multioutput='uniform_average')\n",
    "```\n",
    "\n",
    "With:\n",
    "\n",
    "**y_true** array-like of shape (n_samples,) or (n_samples, n_outputs)\n",
    "\n",
    "Ground truth (correct) target values.\n",
    "\n",
    "**y_pred** array-like of shape (n_samples,) or (n_samples, n_outputs)\n",
    "\n",
    "Estimated target values.\n",
    "\n",
    "**sample_weight** array-like of shape (n_samples,), default=None\n",
    "\n",
    "Sample weights.\n",
    "\n",
    "**multioutput** {‘raw_values’, ‘uniform_average’, ‘variance_weighted’}, array-like of shape (n_outputs,) or None, default=’uniform_average’\n",
    "\n",
    "Defines aggregating of multiple output scores. Array-like value defines weights used to average scores. Default is “uniform_average”.\n",
    "\n",
    "- ‘raw_values’: Returns a full set of scores in case of multioutput input.\n",
    "\n",
    "- ‘uniform_average’: Scores of all outputs are averaged with uniform weight.\n",
    "\n",
    "- ‘variance_weighted’: Scores of all outputs are averaged, weighted by the variances of each individual output.\n"
   ]
  },
  {
   "cell_type": "code",
   "execution_count": 25,
   "metadata": {
    "id": "NG9YymF4X5oN"
   },
   "outputs": [],
   "source": [
    "from sklearn.metrics import r2_score\n",
    "from sklearn.linear_model import LinearRegression"
   ]
  },
  {
   "cell_type": "markdown",
   "metadata": {
    "id": "v6G_L1asX9Kp"
   },
   "source": [
    "**TO CODE 3.7**\n",
    "\n",
    "Compute $R^2$ on the regression with df_study"
   ]
  },
  {
   "cell_type": "code",
   "execution_count": 26,
   "metadata": {
    "colab": {
     "base_uri": "https://localhost:8080/"
    },
    "id": "mJr-e5OlYSx7",
    "outputId": "3933238a-c875-4992-a78a-88200ef59c4e"
   },
   "outputs": [
    {
     "name": "stdout",
     "output_type": "stream",
     "text": [
      "R² Score: 0.8466322701522812\n"
     ]
    }
   ],
   "source": [
    "# Extract features (X) and target (Y) from df_study\n",
    "X = df_study['Life_expectancy'].values.reshape(-1, 1)  # Reshape X to a 2D array\n",
    "Y = df_study['Income_composition_of_resources'].values\n",
    "\n",
    "# Initialize and train a linear regression model\n",
    "model = LinearRegression()\n",
    "model.fit(X, Y)\n",
    "\n",
    "# Make predictions using the trained model\n",
    "y_pred = model.predict(X)\n",
    "\n",
    "# Calculate the R² score\n",
    "r_squared = r2_score(Y, y_pred)\n",
    "\n",
    "print(\"R² Score:\", r_squared)"
   ]
  },
  {
   "cell_type": "markdown",
   "metadata": {
    "id": "ypKuUxvNYbW7"
   },
   "source": [
    "**QUESTION 8**\n",
    "\n",
    "Is linear regression suited between the two selected variables?\n",
    "\n",
    "Based on the R² score we obtained (R² Score: 0.8466), it appears that linear regression is reasonably well-suited for modeling the relationship between the two selected variables, \"Life_expectancy\" and \"Income_composition_of_resources.\" An R² score of approximately 0.8466 indicates that the linear regression model explains a significant portion of the variance in the dependent variable (\"Income_composition_of_resources\") based on the independent variable (\"Life_expectancy\")."
   ]
  },
  {
   "cell_type": "markdown",
   "metadata": {
    "id": "gZY_AZShYfsH"
   },
   "source": [
    "**QUESTION 9**\n",
    "\n",
    "If not, what would be the relevant regression between these two variables?\n",
    "\n",
    "Given the relatively high R² score, linear regression seems to provide a reasonable fit for your data."
   ]
  },
  {
   "cell_type": "markdown",
   "metadata": {
    "id": "kIgB-0U2Yj2n"
   },
   "source": [
    "## STEP 4: Multivariate regression"
   ]
  },
  {
   "cell_type": "markdown",
   "metadata": {
    "id": "0yRPMeekYtH6"
   },
   "source": [
    "**TO DO 4.1**\n",
    "\n",
    "Execute the following cells"
   ]
  },
  {
   "cell_type": "code",
   "execution_count": 27,
   "metadata": {
    "id": "G4kPVXiyY4wv"
   },
   "outputs": [],
   "source": [
    "from sklearn.preprocessing import scale\n",
    "from sklearn.model_selection import train_test_split\n",
    "from sklearn.linear_model import Ridge, Lasso\n",
    "from sklearn.metrics import mean_squared_error\n",
    "\n",
    "df_study = df[(df.Country == \"Belarus\") | (df.Country == \"Madagascar\") | (df.Country == \"India\") | (df.Country == \"Lithuania\")]\n",
    "y = df_study.Life_expectancy\n",
    "X = df_study[['Adult_mortality', 'Alcohol', 'Total_expenditure', 'Income_composition_of_resources', 'Schooling', \"HIV_AIDS\"]].to_numpy(dtype='float64')\n",
    "\n",
    "alphas = 10**np.linspace(10,-2,100)*0.5"
   ]
  },
  {
   "cell_type": "code",
   "execution_count": 28,
   "metadata": {
    "colab": {
     "base_uri": "https://localhost:8080/",
     "height": 245
    },
    "id": "6BgdZ1NtZrSX",
    "outputId": "631f6906-70cb-48f0-a759-73cdf418f7ca"
   },
   "outputs": [
    {
     "data": {
      "image/png": "[encoded data removed]",
      "text/plain": [
       "<Figure size 432x288 with 1 Axes>"
      ]
     },
     "metadata": {
      "needs_background": "light"
     },
     "output_type": "display_data"
    }
   ],
   "source": [
    "ridge = Ridge(normalize = True)\n",
    "coefs = []\n",
    "\n",
    "for a in alphas:\n",
    "    ridge.set_params(alpha = a)\n",
    "    ridge.fit(X, y)\n",
    "    coefs.append(ridge.coef_)\n",
    "\n",
    "ax = plt.gca()\n",
    "ax.plot(alphas, coefs)\n",
    "ax.set_xscale('log')\n",
    "plt.axis('tight')\n",
    "plt.xlabel('alpha')\n",
    "plt.ylabel('weights')\n",
    "plt.show()"
   ]
  },
  {
   "cell_type": "markdown",
   "metadata": {
    "id": "nsgqxxl_Y-E7"
   },
   "source": [
    "**QUESTION 10**\n",
    "\n",
    "How do you interpret the plot?"
   ]
  },
  {
   "cell_type": "raw",
   "metadata": {},
   "source": [
    "Here we have a visualization of how the coefficients (weights) of the features change as the regularization parameter (alpha) varies in Ridge regression"
   ]
  },
  {
   "cell_type": "markdown",
   "metadata": {
    "id": "xOY8y0NSZBoA"
   },
   "source": [
    "**QUESTION 11**\n",
    "\n",
    "Is it normal that the l2 diminishes with alpha increasing?\n"
   ]
  },
  {
   "cell_type": "raw",
   "metadata": {},
   "source": [
    "Yes, it is normal for the L2 norm (ridge) of the coefficients to decrease as alpha (the regularization parameter) increases in Ridge regression. Ridge regression adds an L2 regularization term to the linear regression objective function, which is a penalty term based on the square of the L2 norm (Euclidean norm) of the coefficient vector.\n",
    "\n",
    "The L2 regularization term encourages the model to have smaller coefficient values by adding a penalty for having larger coefficients. As you increase the alpha, the strength of this penalty increases, leading to a stronger regularization effect. This, in turn, causes the model to reduce the magnitude of the coefficients, thereby bringing them towards zero.\n",
    "\n",
    "The goal of Ridge Regression is to strike a balance between fitting the data well (by minimizing the mean square error) and preventing overfitting (by preventing the coefficients from becoming too large). Therefore, the L2 norm of the coefficients is expected to decrease as alpha increases."
   ]
  },
  {
   "cell_type": "markdown",
   "metadata": {
    "id": "zXJJ60SvZFb4"
   },
   "source": [
    "**QUESTION 12**\n",
    "\n",
    "Which is the most relevant variable for Ridge? Prove and justify your response in the following cell"
   ]
  },
  {
   "cell_type": "raw",
   "metadata": {},
   "source": [
    "The feature with the highest magnitude coefficient when alpha is small (on the right side of the plot) is considered the most relevant variable in Ridge regression in our case the red one and after the purple because it indicates that this feature has a strong impact on explaining the target variable. It is influential in the absence of strong regularization, and its coefficient remains substantial even when the model has more freedom to fit the data closely."
   ]
  },
  {
   "cell_type": "markdown",
   "metadata": {
    "id": "SxNYtuGgZNh1"
   },
   "source": [
    "**TO DO 4.2**\n",
    "\n",
    "Execute the following cell"
   ]
  },
  {
   "cell_type": "code",
   "execution_count": 29,
   "metadata": {
    "id": "mwNrichRZVrl",
    "outputId": "e592a29c-87ee-4d06-94eb-9401e8e1c5d4"
   },
   "outputs": [
    {
     "data": {
      "image/png": "[encoded data removed]",
      "text/plain": [
       "<Figure size 432x288 with 1 Axes>"
      ]
     },
     "metadata": {
      "needs_background": "light"
     },
     "output_type": "display_data"
    }
   ],
   "source": [
    "lasso = Lasso(normalize = True)\n",
    "coefs = []\n",
    "\n",
    "for a in alphas:\n",
    "    lasso.set_params(alpha = a)\n",
    "    lasso.fit(X, y)\n",
    "    coefs.append(lasso.coef_)\n",
    "\n",
    "ax = plt.gca()\n",
    "ax.plot(alphas, coefs)\n",
    "ax.set_xscale('log')\n",
    "plt.axis('tight')\n",
    "plt.xlabel('alpha')\n",
    "plt.ylabel('weights')\n",
    "plt.show()"
   ]
  },
  {
   "cell_type": "markdown",
   "metadata": {
    "id": "9qbf0s6kZeS9"
   },
   "source": [
    "**QUESTION 13**\n",
    "\n",
    "Which is the most relevant variable for Lasso? Prove and justify your response in the following cell"
   ]
  },
  {
   "cell_type": "raw",
   "metadata": {
    "id": "PalSYxCnaI7z"
   },
   "source": [
    "In this Lasso regression code, we computed the coefficients for each feature as alpha varies. We can identify the most relevant variable by inspecting the plot and look specifically, for the feature with the highest magnitude coefficient that remains non-zero for a wide range of alpha values. In our case the red one."
   ]
  },
  {
   "cell_type": "markdown",
   "metadata": {
    "id": "4qQ40qDgaJau"
   },
   "source": [
    "**QUESTION 14**\n",
    "\n",
    "What is the main difference between Ridge and Lasso regression? For this setup, which is the prefered method to use? Justify your response"
   ]
  },
  {
   "cell_type": "raw",
   "metadata": {
    "id": "Bffq5PqBaN_z"
   },
   "source": [
    "Ridge Regression (L2 Regularization):\n",
    "\n",
    "* Ridge regression adds an L2 regularization term to the linear regression objective function.\n",
    "* L2 regularization penalizes the sum of the squares of the coefficients (weights), leading to a gradual reduction in the magnitudes of the coefficients as alpha increases.\n",
    "* Ridge regression tends to shrink all coefficients towards zero, but they don't become exactly zero. It encourages small but non-zero coefficients.\n",
    "\n",
    "Lasso Regression (L1 Regularization):\n",
    "\n",
    "* Lasso regression adds an L1 regularization term to the linear regression objective function.\n",
    "* L1 regularization penalizes the sum of the absolute values of the coefficients.\n",
    "* Lasso regression has a feature selection property. It can force some coefficients to become exactly zero, effectively removing irrelevant features from the model.\n",
    "\n",
    "\n",
    "\n",
    "**Ridge Regression** \n",
    "is preferred when you believe that most of the features are relevant, but you want to prevent overfitting and reduce the influence of any multicollinearity (high correlation) among the features. Ridge regression is suitable when you don't want to exclude any features entirely and want to maintain all features in the model, albeit with smaller magnitudes.\n",
    "\n",
    "**Lasso Regression**\n",
    "is preferred when you suspect that only a subset of the features is truly relevant, and you want to perform feature selection. Lasso can automatically set some coefficients to zero, effectively removing irrelevant or redundant features from the model. This makes the model simpler and interpretable.\n",
    "\n",
    "\n",
    "In our case, we can see clearly that the red one is the most relevant, then for me, i'll favor *Lasso Regression* over *Ridge Regression*"
   ]
  },
  {
   "cell_type": "markdown",
   "metadata": {
    "id": "rw9twszG_V5l"
   },
   "source": [
    "** TO CODE 4.3 **\n",
    "\n",
    "Following the previous examples, use a sklearn function to compute a multivariable least square method. Compare the coefficients obtained by the different methods."
   ]
  },
  {
   "cell_type": "code",
   "execution_count": 39,
   "metadata": {
    "id": "vZDXQpdN_V5l"
   },
   "outputs": [
    {
     "data": {
      "image/png": "[encoded data removed]",
      "text/plain": [
       "<Figure size 720x432 with 1 Axes>"
      ]
     },
     "metadata": {
      "needs_background": "light"
     },
     "output_type": "display_data"
    }
   ],
   "source": [
    "# Split the data into training and testing sets\n",
    "X_train, X_test, y_train, y_test = train_test_split(X, y, test_size=0.2, random_state=42)\n",
    "\n",
    "# Fit a plain Linear Regression model\n",
    "linear_reg = LinearRegression()\n",
    "linear_reg.fit(X_train, y_train)\n",
    "\n",
    "# Fit a Ridge Regression model\n",
    "ridge_reg = Ridge(alpha=0.01)  # You can adjust the alpha parameter as needed\n",
    "ridge_reg.fit(X_train, y_train)\n",
    "\n",
    "# Fit a Lasso Regression model\n",
    "lasso_reg = Lasso(alpha=0.01)  # You can adjust the alpha parameter as needed\n",
    "lasso_reg.fit(X_train, y_train)\n",
    "\n",
    "# Get the coefficients\n",
    "linear_coeffs = linear_reg.coef_\n",
    "ridge_coeffs = ridge_reg.coef_\n",
    "lasso_coeffs = lasso_reg.coef_\n",
    "\n",
    "# Create a bar plot to compare coefficients\n",
    "labels = X.columns\n",
    "coefficients = [linear_coeffs, ridge_coeffs, lasso_coeffs]\n",
    "methods = ['Linear', 'Ridge', 'Lasso']\n",
    "\n",
    "plt.figure(figsize=(10, 6))\n",
    "for i, method_coeffs in enumerate(coefficients):\n",
    "    plt.bar(np.arange(len(labels)) + i * 0.2, method_coeffs, width=0.2, label=methods[i])\n",
    "\n",
    "plt.xticks(np.arange(len(labels)) + 0.2, labels, rotation=45)\n",
    "plt.xlabel('Features')\n",
    "plt.ylabel('Coefficients')\n",
    "plt.title('Comparison of Coefficients by Regression Method')\n",
    "plt.legend()\n",
    "plt.tight_layout()\n",
    "plt.show()\n"
   ]
  },
  {
   "cell_type": "code",
   "execution_count": 40,
   "metadata": {},
   "outputs": [
    {
     "name": "stdout",
     "output_type": "stream",
     "text": [
      "Linear Regression MSE: 1.9402308628689169\n",
      "Ridge Regression MSE: 1.8089894214480124\n",
      "Lasso Regression MSE: 1.9079877098272364\n"
     ]
    }
   ],
   "source": [
    "from sklearn.metrics import mean_squared_error\n",
    "\n",
    "# Make predictions on the test data\n",
    "linear_preds = linear_reg.predict(X_test)\n",
    "ridge_preds = ridge_reg.predict(X_test)\n",
    "lasso_preds = lasso_reg.predict(X_test)\n",
    "\n",
    "# Calculate Mean Squared Error (MSE) for each method\n",
    "mse_linear = mean_squared_error(y_test, linear_preds)\n",
    "mse_ridge = mean_squared_error(y_test, ridge_preds)\n",
    "mse_lasso = mean_squared_error(y_test, lasso_preds)\n",
    "\n",
    "# Print the MSE values\n",
    "print(\"Linear Regression MSE:\", mse_linear)\n",
    "print(\"Ridge Regression MSE:\", mse_ridge)\n",
    "print(\"Lasso Regression MSE:\", mse_lasso)\n"
   ]
  },
  {
   "cell_type": "markdown",
   "metadata": {
    "id": "A7qWkjsk_V5l"
   },
   "source": [
    "**TO CODE 4.4 **\n",
    "\n",
    "Dealing with too many variables can sometimes be counter-productive and it can be more interesting to remove some features. One way to evaluate the importance of each variable is to compute the f_test whose function is named f_regression in sklearn."
   ]
  },
  {
   "cell_type": "code",
   "execution_count": 42,
   "metadata": {
    "id": "ggGFHaDM_V5m"
   },
   "outputs": [
    {
     "name": "stdout",
     "output_type": "stream",
     "text": [
      "Feature: Income_composition_of_resources, F-Statistic: 287.0543763777732, p-value: 8.047138826467633e-23\n",
      "Feature: Schooling, F-Statistic: 261.50896011401613, p-value: 6.2120499379213e-22\n",
      "Feature: Alcohol, F-Statistic: 125.09281253190987, p-value: 1.8919680465431873e-15\n",
      "Feature: HIV_AIDS, F-Statistic: 106.62272299833975, p-value: 3.395111367295289e-14\n",
      "Feature: Total_expenditure, F-Statistic: 36.72942029995129, p-value: 1.5451127077237152e-07\n",
      "Feature: Adult_mortality, F-Statistic: 3.864442141527441, p-value: 0.05466967340213266\n"
     ]
    }
   ],
   "source": [
    "from sklearn.feature_selection import f_regression\n",
    "\n",
    "# Assuming you have your target variable (y) and feature matrix (X) defined as before\n",
    "\n",
    "# Compute the F-statistic and p-values for each feature\n",
    "f_values, p_values = f_regression(X, y)\n",
    "\n",
    "# Sort the features based on F-statistic (higher is better)\n",
    "sorted_indices = np.argsort(f_values)[::-1]\n",
    "\n",
    "# Print the F-statistic and p-values for each feature, sorted by importance\n",
    "for i in sorted_indices:\n",
    "    print(f\"Feature: {X.columns[i]}, F-Statistic: {f_values[i]}, p-value: {p_values[i]}\")\n"
   ]
  },
  {
   "cell_type": "raw",
   "metadata": {},
   "source": [
    "* f_values: contains the F-statistic values, which represent the significance of each feature in explaining the variance in the target variable.\n",
    "\n",
    "* p_values: contains the p-values associated with each F-statistic, indicating the statistical significance of each feature."
   ]
  },
  {
   "cell_type": "markdown",
   "metadata": {
    "id": "QVElGFcM_V5m"
   },
   "source": [
    "**QUESTION 15**\n",
    "\n",
    "According to the f_test, rank each variable from the least to the most promising. Compare it with the correlation of your subset."
   ]
  },
  {
   "cell_type": "code",
   "execution_count": 52,
   "metadata": {
    "id": "7KPUtJma_V5m"
   },
   "outputs": [
    {
     "name": "stdout",
     "output_type": "stream",
     "text": [
      "F-Test Ranking (Most to Least Promising):\n",
      "1. Income_composition_of_resources (F-Statistic: 287.0543763777732, p-value: 8.047138826467633e-23)\n",
      "2. Schooling (F-Statistic: 261.50896011401613, p-value: 6.2120499379213e-22)\n",
      "3. Alcohol (F-Statistic: 125.09281253190987, p-value: 1.8919680465431873e-15)\n",
      "4. HIV_AIDS (F-Statistic: 106.62272299833975, p-value: 3.395111367295289e-14)\n",
      "5. Total_expenditure (F-Statistic: 36.72942029995129, p-value: 1.5451127077237152e-07)\n",
      "6. Adult_mortality (F-Statistic: 3.864442141527441, p-value: 0.05466967340213266)\n",
      "\n",
      "Correlation Ranking (Most to Least Promising):\n",
      "1. Income_composition_of_resources (Correlation: 0.920126225119293)\n",
      "2. Schooling (Correlation: 0.913310200346119)\n",
      "3. Alcohol (Correlation: 0.8404574106653703)\n",
      "4. HIV_AIDS (Correlation: 0.8198646933246203)\n",
      "5. Total_expenditure (Correlation: 0.6433883828098728)\n",
      "6. Adult_mortality (Correlation: 0.26301206529075233)\n",
      "7. Life_expectancy (Correlation: 1.0)\n"
     ]
    }
   ],
   "source": [
    "# Calculate correlation coefficients with the target variable\n",
    "correlation_scores = df_study[['Income_composition_of_resources', 'Schooling', 'Alcohol', 'HIV_AIDS', 'Total_expenditure', 'Adult_mortality', 'Life_expectancy']].corr()['Life_expectancy'].abs()\n",
    "\n",
    "# Rank variables based on F-test importance (higher F-statistic is better)\n",
    "f_test_ranking = np.argsort(f_values)[::-1]\n",
    "\n",
    "# Rank variables based on correlation (higher absolute correlation is better)\n",
    "correlation_ranking = np.argsort(correlation_scores)[::-1]\n",
    "\n",
    "# Print rankings\n",
    "print(\"F-Test Ranking (Most to Least Promising):\")\n",
    "for i, idx in enumerate(f_test_ranking):\n",
    "    print(f\"{i+1}. {X.columns[idx]} (F-Statistic: {f_values[idx]}, p-value: {p_values[idx]})\")\n",
    "\n",
    "print(\"\\nCorrelation Ranking (Most to Least Promising):\")\n",
    "for i, idx in enumerate(correlation_ranking):\n",
    "    print(f\"{i+1}. {correlation_scores.index[i]} (Correlation: {correlation_scores.iloc[i]})\")"
   ]
  },
  {
   "cell_type": "raw",
   "metadata": {},
   "source": [
    "It's interesting to see that the rankings from both methods are consistent, with the same variables appearing in the same order. This consistency suggests that the F-test and correlation analysis agree on the importance of these variables in explaining the variance in 'Life_expectancy.'"
   ]
  }
 ],
 "metadata": {
  "colab": {
   "provenance": []
  },
  "kernelspec": {
   "display_name": "Python 3 (ipykernel)",
   "language": "python",
   "name": "python3"
  },
  "language_info": {
   "codemirror_mode": {
    "name": "ipython",
    "version": 3
   },
   "file_extension": ".py",
   "mimetype": "text/x-python",
   "name": "python",
   "nbconvert_exporter": "python",
   "pygments_lexer": "ipython3",
   "version": "3.9.7"
  }
 },
 "nbformat": 4,
 "nbformat_minor": 1
}
