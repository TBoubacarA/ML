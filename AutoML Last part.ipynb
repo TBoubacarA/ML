{
  "nbformat": 4,
  "nbformat_minor": 0,
  "metadata": {
    "colab": {
      "provenance": [],
      "gpuType": "T4"
    },
    "kernelspec": {
      "name": "python3",
      "display_name": "Python 3"
    },
    "language_info": {
      "name": "python"
    },
    "accelerator": "GPU"
  },
  "cells": [
    {
      "cell_type": "markdown",
      "source": [
        "### Step 2 : AutoML\n",
        "\n",
        "In this second section, we discuss on the utilisation of AutoMl tools, such as auto-sklearn.\n",
        "If you are using colab or don't have auto-sklearn installed, you may need to run the following cell at first in order to install auto-sklearn. This will require you to restart the runtime (a prompt will invite you to).\n",
        "\n",
        "Restarting the runtime will clear all your variables and imported libraries, so you will need to import them again."
      ],
      "metadata": {
        "id": "OXZZY-WLovOs"
      }
    },
    {
      "cell_type": "code",
      "execution_count": 4,
      "metadata": {
        "colab": {
          "base_uri": "https://localhost:8080/"
        },
        "id": "K6cGpZOTKplo",
        "outputId": "58ed6dc2-2b99-4a5b-bef4-050762eb2a5e"
      },
      "outputs": [
        {
          "output_type": "stream",
          "name": "stdout",
          "text": [
            "\u001b[33mWARNING: Skipping Cython as it is not installed.\u001b[0m\u001b[33m\n",
            "\u001b[0m\u001b[33mWARNING: Skipping scipy as it is not installed.\u001b[0m\u001b[33m\n",
            "\u001b[0m\u001b[33mWARNING: Skipping pyparsing as it is not installed.\u001b[0m\u001b[33m\n",
            "\u001b[0m\u001b[33mWARNING: Skipping scikit_learn as it is not installed.\u001b[0m\u001b[33m\n",
            "\u001b[0m\u001b[33mWARNING: Skipping imbalanced-learn as it is not installed.\u001b[0m\u001b[33m\n",
            "\u001b[0m\u001b[33mWARNING: Skipping mlxtend as it is not installed.\u001b[0m\u001b[33m\n",
            "\u001b[0m\u001b[33mWARNING: Skipping yellowbrick as it is not installed.\u001b[0m\u001b[33m\n",
            "\u001b[0m"
          ]
        }
      ],
      "source": [
        "# 1. uninstall all affected packages\n",
        "!pip uninstall -y Cython scipy pyparsing scikit_learn imbalanced-learn mlxtend yellowbrick"
      ]
    },
    {
      "cell_type": "code",
      "source": [
        "# 2. install packages to be downgraded\n",
        "!pip install Cython==0.29.36 scipy==1.9 pyparsing==2.4"
      ],
      "metadata": {
        "colab": {
          "base_uri": "https://localhost:8080/"
        },
        "id": "0hDl5Z85Kqy5",
        "outputId": "20b3b275-89ec-441d-bbb6-dff4b3d1e76d"
      },
      "execution_count": 1,
      "outputs": [
        {
          "output_type": "stream",
          "name": "stdout",
          "text": [
            "Requirement already satisfied: Cython==0.29.36 in /usr/local/lib/python3.10/dist-packages (0.29.36)\n",
            "Requirement already satisfied: scipy==1.9 in /usr/local/lib/python3.10/dist-packages (1.9.0)\n",
            "Requirement already satisfied: pyparsing==2.4 in /usr/local/lib/python3.10/dist-packages (2.4.0)\n",
            "Requirement already satisfied: numpy<1.25.0,>=1.18.5 in /usr/local/lib/python3.10/dist-packages (from scipy==1.9) (1.23.5)\n"
          ]
        }
      ]
    },
    {
      "cell_type": "code",
      "source": [
        "# 3. install older scikit-learn disregarding its dependencies\n",
        "!pip install scikit-learn==0.24.2 --no-build-isolation"
      ],
      "metadata": {
        "colab": {
          "base_uri": "https://localhost:8080/"
        },
        "id": "KsLmO7jsLo1_",
        "outputId": "5a49787c-85ff-474a-a4e6-97faeebb31c9"
      },
      "execution_count": 2,
      "outputs": [
        {
          "output_type": "stream",
          "name": "stdout",
          "text": [
            "Collecting scikit-learn==0.24.2\n",
            "  Using cached scikit-learn-0.24.2.tar.gz (7.5 MB)\n",
            "  Preparing metadata (pyproject.toml) ... \u001b[?25l\u001b[?25hdone\n",
            "Requirement already satisfied: numpy>=1.13.3 in /usr/local/lib/python3.10/dist-packages (from scikit-learn==0.24.2) (1.23.5)\n",
            "Requirement already satisfied: scipy>=0.19.1 in /usr/local/lib/python3.10/dist-packages (from scikit-learn==0.24.2) (1.9.0)\n",
            "Requirement already satisfied: joblib>=0.11 in /usr/local/lib/python3.10/dist-packages (from scikit-learn==0.24.2) (1.3.2)\n",
            "Requirement already satisfied: threadpoolctl>=2.0.0 in /usr/local/lib/python3.10/dist-packages (from scikit-learn==0.24.2) (3.2.0)\n",
            "Building wheels for collected packages: scikit-learn\n",
            "  Building wheel for scikit-learn (pyproject.toml) ... \u001b[?25l\u001b[?25hdone\n",
            "  Created wheel for scikit-learn: filename=scikit_learn-0.24.2-cp310-cp310-linux_x86_64.whl size=22231958 sha256=55b8706cd1ab64f6511b77a577db34968826a818a5feb51058f973dc59cb05c0\n",
            "  Stored in directory: /root/.cache/pip/wheels/13/a4/68/4e78865652fa14db4a162b491e5138565f97646f9e1f2ab8cc\n",
            "Successfully built scikit-learn\n",
            "Installing collected packages: scikit-learn\n",
            "  Attempting uninstall: scikit-learn\n",
            "    Found existing installation: scikit-learn 1.2.2\n",
            "    Uninstalling scikit-learn-1.2.2:\n",
            "      Successfully uninstalled scikit-learn-1.2.2\n",
            "\u001b[31mERROR: pip's dependency resolver does not currently take into account all the packages that are installed. This behaviour is the source of the following dependency conflicts.\n",
            "bigframes 0.13.0 requires scikit-learn>=1.2.2, but you have scikit-learn 0.24.2 which is incompatible.\n",
            "imbalanced-learn 0.10.1 requires scikit-learn>=1.0.2, but you have scikit-learn 0.24.2 which is incompatible.\n",
            "mlxtend 0.22.0 requires scikit-learn>=1.0.2, but you have scikit-learn 0.24.2 which is incompatible.\n",
            "yellowbrick 1.5 requires scikit-learn>=1.0.0, but you have scikit-learn 0.24.2 which is incompatible.\u001b[0m\u001b[31m\n",
            "\u001b[0mSuccessfully installed scikit-learn-0.24.2\n"
          ]
        }
      ]
    },
    {
      "cell_type": "code",
      "source": [
        "# 4. finally install auto-sklearn\n",
        "!pip install auto-sklearn"
      ],
      "metadata": {
        "colab": {
          "base_uri": "https://localhost:8080/"
        },
        "id": "pdDl-sDRMzzV",
        "outputId": "5d87a3c8-e6d6-4e21-eb88-7faa64cbf027"
      },
      "execution_count": 3,
      "outputs": [
        {
          "output_type": "stream",
          "name": "stdout",
          "text": [
            "Collecting auto-sklearn\n",
            "  Downloading auto-sklearn-0.15.0.tar.gz (6.5 MB)\n",
            "\u001b[2K     \u001b[90m━━━━━━━━━━━━━━━━━━━━━━━━━━━━━━━━━━━━━━━━\u001b[0m \u001b[32m6.5/6.5 MB\u001b[0m \u001b[31m28.9 MB/s\u001b[0m eta \u001b[36m0:00:00\u001b[0m\n",
            "\u001b[?25h  Installing build dependencies ... \u001b[?25l\u001b[?25hdone\n",
            "  Getting requirements to build wheel ... \u001b[?25l\u001b[?25hdone\n",
            "  Preparing metadata (pyproject.toml) ... \u001b[?25l\u001b[?25hdone\n",
            "Requirement already satisfied: setuptools in /usr/local/lib/python3.10/dist-packages (from auto-sklearn) (67.7.2)\n",
            "Requirement already satisfied: typing-extensions in /usr/local/lib/python3.10/dist-packages (from auto-sklearn) (4.5.0)\n",
            "Requirement already satisfied: distro in /usr/lib/python3/dist-packages (from auto-sklearn) (1.7.0)\n",
            "Requirement already satisfied: numpy>=1.9.0 in /usr/local/lib/python3.10/dist-packages (from auto-sklearn) (1.23.5)\n",
            "Requirement already satisfied: scipy>=1.7.0 in /usr/local/lib/python3.10/dist-packages (from auto-sklearn) (1.9.0)\n",
            "Requirement already satisfied: joblib in /usr/local/lib/python3.10/dist-packages (from auto-sklearn) (1.3.2)\n",
            "Requirement already satisfied: scikit-learn<0.25.0,>=0.24.0 in /usr/local/lib/python3.10/dist-packages (from auto-sklearn) (0.24.2)\n",
            "Requirement already satisfied: dask>=2021.12 in /usr/local/lib/python3.10/dist-packages (from auto-sklearn) (2023.8.1)\n",
            "Requirement already satisfied: distributed>=2012.12 in /usr/local/lib/python3.10/dist-packages (from auto-sklearn) (2023.8.1)\n",
            "Requirement already satisfied: pyyaml in /usr/local/lib/python3.10/dist-packages (from auto-sklearn) (6.0.1)\n",
            "Requirement already satisfied: pandas>=1.0 in /usr/local/lib/python3.10/dist-packages (from auto-sklearn) (1.5.3)\n",
            "Collecting liac-arff (from auto-sklearn)\n",
            "  Downloading liac-arff-2.5.0.tar.gz (13 kB)\n",
            "  Preparing metadata (setup.py) ... \u001b[?25l\u001b[?25hdone\n",
            "Requirement already satisfied: threadpoolctl in /usr/local/lib/python3.10/dist-packages (from auto-sklearn) (3.2.0)\n",
            "Collecting ConfigSpace<0.5,>=0.4.21 (from auto-sklearn)\n",
            "  Downloading ConfigSpace-0.4.21-cp310-cp310-manylinux_2_17_x86_64.manylinux2014_x86_64.whl (4.8 MB)\n",
            "\u001b[2K     \u001b[90m━━━━━━━━━━━━━━━━━━━━━━━━━━━━━━━━━━━━━━━━\u001b[0m \u001b[32m4.8/4.8 MB\u001b[0m \u001b[31m10.2 MB/s\u001b[0m eta \u001b[36m0:00:00\u001b[0m\n",
            "\u001b[?25hCollecting pynisher<0.7,>=0.6.3 (from auto-sklearn)\n",
            "  Downloading pynisher-0.6.4.tar.gz (11 kB)\n",
            "  Preparing metadata (setup.py) ... \u001b[?25l\u001b[?25hdone\n",
            "Collecting pyrfr<0.9,>=0.8.1 (from auto-sklearn)\n",
            "  Downloading pyrfr-0.8.3-cp310-cp310-manylinux_2_17_x86_64.manylinux2014_x86_64.whl (4.5 MB)\n",
            "\u001b[2K     \u001b[90m━━━━━━━━━━━━━━━━━━━━━━━━━━━━━━━━━━━━━━━━\u001b[0m \u001b[32m4.5/4.5 MB\u001b[0m \u001b[31m86.5 MB/s\u001b[0m eta \u001b[36m0:00:00\u001b[0m\n",
            "\u001b[?25hCollecting smac<1.3,>=1.2 (from auto-sklearn)\n",
            "  Downloading smac-1.2.tar.gz (260 kB)\n",
            "\u001b[2K     \u001b[90m━━━━━━━━━━━━━━━━━━━━━━━━━━━━━━━━━━━━━━━━\u001b[0m \u001b[32m260.9/260.9 kB\u001b[0m \u001b[31m33.5 MB/s\u001b[0m eta \u001b[36m0:00:00\u001b[0m\n",
            "\u001b[?25h  Preparing metadata (setup.py) ... \u001b[?25l\u001b[?25hdone\n",
            "Requirement already satisfied: cython in /usr/local/lib/python3.10/dist-packages (from ConfigSpace<0.5,>=0.4.21->auto-sklearn) (0.29.36)\n",
            "Requirement already satisfied: pyparsing in /usr/local/lib/python3.10/dist-packages (from ConfigSpace<0.5,>=0.4.21->auto-sklearn) (2.4.0)\n",
            "Requirement already satisfied: click>=8.0 in /usr/local/lib/python3.10/dist-packages (from dask>=2021.12->auto-sklearn) (8.1.7)\n",
            "Requirement already satisfied: cloudpickle>=1.5.0 in /usr/local/lib/python3.10/dist-packages (from dask>=2021.12->auto-sklearn) (2.2.1)\n",
            "Requirement already satisfied: fsspec>=2021.09.0 in /usr/local/lib/python3.10/dist-packages (from dask>=2021.12->auto-sklearn) (2023.6.0)\n",
            "Requirement already satisfied: packaging>=20.0 in /usr/local/lib/python3.10/dist-packages (from dask>=2021.12->auto-sklearn) (23.2)\n",
            "Requirement already satisfied: partd>=1.2.0 in /usr/local/lib/python3.10/dist-packages (from dask>=2021.12->auto-sklearn) (1.4.1)\n",
            "Requirement already satisfied: toolz>=0.10.0 in /usr/local/lib/python3.10/dist-packages (from dask>=2021.12->auto-sklearn) (0.12.0)\n",
            "Requirement already satisfied: importlib-metadata>=4.13.0 in /usr/local/lib/python3.10/dist-packages (from dask>=2021.12->auto-sklearn) (6.8.0)\n",
            "Requirement already satisfied: jinja2>=2.10.3 in /usr/local/lib/python3.10/dist-packages (from distributed>=2012.12->auto-sklearn) (3.1.2)\n",
            "Requirement already satisfied: locket>=1.0.0 in /usr/local/lib/python3.10/dist-packages (from distributed>=2012.12->auto-sklearn) (1.0.0)\n",
            "Requirement already satisfied: msgpack>=1.0.0 in /usr/local/lib/python3.10/dist-packages (from distributed>=2012.12->auto-sklearn) (1.0.7)\n",
            "Requirement already satisfied: psutil>=5.7.2 in /usr/local/lib/python3.10/dist-packages (from distributed>=2012.12->auto-sklearn) (5.9.5)\n",
            "Requirement already satisfied: sortedcontainers>=2.0.5 in /usr/local/lib/python3.10/dist-packages (from distributed>=2012.12->auto-sklearn) (2.4.0)\n",
            "Requirement already satisfied: tblib>=1.6.0 in /usr/local/lib/python3.10/dist-packages (from distributed>=2012.12->auto-sklearn) (3.0.0)\n",
            "Requirement already satisfied: tornado>=6.0.4 in /usr/local/lib/python3.10/dist-packages (from distributed>=2012.12->auto-sklearn) (6.3.2)\n",
            "Requirement already satisfied: urllib3>=1.24.3 in /usr/local/lib/python3.10/dist-packages (from distributed>=2012.12->auto-sklearn) (2.0.7)\n",
            "Requirement already satisfied: zict>=2.2.0 in /usr/local/lib/python3.10/dist-packages (from distributed>=2012.12->auto-sklearn) (3.0.0)\n",
            "Requirement already satisfied: python-dateutil>=2.8.1 in /usr/local/lib/python3.10/dist-packages (from pandas>=1.0->auto-sklearn) (2.8.2)\n",
            "Requirement already satisfied: pytz>=2020.1 in /usr/local/lib/python3.10/dist-packages (from pandas>=1.0->auto-sklearn) (2023.3.post1)\n",
            "Collecting emcee>=3.0.0 (from smac<1.3,>=1.2->auto-sklearn)\n",
            "  Downloading emcee-3.1.4-py2.py3-none-any.whl (46 kB)\n",
            "\u001b[2K     \u001b[90m━━━━━━━━━━━━━━━━━━━━━━━━━━━━━━━━━━━━━━━━\u001b[0m \u001b[32m46.2/46.2 kB\u001b[0m \u001b[31m7.3 MB/s\u001b[0m eta \u001b[36m0:00:00\u001b[0m\n",
            "\u001b[?25hRequirement already satisfied: zipp>=0.5 in /usr/local/lib/python3.10/dist-packages (from importlib-metadata>=4.13.0->dask>=2021.12->auto-sklearn) (3.17.0)\n",
            "Requirement already satisfied: MarkupSafe>=2.0 in /usr/local/lib/python3.10/dist-packages (from jinja2>=2.10.3->distributed>=2012.12->auto-sklearn) (2.1.3)\n",
            "Requirement already satisfied: six>=1.5 in /usr/local/lib/python3.10/dist-packages (from python-dateutil>=2.8.1->pandas>=1.0->auto-sklearn) (1.16.0)\n",
            "Building wheels for collected packages: auto-sklearn, pynisher, smac, liac-arff\n",
            "  Building wheel for auto-sklearn (pyproject.toml) ... \u001b[?25l\u001b[?25hdone\n",
            "  Created wheel for auto-sklearn: filename=auto_sklearn-0.15.0-py3-none-any.whl size=6641936 sha256=53d071f9f91058286da751d67fa11a6740f612aed13491072aeae7bc7fcf6313\n",
            "  Stored in directory: /root/.cache/pip/wheels/4d/0a/f9/8c1a06bcc36bc16b467b044b5bb03a90f92a5c5e6cd443414b\n",
            "  Building wheel for pynisher (setup.py) ... \u001b[?25l\u001b[?25hdone\n",
            "  Created wheel for pynisher: filename=pynisher-0.6.4-py3-none-any.whl size=7026 sha256=990556b88f6aeeb7bfef8acafa35358325a9bd297184f0a4b081e815979f9f44\n",
            "  Stored in directory: /root/.cache/pip/wheels/90/7b/53/b21d6b41910f43c7f1557262e579598f83e75e44c659c1bcce\n",
            "  Building wheel for smac (setup.py) ... \u001b[?25l\u001b[?25hdone\n",
            "  Created wheel for smac: filename=smac-1.2-py3-none-any.whl size=215907 sha256=4f50918973c247d40d53d1c794d412357a9f68ce73ab2c011718c2fa14edf89b\n",
            "  Stored in directory: /root/.cache/pip/wheels/66/2e/d9/2db14bdfcdc36bf12e202b44201df03f194367fcfd85ce2778\n",
            "  Building wheel for liac-arff (setup.py) ... \u001b[?25l\u001b[?25hdone\n",
            "  Created wheel for liac-arff: filename=liac_arff-2.5.0-py3-none-any.whl size=11717 sha256=2679b77947d06ba0da92b8f82890f04f67c3723415b6d8341aa2968fd080c917\n",
            "  Stored in directory: /root/.cache/pip/wheels/5d/2a/9c/3895d9617f8f49a0883ba686326d598e78a1c2f54fe3cae86d\n",
            "Successfully built auto-sklearn pynisher smac liac-arff\n",
            "Installing collected packages: pyrfr, pynisher, liac-arff, emcee, ConfigSpace, smac, auto-sklearn\n",
            "Successfully installed ConfigSpace-0.4.21 auto-sklearn-0.15.0 emcee-3.1.4 liac-arff-2.5.0 pynisher-0.6.4 pyrfr-0.8.3 smac-1.2\n"
          ]
        }
      ]
    },
    {
      "cell_type": "code",
      "source": [
        "# 5. then, try loading the package repeatedly until trash in its dependencies are clean\n",
        "import autosklearn"
      ],
      "metadata": {
        "id": "lpXAiJgZNfU7"
      },
      "execution_count": 6,
      "outputs": []
    },
    {
      "cell_type": "code",
      "source": [
        "from sklearn.datasets import fetch_california_housing\n",
        "from sklearn.model_selection import train_test_split\n",
        "X, y = fetch_california_housing(return_X_y = True)\n",
        "X_train, X_test, y_train, y_test = train_test_split(X, y, test_size=0.2, random_state=42)"
      ],
      "metadata": {
        "id": "I1JtOG4jPdgj"
      },
      "execution_count": 7,
      "outputs": []
    },
    {
      "cell_type": "code",
      "source": [
        "import autosklearn.regression\n",
        "import sklearn.model_selection\n",
        "import sklearn.datasets\n",
        "import os, shutil\n",
        "from sklearn.metrics import mean_squared_error, mean_absolute_error\n",
        "\n",
        "automl = autosklearn.regression.AutoSklearnRegressor(\n",
        "    include = {'regressor': [\"libsvm_svr\", \"sgd\"]},\n",
        "    time_left_for_this_task=120,\n",
        "    per_run_time_limit=30,\n",
        "    tmp_folder='/tmp/california_housing_tmp',\n",
        ")\n",
        "automl.fit(X_train, y_train, dataset_name='California_Housing')\n",
        "\n",
        "print(automl.leaderboard())\n",
        "\n",
        "y_pred = automl.predict(X_test, y_test)\n",
        "print(\"MSE = \", mean_squared_error(y_test, y_pred))\n",
        "print(\"MRE = \", mean_absolute_error(y_test, y_pred))"
      ],
      "metadata": {
        "id": "2RD0QuMsQIuM",
        "outputId": "4966a971-2cba-4e10-f71b-ed798503780e",
        "colab": {
          "base_uri": "https://localhost:8080/"
        }
      },
      "execution_count": 8,
      "outputs": [
        {
          "output_type": "stream",
          "name": "stdout",
          "text": [
            "[WARNING] [2023-11-12 15:57:42,071:Client-AutoMLSMBO(1)::California_Housing] Configuration 39 not found\n",
            "[WARNING] [2023-11-12 15:57:42,071:Client-AutoMLSMBO(1)::California_Housing] Configuration 201 not found\n",
            "[WARNING] [2023-11-12 15:57:42,072:Client-AutoMLSMBO(1)::California_Housing] Configuration 207 not found\n",
            "[WARNING] [2023-11-12 15:57:42,072:Client-AutoMLSMBO(1)::California_Housing] Configuration 107 not found\n",
            "[WARNING] [2023-11-12 15:57:42,072:Client-AutoMLSMBO(1)::California_Housing] Configuration 31 not found\n",
            "[WARNING] [2023-11-12 15:57:42,072:Client-AutoMLSMBO(1)::California_Housing] Configuration 102 not found\n",
            "[WARNING] [2023-11-12 15:57:42,072:Client-AutoMLSMBO(1)::California_Housing] Configuration 279 not found\n",
            "[WARNING] [2023-11-12 15:57:42,072:Client-AutoMLSMBO(1)::California_Housing] Configuration 89 not found\n",
            "[WARNING] [2023-11-12 15:57:42,072:Client-AutoMLSMBO(1)::California_Housing] Configuration 156 not found\n",
            "[WARNING] [2023-11-12 15:57:42,072:Client-AutoMLSMBO(1)::California_Housing] Configuration 63 not found\n",
            "[WARNING] [2023-11-12 15:57:42,072:Client-AutoMLSMBO(1)::California_Housing] Configuration 54 not found\n",
            "[WARNING] [2023-11-12 15:57:42,072:Client-AutoMLSMBO(1)::California_Housing] Configuration 274 not found\n",
            "[WARNING] [2023-11-12 15:57:42,072:Client-AutoMLSMBO(1)::California_Housing] Configuration 6 not found\n",
            "[WARNING] [2023-11-12 15:57:42,072:Client-AutoMLSMBO(1)::California_Housing] Configuration 217 not found\n",
            "[WARNING] [2023-11-12 15:57:42,072:Client-AutoMLSMBO(1)::California_Housing] Configuration 182 not found\n",
            "[WARNING] [2023-11-12 15:57:42,072:Client-AutoMLSMBO(1)::California_Housing] Configuration 73 not found\n",
            "[WARNING] [2023-11-12 15:57:42,072:Client-AutoMLSMBO(1)::California_Housing] Configuration 13 not found\n",
            "[WARNING] [2023-11-12 15:57:42,072:Client-AutoMLSMBO(1)::California_Housing] Configuration 199 not found\n",
            "[WARNING] [2023-11-12 15:57:42,072:Client-AutoMLSMBO(1)::California_Housing] Configuration 126 not found\n",
            "[WARNING] [2023-11-12 15:57:42,072:Client-AutoMLSMBO(1)::California_Housing] Configuration 95 not found\n",
            "[WARNING] [2023-11-12 15:57:42,072:Client-AutoMLSMBO(1)::California_Housing] Configuration 225 not found\n",
            "[WARNING] [2023-11-12 15:57:42,072:Client-AutoMLSMBO(1)::California_Housing] Configuration 28 not found\n",
            "[WARNING] [2023-11-12 15:57:42,072:Client-AutoMLSMBO(1)::California_Housing] Configuration 150 not found\n",
            "[WARNING] [2023-11-12 15:57:42,072:Client-AutoMLSMBO(1)::California_Housing] Configuration 66 not found\n",
            "[WARNING] [2023-11-12 15:57:42,073:Client-AutoMLSMBO(1)::California_Housing] Configuration 224 not found\n",
            "[WARNING] [2023-11-12 15:57:42,073:Client-AutoMLSMBO(1)::California_Housing] Configuration 174 not found\n",
            "[WARNING] [2023-11-12 15:57:42,073:Client-AutoMLSMBO(1)::California_Housing] Configuration 160 not found\n",
            "[WARNING] [2023-11-12 15:57:42,073:Client-AutoMLSMBO(1)::California_Housing] Configuration 77 not found\n",
            "[WARNING] [2023-11-12 15:57:42,073:Client-AutoMLSMBO(1)::California_Housing] Configuration 50 not found\n",
            "[WARNING] [2023-11-12 15:57:42,073:Client-AutoMLSMBO(1)::California_Housing] Configuration 115 not found\n",
            "[WARNING] [2023-11-12 15:57:42,073:Client-AutoMLSMBO(1)::California_Housing] Configuration 26 not found\n",
            "[WARNING] [2023-11-12 15:57:42,073:Client-AutoMLSMBO(1)::California_Housing] Configuration 184 not found\n",
            "[WARNING] [2023-11-12 15:57:42,073:Client-AutoMLSMBO(1)::California_Housing] Configuration 10 not found\n",
            "[WARNING] [2023-11-12 15:57:42,073:Client-AutoMLSMBO(1)::California_Housing] Configuration 119 not found\n",
            "[WARNING] [2023-11-12 15:57:42,073:Client-AutoMLSMBO(1)::California_Housing] Configuration 276 not found\n",
            "[WARNING] [2023-11-12 15:57:42,073:Client-AutoMLSMBO(1)::California_Housing] Configuration 40 not found\n",
            "[WARNING] [2023-11-12 15:57:42,073:Client-AutoMLSMBO(1)::California_Housing] Configuration 92 not found\n",
            "[WARNING] [2023-11-12 15:57:42,073:Client-AutoMLSMBO(1)::California_Housing] Configuration 191 not found\n",
            "[WARNING] [2023-11-12 15:57:42,073:Client-AutoMLSMBO(1)::California_Housing] Configuration 158 not found\n",
            "[WARNING] [2023-11-12 15:57:42,073:Client-AutoMLSMBO(1)::California_Housing] Configuration 43 not found\n",
            "[WARNING] [2023-11-12 15:57:42,073:Client-AutoMLSMBO(1)::California_Housing] Configuration 258 not found\n",
            "[WARNING] [2023-11-12 15:57:42,073:Client-AutoMLSMBO(1)::California_Housing] Configuration 193 not found\n",
            "[WARNING] [2023-11-12 15:57:42,073:Client-AutoMLSMBO(1)::California_Housing] Configuration 186 not found\n",
            "[WARNING] [2023-11-12 15:57:42,073:Client-AutoMLSMBO(1)::California_Housing] Configuration 144 not found\n",
            "[WARNING] [2023-11-12 15:57:42,073:Client-AutoMLSMBO(1)::California_Housing] Configuration 2 not found\n",
            "[WARNING] [2023-11-12 15:57:42,073:Client-AutoMLSMBO(1)::California_Housing] Configuration 98 not found\n",
            "[WARNING] [2023-11-12 15:57:42,073:Client-AutoMLSMBO(1)::California_Housing] Configuration 237 not found\n",
            "[WARNING] [2023-11-12 15:57:42,073:Client-AutoMLSMBO(1)::California_Housing] Configuration 262 not found\n",
            "[WARNING] [2023-11-12 15:57:42,074:Client-AutoMLSMBO(1)::California_Housing] Configuration 171 not found\n",
            "[WARNING] [2023-11-12 15:57:42,074:Client-AutoMLSMBO(1)::California_Housing] Configuration 57 not found\n",
            "[WARNING] [2023-11-12 15:57:42,074:Client-AutoMLSMBO(1)::California_Housing] Configuration 176 not found\n",
            "[WARNING] [2023-11-12 15:57:42,074:Client-AutoMLSMBO(1)::California_Housing] Configuration 132 not found\n",
            "[WARNING] [2023-11-12 15:57:42,074:Client-AutoMLSMBO(1)::California_Housing] Configuration 268 not found\n",
            "[WARNING] [2023-11-12 15:57:42,074:Client-AutoMLSMBO(1)::California_Housing] Configuration 105 not found\n",
            "[WARNING] [2023-11-12 15:57:42,074:Client-AutoMLSMBO(1)::California_Housing] Configuration 34 not found\n",
            "[WARNING] [2023-11-12 15:57:42,074:Client-AutoMLSMBO(1)::California_Housing] Configuration 67 not found\n",
            "[WARNING] [2023-11-12 15:57:42,074:Client-AutoMLSMBO(1)::California_Housing] Configuration 70 not found\n",
            "[WARNING] [2023-11-12 15:57:42,074:Client-AutoMLSMBO(1)::California_Housing] Configuration 270 not found\n",
            "[WARNING] [2023-11-12 15:57:42,074:Client-AutoMLSMBO(1)::California_Housing] Configuration 235 not found\n",
            "[WARNING] [2023-11-12 15:57:42,074:Client-AutoMLSMBO(1)::California_Housing] Configuration 163 not found\n",
            "[WARNING] [2023-11-12 15:57:42,074:Client-AutoMLSMBO(1)::California_Housing] Configuration 86 not found\n",
            "[WARNING] [2023-11-12 15:57:42,074:Client-AutoMLSMBO(1)::California_Housing] Configuration 245 not found\n",
            "[WARNING] [2023-11-12 15:57:42,074:Client-AutoMLSMBO(1)::California_Housing] Configuration 266 not found\n",
            "[WARNING] [2023-11-12 15:57:42,074:Client-AutoMLSMBO(1)::California_Housing] Configuration 285 not found\n",
            "[WARNING] [2023-11-12 15:57:42,075:Client-AutoMLSMBO(1)::California_Housing] Configuration 23 not found\n",
            "[WARNING] [2023-11-12 15:57:42,075:Client-AutoMLSMBO(1)::California_Housing] Configuration 124 not found\n",
            "[WARNING] [2023-11-12 15:57:42,075:Client-AutoMLSMBO(1)::California_Housing] Configuration 251 not found\n",
            "[WARNING] [2023-11-12 15:57:42,075:Client-AutoMLSMBO(1)::California_Housing] Configuration 140 not found\n",
            "[WARNING] [2023-11-12 15:57:42,075:Client-AutoMLSMBO(1)::California_Housing] Configuration 240 not found\n",
            "[WARNING] [2023-11-12 15:57:42,075:Client-AutoMLSMBO(1)::California_Housing] Configuration 197 not found\n",
            "[WARNING] [2023-11-12 15:57:42,075:Client-AutoMLSMBO(1)::California_Housing] Configuration 257 not found\n",
            "[WARNING] [2023-11-12 15:57:42,075:Client-AutoMLSMBO(1)::California_Housing] Configuration 128 not found\n",
            "[WARNING] [2023-11-12 15:57:42,075:Client-AutoMLSMBO(1)::California_Housing] Configuration 58 not found\n",
            "[WARNING] [2023-11-12 15:57:42,075:Client-AutoMLSMBO(1)::California_Housing] Configuration 282 not found\n",
            "[WARNING] [2023-11-12 15:57:42,075:Client-AutoMLSMBO(1)::California_Housing] Configuration 48 not found\n",
            "[WARNING] [2023-11-12 15:57:42,075:Client-AutoMLSMBO(1)::California_Housing] Configuration 138 not found\n",
            "[WARNING] [2023-11-12 15:57:42,075:Client-AutoMLSMBO(1)::California_Housing] Configuration 252 not found\n",
            "[WARNING] [2023-11-12 15:57:42,075:Client-AutoMLSMBO(1)::California_Housing] Configuration 101 not found\n",
            "[WARNING] [2023-11-12 15:57:42,076:Client-AutoMLSMBO(1)::California_Housing] Configuration 168 not found\n",
            "[WARNING] [2023-11-12 15:57:42,076:Client-AutoMLSMBO(1)::California_Housing] Configuration 221 not found\n",
            "[WARNING] [2023-11-12 15:57:42,076:Client-AutoMLSMBO(1)::California_Housing] Configuration 148 not found\n",
            "[WARNING] [2023-11-12 15:57:42,076:Client-AutoMLSMBO(1)::California_Housing] Configuration 228 not found\n",
            "[WARNING] [2023-11-12 15:57:42,076:Client-AutoMLSMBO(1)::California_Housing] Configuration 153 not found\n",
            "[WARNING] [2023-11-12 15:57:42,076:Client-AutoMLSMBO(1)::California_Housing] Configuration 136 not found\n",
            "[WARNING] [2023-11-12 15:57:42,076:Client-AutoMLSMBO(1)::California_Housing] Configuration 179 not found\n",
            "[WARNING] [2023-11-12 15:57:42,076:Client-AutoMLSMBO(1)::California_Housing] Configuration 204 not found\n",
            "[WARNING] [2023-11-12 15:57:42,076:Client-AutoMLSMBO(1)::California_Housing] Configuration 110 not found\n",
            "          rank  ensemble_weight        type      cost   duration\n",
            "model_id                                                        \n",
            "2            1              1.0  libsvm_svr  0.276724  16.678274\n",
            "MSE =  0.3761413445696991\n",
            "MRE =  0.41119474886431245\n"
          ]
        }
      ]
    },
    {
      "cell_type": "code",
      "source": [
        "from pprint import pprint\n",
        "pprint(automl.show_models(), indent=4)"
      ],
      "metadata": {
        "id": "slaogKg0QJAh",
        "outputId": "52e62f0e-883a-475a-d02b-7d1489809768",
        "colab": {
          "base_uri": "https://localhost:8080/"
        }
      },
      "execution_count": 9,
      "outputs": [
        {
          "output_type": "stream",
          "name": "stdout",
          "text": [
            "{   2: {   'cost': 0.2767239824457497,\n",
            "           'data_preprocessor': <autosklearn.pipeline.components.data_preprocessing.DataPreprocessorChoice object at 0x7c03291b3af0>,\n",
            "           'ensemble_weight': 1.0,\n",
            "           'feature_preprocessor': <autosklearn.pipeline.components.feature_preprocessing.FeaturePreprocessorChoice object at 0x7c03291b1060>,\n",
            "           'model_id': 2,\n",
            "           'rank': 1,\n",
            "           'regressor': <autosklearn.pipeline.components.regression.RegressorChoice object at 0x7c03291b1e70>,\n",
            "           'sklearn_regressor': SVR(cache_size=1933.5260416666667, gamma=0.1, verbose=0)}}\n"
          ]
        }
      ]
    },
    {
      "cell_type": "markdown",
      "source": [
        "**Question 8**\n",
        "\n",
        "What are the evaluated models by autoML ?\n",
        "Which model obtain the best performance ?\n",
        "What are the parameters of the best model ?"
      ],
      "metadata": {
        "id": "blez9tlgQ_a4"
      }
    },
    {
      "cell_type": "code",
      "source": [
        "# Use dir() to inspect available attributes and methods\n",
        "dir(automl)\n"
      ],
      "metadata": {
        "id": "tmzAs2JPQJZa",
        "outputId": "1a9210ba-fb40-4047-c8a5-b800f651a2d7",
        "colab": {
          "base_uri": "https://localhost:8080/"
        }
      },
      "execution_count": 18,
      "outputs": [
        {
          "output_type": "execute_result",
          "data": {
            "text/plain": [
              "['__class__',\n",
              " '__delattr__',\n",
              " '__dict__',\n",
              " '__dir__',\n",
              " '__doc__',\n",
              " '__eq__',\n",
              " '__format__',\n",
              " '__ge__',\n",
              " '__getattribute__',\n",
              " '__getstate__',\n",
              " '__gt__',\n",
              " '__hash__',\n",
              " '__init__',\n",
              " '__init_subclass__',\n",
              " '__le__',\n",
              " '__lt__',\n",
              " '__module__',\n",
              " '__ne__',\n",
              " '__new__',\n",
              " '__reduce__',\n",
              " '__reduce_ex__',\n",
              " '__repr__',\n",
              " '__setattr__',\n",
              " '__setstate__',\n",
              " '__sizeof__',\n",
              " '__str__',\n",
              " '__subclasshook__',\n",
              " '__weakref__',\n",
              " '_check_n_features',\n",
              " '_estimator_type',\n",
              " '_get_automl_class',\n",
              " '_get_param_names',\n",
              " '_get_tags',\n",
              " '_leaderboard_columns',\n",
              " '_more_tags',\n",
              " '_n_jobs',\n",
              " '_repr_html_',\n",
              " '_repr_html_inner',\n",
              " '_repr_mimebundle_',\n",
              " '_resolve_ensemble_class',\n",
              " '_validate_data',\n",
              " 'allow_string_features',\n",
              " 'automl_',\n",
              " 'build_automl',\n",
              " 'cv_results_',\n",
              " 'dask_client',\n",
              " 'dataset_compression',\n",
              " 'delete_tmp_folder_after_terminate',\n",
              " 'disable_evaluator_output',\n",
              " 'ensemble_class',\n",
              " 'ensemble_kwargs',\n",
              " 'ensemble_nbest',\n",
              " 'ensemble_size',\n",
              " 'exclude',\n",
              " 'fANOVA_input_',\n",
              " 'fit',\n",
              " 'fit_ensemble',\n",
              " 'fit_pipeline',\n",
              " 'get_configuration_space',\n",
              " 'get_models_with_weights',\n",
              " 'get_params',\n",
              " 'get_pareto_set',\n",
              " 'get_smac_object_callback',\n",
              " 'get_trials_callback',\n",
              " 'include',\n",
              " 'initial_configurations_via_metalearning',\n",
              " 'leaderboard',\n",
              " 'load_models',\n",
              " 'logging_config',\n",
              " 'max_models_on_disc',\n",
              " 'memory_limit',\n",
              " 'metadata_directory',\n",
              " 'metric',\n",
              " 'n_jobs',\n",
              " 'per_run_time_limit',\n",
              " 'performance_over_time_',\n",
              " 'predict',\n",
              " 'predict_proba',\n",
              " 'refit',\n",
              " 'resampling_strategy',\n",
              " 'resampling_strategy_arguments',\n",
              " 'score',\n",
              " 'scoring_functions',\n",
              " 'seed',\n",
              " 'set_params',\n",
              " 'show_models',\n",
              " 'smac_scenario_args',\n",
              " 'sprint_statistics',\n",
              " 'time_left_for_this_task',\n",
              " 'tmp_folder',\n",
              " 'trajectory_']"
            ]
          },
          "metadata": {},
          "execution_count": 18
        }
      ]
    },
    {
      "cell_type": "code",
      "source": [
        "# Access the AutoML leaderboard\n",
        "leaderboard = automl.leaderboard()\n",
        "\n",
        "# Check if the leaderboard is not empty\n",
        "if leaderboard is not None:\n",
        "    for rank, model_info in enumerate(leaderboard, start=1):\n",
        "        print(f\"Rank {rank} - Model Info:\")\n",
        "        pprint(model_info, indent=4)\n",
        "        print(\"\\n\" + \"=\"*50 + \"\\n\")\n",
        "else:\n",
        "    print(\"No leaderboard information found.\")\n"
      ],
      "metadata": {
        "id": "qIXMR7l-UC5U",
        "outputId": "13f1b315-86c5-4233-ab77-07d1e7ad0e0f",
        "colab": {
          "base_uri": "https://localhost:8080/"
        }
      },
      "execution_count": 19,
      "outputs": [
        {
          "output_type": "stream",
          "name": "stdout",
          "text": [
            "Rank 1 - Model Info:\n",
            "'rank'\n",
            "\n",
            "==================================================\n",
            "\n",
            "Rank 2 - Model Info:\n",
            "'ensemble_weight'\n",
            "\n",
            "==================================================\n",
            "\n",
            "Rank 3 - Model Info:\n",
            "'type'\n",
            "\n",
            "==================================================\n",
            "\n",
            "Rank 4 - Model Info:\n",
            "'cost'\n",
            "\n",
            "==================================================\n",
            "\n",
            "Rank 5 - Model Info:\n",
            "'duration'\n",
            "\n",
            "==================================================\n",
            "\n"
          ]
        }
      ]
    },
    {
      "cell_type": "code",
      "source": [
        "# Print information about the cross-validation results\n",
        "pprint(automl.cv_results_, indent=4)"
      ],
      "metadata": {
        "id": "SJmN9Tj_UXW8",
        "outputId": "e8b4c3ad-cf84-4b78-e4d8-de5f365fe963",
        "colab": {
          "base_uri": "https://localhost:8080/"
        }
      },
      "execution_count": 22,
      "outputs": [
        {
          "output_type": "stream",
          "name": "stdout",
          "text": [
            "{   'budgets': [0.0, 0.0, 0.0, 0.0],\n",
            "    'mean_fit_time': array([16.67827415, 30.03382158, 30.03564048, 26.03270388]),\n",
            "    'mean_test_score': array([0.72327602, 0.        , 0.        , 0.        ]),\n",
            "    'param_data_preprocessor:__choice__': masked_array(data=['feature_type', 'feature_type', 'feature_type',\n",
            "                   'feature_type'],\n",
            "             mask=[False, False, False, False],\n",
            "       fill_value='N/A',\n",
            "            dtype='<U12'),\n",
            "    'param_data_preprocessor:feature_type:numerical_transformer:imputation:strategy': masked_array(data=['mean', 'median', 'mean', 'most_frequent'],\n",
            "             mask=[False, False, False, False],\n",
            "       fill_value='N/A',\n",
            "            dtype='<U13'),\n",
            "    'param_data_preprocessor:feature_type:numerical_transformer:rescaling:__choice__': masked_array(data=['standardize', 'minmax', 'none', 'minmax'],\n",
            "             mask=[False, False, False, False],\n",
            "       fill_value='N/A',\n",
            "            dtype='<U11'),\n",
            "    'param_data_preprocessor:feature_type:numerical_transformer:rescaling:quantile_transformer:n_quantiles': masked_array(data=[--, --, --, --],\n",
            "             mask=[ True,  True,  True,  True],\n",
            "       fill_value=1e+20,\n",
            "            dtype=float64),\n",
            "    'param_data_preprocessor:feature_type:numerical_transformer:rescaling:quantile_transformer:output_distribution': masked_array(data=[--, --, --, --],\n",
            "             mask=[ True,  True,  True,  True],\n",
            "       fill_value=1e+20,\n",
            "            dtype=float64),\n",
            "    'param_data_preprocessor:feature_type:numerical_transformer:rescaling:robust_scaler:q_max': masked_array(data=[--, --, --, --],\n",
            "             mask=[ True,  True,  True,  True],\n",
            "       fill_value=1e+20,\n",
            "            dtype=float64),\n",
            "    'param_data_preprocessor:feature_type:numerical_transformer:rescaling:robust_scaler:q_min': masked_array(data=[--, --, --, --],\n",
            "             mask=[ True,  True,  True,  True],\n",
            "       fill_value=1e+20,\n",
            "            dtype=float64),\n",
            "    'param_feature_preprocessor:__choice__': masked_array(data=['no_preprocessing', 'polynomial', 'polynomial',\n",
            "                   'fast_ica'],\n",
            "             mask=[False, False, False, False],\n",
            "       fill_value='N/A',\n",
            "            dtype='<U16'),\n",
            "    'param_feature_preprocessor:extra_trees_preproc_for_regression:bootstrap': masked_array(data=[--, --, --, --],\n",
            "             mask=[ True,  True,  True,  True],\n",
            "       fill_value=1e+20,\n",
            "            dtype=float64),\n",
            "    'param_feature_preprocessor:extra_trees_preproc_for_regression:criterion': masked_array(data=[--, --, --, --],\n",
            "             mask=[ True,  True,  True,  True],\n",
            "       fill_value=1e+20,\n",
            "            dtype=float64),\n",
            "    'param_feature_preprocessor:extra_trees_preproc_for_regression:max_depth': masked_array(data=[--, --, --, --],\n",
            "             mask=[ True,  True,  True,  True],\n",
            "       fill_value=1e+20,\n",
            "            dtype=float64),\n",
            "    'param_feature_preprocessor:extra_trees_preproc_for_regression:max_features': masked_array(data=[--, --, --, --],\n",
            "             mask=[ True,  True,  True,  True],\n",
            "       fill_value=1e+20,\n",
            "            dtype=float64),\n",
            "    'param_feature_preprocessor:extra_trees_preproc_for_regression:max_leaf_nodes': masked_array(data=[--, --, --, --],\n",
            "             mask=[ True,  True,  True,  True],\n",
            "       fill_value=1e+20,\n",
            "            dtype=float64),\n",
            "    'param_feature_preprocessor:extra_trees_preproc_for_regression:min_samples_leaf': masked_array(data=[--, --, --, --],\n",
            "             mask=[ True,  True,  True,  True],\n",
            "       fill_value=1e+20,\n",
            "            dtype=float64),\n",
            "    'param_feature_preprocessor:extra_trees_preproc_for_regression:min_samples_split': masked_array(data=[--, --, --, --],\n",
            "             mask=[ True,  True,  True,  True],\n",
            "       fill_value=1e+20,\n",
            "            dtype=float64),\n",
            "    'param_feature_preprocessor:extra_trees_preproc_for_regression:min_weight_fraction_leaf': masked_array(data=[--, --, --, --],\n",
            "             mask=[ True,  True,  True,  True],\n",
            "       fill_value=1e+20,\n",
            "            dtype=float64),\n",
            "    'param_feature_preprocessor:extra_trees_preproc_for_regression:n_estimators': masked_array(data=[--, --, --, --],\n",
            "             mask=[ True,  True,  True,  True],\n",
            "       fill_value=1e+20,\n",
            "            dtype=float64),\n",
            "    'param_feature_preprocessor:fast_ica:algorithm': masked_array(data=[--, --, --, 'deflation'],\n",
            "             mask=[ True,  True,  True, False],\n",
            "       fill_value='N/A',\n",
            "            dtype='<U32'),\n",
            "    'param_feature_preprocessor:fast_ica:fun': masked_array(data=[--, --, --, 'logcosh'],\n",
            "             mask=[ True,  True,  True, False],\n",
            "       fill_value='N/A',\n",
            "            dtype='<U32'),\n",
            "    'param_feature_preprocessor:fast_ica:n_components': masked_array(data=[--, --, --, --],\n",
            "             mask=[ True,  True,  True,  True],\n",
            "       fill_value=1e+20,\n",
            "            dtype=float64),\n",
            "    'param_feature_preprocessor:fast_ica:whiten': masked_array(data=[--, --, --, 'False'],\n",
            "             mask=[ True,  True,  True, False],\n",
            "       fill_value='N/A',\n",
            "            dtype='<U32'),\n",
            "    'param_feature_preprocessor:feature_agglomeration:affinity': masked_array(data=[--, --, --, --],\n",
            "             mask=[ True,  True,  True,  True],\n",
            "       fill_value=1e+20,\n",
            "            dtype=float64),\n",
            "    'param_feature_preprocessor:feature_agglomeration:linkage': masked_array(data=[--, --, --, --],\n",
            "             mask=[ True,  True,  True,  True],\n",
            "       fill_value=1e+20,\n",
            "            dtype=float64),\n",
            "    'param_feature_preprocessor:feature_agglomeration:n_clusters': masked_array(data=[--, --, --, --],\n",
            "             mask=[ True,  True,  True,  True],\n",
            "       fill_value=1e+20,\n",
            "            dtype=float64),\n",
            "    'param_feature_preprocessor:feature_agglomeration:pooling_func': masked_array(data=[--, --, --, --],\n",
            "             mask=[ True,  True,  True,  True],\n",
            "       fill_value=1e+20,\n",
            "            dtype=float64),\n",
            "    'param_feature_preprocessor:kernel_pca:coef0': masked_array(data=[--, --, --, --],\n",
            "             mask=[ True,  True,  True,  True],\n",
            "       fill_value=1e+20,\n",
            "            dtype=float64),\n",
            "    'param_feature_preprocessor:kernel_pca:degree': masked_array(data=[--, --, --, --],\n",
            "             mask=[ True,  True,  True,  True],\n",
            "       fill_value=1e+20,\n",
            "            dtype=float64),\n",
            "    'param_feature_preprocessor:kernel_pca:gamma': masked_array(data=[--, --, --, --],\n",
            "             mask=[ True,  True,  True,  True],\n",
            "       fill_value=1e+20,\n",
            "            dtype=float64),\n",
            "    'param_feature_preprocessor:kernel_pca:kernel': masked_array(data=[--, --, --, --],\n",
            "             mask=[ True,  True,  True,  True],\n",
            "       fill_value=1e+20,\n",
            "            dtype=float64),\n",
            "    'param_feature_preprocessor:kernel_pca:n_components': masked_array(data=[--, --, --, --],\n",
            "             mask=[ True,  True,  True,  True],\n",
            "       fill_value=1e+20,\n",
            "            dtype=float64),\n",
            "    'param_feature_preprocessor:kitchen_sinks:gamma': masked_array(data=[--, --, --, --],\n",
            "             mask=[ True,  True,  True,  True],\n",
            "       fill_value=1e+20,\n",
            "            dtype=float64),\n",
            "    'param_feature_preprocessor:kitchen_sinks:n_components': masked_array(data=[--, --, --, --],\n",
            "             mask=[ True,  True,  True,  True],\n",
            "       fill_value=1e+20,\n",
            "            dtype=float64),\n",
            "    'param_feature_preprocessor:nystroem_sampler:coef0': masked_array(data=[--, --, --, --],\n",
            "             mask=[ True,  True,  True,  True],\n",
            "       fill_value=1e+20,\n",
            "            dtype=float64),\n",
            "    'param_feature_preprocessor:nystroem_sampler:degree': masked_array(data=[--, --, --, --],\n",
            "             mask=[ True,  True,  True,  True],\n",
            "       fill_value=1e+20,\n",
            "            dtype=float64),\n",
            "    'param_feature_preprocessor:nystroem_sampler:gamma': masked_array(data=[--, --, --, --],\n",
            "             mask=[ True,  True,  True,  True],\n",
            "       fill_value=1e+20,\n",
            "            dtype=float64),\n",
            "    'param_feature_preprocessor:nystroem_sampler:kernel': masked_array(data=[--, --, --, --],\n",
            "             mask=[ True,  True,  True,  True],\n",
            "       fill_value=1e+20,\n",
            "            dtype=float64),\n",
            "    'param_feature_preprocessor:nystroem_sampler:n_components': masked_array(data=[--, --, --, --],\n",
            "             mask=[ True,  True,  True,  True],\n",
            "       fill_value=1e+20,\n",
            "            dtype=float64),\n",
            "    'param_feature_preprocessor:pca:keep_variance': masked_array(data=[--, --, --, --],\n",
            "             mask=[ True,  True,  True,  True],\n",
            "       fill_value=1e+20,\n",
            "            dtype=float64),\n",
            "    'param_feature_preprocessor:pca:whiten': masked_array(data=[--, --, --, --],\n",
            "             mask=[ True,  True,  True,  True],\n",
            "       fill_value=1e+20,\n",
            "            dtype=float64),\n",
            "    'param_feature_preprocessor:polynomial:degree': masked_array(data=[--, 2.0, 2.0, --],\n",
            "             mask=[ True, False, False,  True],\n",
            "       fill_value=1e+20),\n",
            "    'param_feature_preprocessor:polynomial:include_bias': masked_array(data=[--, 'True', 'True', --],\n",
            "             mask=[ True, False, False,  True],\n",
            "       fill_value='N/A',\n",
            "            dtype='<U32'),\n",
            "    'param_feature_preprocessor:polynomial:interaction_only': masked_array(data=[--, 'False', 'True', --],\n",
            "             mask=[ True, False, False,  True],\n",
            "       fill_value='N/A',\n",
            "            dtype='<U32'),\n",
            "    'param_feature_preprocessor:random_trees_embedding:bootstrap': masked_array(data=[--, --, --, --],\n",
            "             mask=[ True,  True,  True,  True],\n",
            "       fill_value=1e+20,\n",
            "            dtype=float64),\n",
            "    'param_feature_preprocessor:random_trees_embedding:max_depth': masked_array(data=[--, --, --, --],\n",
            "             mask=[ True,  True,  True,  True],\n",
            "       fill_value=1e+20,\n",
            "            dtype=float64),\n",
            "    'param_feature_preprocessor:random_trees_embedding:max_leaf_nodes': masked_array(data=[--, --, --, --],\n",
            "             mask=[ True,  True,  True,  True],\n",
            "       fill_value=1e+20,\n",
            "            dtype=float64),\n",
            "    'param_feature_preprocessor:random_trees_embedding:min_samples_leaf': masked_array(data=[--, --, --, --],\n",
            "             mask=[ True,  True,  True,  True],\n",
            "       fill_value=1e+20,\n",
            "            dtype=float64),\n",
            "    'param_feature_preprocessor:random_trees_embedding:min_samples_split': masked_array(data=[--, --, --, --],\n",
            "             mask=[ True,  True,  True,  True],\n",
            "       fill_value=1e+20,\n",
            "            dtype=float64),\n",
            "    'param_feature_preprocessor:random_trees_embedding:min_weight_fraction_leaf': masked_array(data=[--, --, --, --],\n",
            "             mask=[ True,  True,  True,  True],\n",
            "       fill_value=1e+20,\n",
            "            dtype=float64),\n",
            "    'param_feature_preprocessor:random_trees_embedding:n_estimators': masked_array(data=[--, --, --, --],\n",
            "             mask=[ True,  True,  True,  True],\n",
            "       fill_value=1e+20,\n",
            "            dtype=float64),\n",
            "    'param_feature_preprocessor:select_percentile_regression:percentile': masked_array(data=[--, --, --, --],\n",
            "             mask=[ True,  True,  True,  True],\n",
            "       fill_value=1e+20,\n",
            "            dtype=float64),\n",
            "    'param_feature_preprocessor:select_percentile_regression:score_func': masked_array(data=[--, --, --, --],\n",
            "             mask=[ True,  True,  True,  True],\n",
            "       fill_value=1e+20,\n",
            "            dtype=float64),\n",
            "    'param_feature_preprocessor:select_rates_regression:alpha': masked_array(data=[--, --, --, --],\n",
            "             mask=[ True,  True,  True,  True],\n",
            "       fill_value=1e+20,\n",
            "            dtype=float64),\n",
            "    'param_feature_preprocessor:select_rates_regression:mode': masked_array(data=[--, --, --, --],\n",
            "             mask=[ True,  True,  True,  True],\n",
            "       fill_value=1e+20,\n",
            "            dtype=float64),\n",
            "    'param_feature_preprocessor:select_rates_regression:score_func': masked_array(data=[--, --, --, --],\n",
            "             mask=[ True,  True,  True,  True],\n",
            "       fill_value=1e+20,\n",
            "            dtype=float64),\n",
            "    'param_regressor:__choice__': masked_array(data=['libsvm_svr', 'libsvm_svr', 'libsvm_svr', 'libsvm_svr'],\n",
            "             mask=[False, False, False, False],\n",
            "       fill_value='N/A',\n",
            "            dtype='<U10'),\n",
            "    'param_regressor:libsvm_svr:C': masked_array(data=[1.0, 180.22479438529933, 28831.968873651404,\n",
            "                   7277.320824640944],\n",
            "             mask=[False, False, False, False],\n",
            "       fill_value=1e+20),\n",
            "    'param_regressor:libsvm_svr:coef0': masked_array(data=[--, --, 0.39386733846748023, --],\n",
            "             mask=[ True,  True, False,  True],\n",
            "       fill_value=1e+20),\n",
            "    'param_regressor:libsvm_svr:degree': masked_array(data=[--, --, 3.0, --],\n",
            "             mask=[ True,  True, False,  True],\n",
            "       fill_value=1e+20),\n",
            "    'param_regressor:libsvm_svr:epsilon': masked_array(data=[0.1, 0.0012571604901280202, 0.12370783564202235,\n",
            "                   0.0013490872095510865],\n",
            "             mask=[False, False, False, False],\n",
            "       fill_value=1e+20),\n",
            "    'param_regressor:libsvm_svr:gamma': masked_array(data=[0.1, 0.10272820821863678, 0.0026233747431769617,\n",
            "                   0.03233188643981015],\n",
            "             mask=[False, False, False, False],\n",
            "       fill_value=1e+20),\n",
            "    'param_regressor:libsvm_svr:kernel': masked_array(data=['rbf', 'rbf', 'poly', 'rbf'],\n",
            "             mask=[False, False, False, False],\n",
            "       fill_value='N/A',\n",
            "            dtype='<U4'),\n",
            "    'param_regressor:libsvm_svr:max_iter': masked_array(data=[-1, -1, -1, -1],\n",
            "             mask=[False, False, False, False],\n",
            "       fill_value=999999),\n",
            "    'param_regressor:libsvm_svr:shrinking': masked_array(data=['True', 'False', 'True', 'True'],\n",
            "             mask=[False, False, False, False],\n",
            "       fill_value='N/A',\n",
            "            dtype='<U5'),\n",
            "    'param_regressor:libsvm_svr:tol': masked_array(data=[0.001, 0.02945259690926852, 4.714268123196739e-05,\n",
            "                   0.0034607903098849255],\n",
            "             mask=[False, False, False, False],\n",
            "       fill_value=1e+20),\n",
            "    'param_regressor:sgd:alpha': masked_array(data=[--, --, --, --],\n",
            "             mask=[ True,  True,  True,  True],\n",
            "       fill_value=1e+20,\n",
            "            dtype=float64),\n",
            "    'param_regressor:sgd:average': masked_array(data=[--, --, --, --],\n",
            "             mask=[ True,  True,  True,  True],\n",
            "       fill_value=1e+20,\n",
            "            dtype=float64),\n",
            "    'param_regressor:sgd:epsilon': masked_array(data=[--, --, --, --],\n",
            "             mask=[ True,  True,  True,  True],\n",
            "       fill_value=1e+20,\n",
            "            dtype=float64),\n",
            "    'param_regressor:sgd:eta0': masked_array(data=[--, --, --, --],\n",
            "             mask=[ True,  True,  True,  True],\n",
            "       fill_value=1e+20,\n",
            "            dtype=float64),\n",
            "    'param_regressor:sgd:fit_intercept': masked_array(data=[--, --, --, --],\n",
            "             mask=[ True,  True,  True,  True],\n",
            "       fill_value=1e+20,\n",
            "            dtype=float64),\n",
            "    'param_regressor:sgd:l1_ratio': masked_array(data=[--, --, --, --],\n",
            "             mask=[ True,  True,  True,  True],\n",
            "       fill_value=1e+20,\n",
            "            dtype=float64),\n",
            "    'param_regressor:sgd:learning_rate': masked_array(data=[--, --, --, --],\n",
            "             mask=[ True,  True,  True,  True],\n",
            "       fill_value=1e+20,\n",
            "            dtype=float64),\n",
            "    'param_regressor:sgd:loss': masked_array(data=[--, --, --, --],\n",
            "             mask=[ True,  True,  True,  True],\n",
            "       fill_value=1e+20,\n",
            "            dtype=float64),\n",
            "    'param_regressor:sgd:penalty': masked_array(data=[--, --, --, --],\n",
            "             mask=[ True,  True,  True,  True],\n",
            "       fill_value=1e+20,\n",
            "            dtype=float64),\n",
            "    'param_regressor:sgd:power_t': masked_array(data=[--, --, --, --],\n",
            "             mask=[ True,  True,  True,  True],\n",
            "       fill_value=1e+20,\n",
            "            dtype=float64),\n",
            "    'param_regressor:sgd:tol': masked_array(data=[--, --, --, --],\n",
            "             mask=[ True,  True,  True,  True],\n",
            "       fill_value=1e+20,\n",
            "            dtype=float64),\n",
            "    'params': [   {   'data_preprocessor:__choice__': 'feature_type',\n",
            "                      'data_preprocessor:feature_type:numerical_transformer:imputation:strategy': 'mean',\n",
            "                      'data_preprocessor:feature_type:numerical_transformer:rescaling:__choice__': 'standardize',\n",
            "                      'feature_preprocessor:__choice__': 'no_preprocessing',\n",
            "                      'regressor:__choice__': 'libsvm_svr',\n",
            "                      'regressor:libsvm_svr:C': 1.0,\n",
            "                      'regressor:libsvm_svr:epsilon': 0.1,\n",
            "                      'regressor:libsvm_svr:gamma': 0.1,\n",
            "                      'regressor:libsvm_svr:kernel': 'rbf',\n",
            "                      'regressor:libsvm_svr:max_iter': -1,\n",
            "                      'regressor:libsvm_svr:shrinking': 'True',\n",
            "                      'regressor:libsvm_svr:tol': 0.001},\n",
            "                  {   'data_preprocessor:__choice__': 'feature_type',\n",
            "                      'data_preprocessor:feature_type:numerical_transformer:imputation:strategy': 'median',\n",
            "                      'data_preprocessor:feature_type:numerical_transformer:rescaling:__choice__': 'minmax',\n",
            "                      'feature_preprocessor:__choice__': 'polynomial',\n",
            "                      'feature_preprocessor:polynomial:degree': 2,\n",
            "                      'feature_preprocessor:polynomial:include_bias': 'True',\n",
            "                      'feature_preprocessor:polynomial:interaction_only': 'False',\n",
            "                      'regressor:__choice__': 'libsvm_svr',\n",
            "                      'regressor:libsvm_svr:C': 180.22479438529933,\n",
            "                      'regressor:libsvm_svr:epsilon': 0.0012571604901280202,\n",
            "                      'regressor:libsvm_svr:gamma': 0.10272820821863678,\n",
            "                      'regressor:libsvm_svr:kernel': 'rbf',\n",
            "                      'regressor:libsvm_svr:max_iter': -1,\n",
            "                      'regressor:libsvm_svr:shrinking': 'False',\n",
            "                      'regressor:libsvm_svr:tol': 0.02945259690926852},\n",
            "                  {   'data_preprocessor:__choice__': 'feature_type',\n",
            "                      'data_preprocessor:feature_type:numerical_transformer:imputation:strategy': 'mean',\n",
            "                      'data_preprocessor:feature_type:numerical_transformer:rescaling:__choice__': 'none',\n",
            "                      'feature_preprocessor:__choice__': 'polynomial',\n",
            "                      'feature_preprocessor:polynomial:degree': 2,\n",
            "                      'feature_preprocessor:polynomial:include_bias': 'True',\n",
            "                      'feature_preprocessor:polynomial:interaction_only': 'True',\n",
            "                      'regressor:__choice__': 'libsvm_svr',\n",
            "                      'regressor:libsvm_svr:C': 28831.968873651404,\n",
            "                      'regressor:libsvm_svr:coef0': 0.39386733846748023,\n",
            "                      'regressor:libsvm_svr:degree': 3,\n",
            "                      'regressor:libsvm_svr:epsilon': 0.12370783564202235,\n",
            "                      'regressor:libsvm_svr:gamma': 0.0026233747431769617,\n",
            "                      'regressor:libsvm_svr:kernel': 'poly',\n",
            "                      'regressor:libsvm_svr:max_iter': -1,\n",
            "                      'regressor:libsvm_svr:shrinking': 'True',\n",
            "                      'regressor:libsvm_svr:tol': 4.714268123196739e-05},\n",
            "                  {   'data_preprocessor:__choice__': 'feature_type',\n",
            "                      'data_preprocessor:feature_type:numerical_transformer:imputation:strategy': 'most_frequent',\n",
            "                      'data_preprocessor:feature_type:numerical_transformer:rescaling:__choice__': 'minmax',\n",
            "                      'feature_preprocessor:__choice__': 'fast_ica',\n",
            "                      'feature_preprocessor:fast_ica:algorithm': 'deflation',\n",
            "                      'feature_preprocessor:fast_ica:fun': 'logcosh',\n",
            "                      'feature_preprocessor:fast_ica:whiten': 'False',\n",
            "                      'regressor:__choice__': 'libsvm_svr',\n",
            "                      'regressor:libsvm_svr:C': 7277.320824640944,\n",
            "                      'regressor:libsvm_svr:epsilon': 0.0013490872095510865,\n",
            "                      'regressor:libsvm_svr:gamma': 0.03233188643981015,\n",
            "                      'regressor:libsvm_svr:kernel': 'rbf',\n",
            "                      'regressor:libsvm_svr:max_iter': -1,\n",
            "                      'regressor:libsvm_svr:shrinking': 'True',\n",
            "                      'regressor:libsvm_svr:tol': 0.0034607903098849255}],\n",
            "    'rank_test_scores': array([1, 2, 2, 2]),\n",
            "    'status': ['Success', 'Timeout', 'Timeout', 'Timeout']}\n"
          ]
        }
      ]
    },
    {
      "cell_type": "markdown",
      "source": [
        "**The top-performing model (Rank 1) is a support vector regression (SVR) with the following parameters:**\n",
        "\n",
        "\n",
        "{\n",
        "  \n",
        "    'data_preprocessor:__choice__': 'feature_type',\n",
        "    'data_preprocessor:feature_type:numerical_transformer:imputation:strategy': 'mean',\n",
        "    'data_preprocessor:feature_type:numerical_transformer:rescaling:__choice__': 'standardize',\n",
        "    'feature_preprocessor:__choice__': 'no_preprocessing',\n",
        "    'regressor:__choice__': 'libsvm_svr',\n",
        "    'regressor:libsvm_svr:C': 1.0,\n",
        "    'regressor:libsvm_svr:epsilon': 0.1,\n",
        "    'regressor:libsvm_svr:gamma': 0.1,\n",
        "    'regressor:libsvm_svr:kernel': 'rbf',\n",
        "    'regressor:libsvm_svr:max_iter': -1,\n",
        "    'regressor:libsvm_svr:shrinking': 'True',\n",
        "    'regressor:libsvm_svr:tol': 0.001\n",
        "}\n"
      ],
      "metadata": {
        "id": "sopg8rsLWUId"
      }
    },
    {
      "cell_type": "markdown",
      "source": [
        "**To code 2.2**\n",
        "\n",
        "With the help of the previous code, use autoML for the classification task on MNIST, by limiting the exploration to KNN and Adaboost."
      ],
      "metadata": {
        "id": "XqM66Ge9bKJK"
      }
    },
    {
      "cell_type": "code",
      "source": [
        "import autosklearn.classification\n",
        "from sklearn.model_selection import train_test_split\n",
        "from sklearn.datasets import fetch_openml\n",
        "from sklearn.metrics import accuracy_score\n",
        "\n",
        "# Load MNIST dataset\n",
        "mnist = fetch_openml('mnist_784')\n",
        "X, y = mnist.data.astype(float), mnist.target.astype(int)\n",
        "\n",
        "# Split the data into training and testing sets\n",
        "X_train, X_test, y_train, y_test = train_test_split(X, y, test_size=0.2, random_state=42)"
      ],
      "metadata": {
        "id": "xmXQ-aq0Qze0"
      },
      "execution_count": 28,
      "outputs": []
    },
    {
      "cell_type": "code",
      "source": [
        "# Create and fit the Auto-sklearn classifier with increased time limit\n",
        "automl_classifier = autosklearn.classification.AutoSklearnClassifier(\n",
        "    time_left_for_this_task=300,  # Set a higher time limit for exploration (in seconds)\n",
        "    per_run_time_limit=30,  # Set the time limit for each model\n",
        "    ensemble_kwargs={'ensemble_size': 1},  # Disable ensembling for simplicity\n",
        "    include={'classifier': ['k_nearest_neighbors', 'adaboost']},  # Limit to KNN and AdaBoost\n",
        "    resampling_strategy='holdout',\n",
        "    resampling_strategy_arguments={'train_size': 0.8},\n",
        "    seed=43,  # Change the seed value\n",
        "    n_jobs=-1,  # Use all available CPU cores\n",
        "    memory_limit=2048,  # Increase memory limit to 2GB per model\n",
        "    delete_tmp_folder_after_terminate=False  # Keep the output folder\n",
        ")\n"
      ],
      "metadata": {
        "id": "Ge32UBPkQz-9"
      },
      "execution_count": 59,
      "outputs": []
    },
    {
      "cell_type": "code",
      "source": [
        "# Fit the Auto-sklearn classifier\n",
        "automl_classifier.fit(X_train, y_train)\n",
        "\n",
        "# Get the predictions on the test set\n",
        "y_pred = automl_classifier.predict(X_test,y_test)\n",
        "\n",
        "# Evaluate the accuracy of the model\n",
        "accuracy = accuracy_score(y_test, y_pred)\n",
        "print(\"MSE = \", mean_squared_error(y_test, y_pred))\n",
        "print(\"MRE = \", mean_absolute_error(y_test, y_pred))\n",
        "print(f'Accuracy: {accuracy}')"
      ],
      "metadata": {
        "id": "Muqol14MaPvn",
        "outputId": "ce105332-a3c5-455a-ab0e-016bd79f4b7e",
        "colab": {
          "base_uri": "https://localhost:8080/"
        }
      },
      "execution_count": 60,
      "outputs": [
        {
          "output_type": "stream",
          "name": "stdout",
          "text": [
            "MSE =  28.452357142857142\n",
            "MRE =  4.481214285714286\n",
            "Accuracy: 0.09592857142857143\n"
          ]
        }
      ]
    },
    {
      "cell_type": "markdown",
      "source": [
        "**Question 9**\n",
        "\n",
        "What are the evaluated models by autoML ?\n",
        "Which model obtain the best performance ?\n",
        "What are the parameters of the best model ?"
      ],
      "metadata": {
        "id": "7rhaPTKviwkc"
      }
    },
    {
      "cell_type": "code",
      "source": [
        "models_with_weights = automl.get_models_with_weights()\n",
        "pprint(models_with_weights, indent=4)"
      ],
      "metadata": {
        "id": "gsyTn2haj-KO",
        "outputId": "0bff6f46-a8c2-4910-8244-abca3ca11a0e",
        "colab": {
          "base_uri": "https://localhost:8080/"
        }
      },
      "execution_count": 61,
      "outputs": [
        {
          "output_type": "stream",
          "name": "stdout",
          "text": [
            "[   (   1.0,\n",
            "        SimpleRegressionPipeline({'data_preprocessor:__choice__': 'feature_type', 'feature_preprocessor:__choice__': 'no_preprocessing', 'regressor:__choice__': 'libsvm_svr', 'data_preprocessor:feature_type:numerical_transformer:imputation:strategy': 'mean', 'data_preprocessor:feature_type:numerical_transformer:rescaling:__choice__': 'standardize', 'regressor:libsvm_svr:C': 1.0, 'regressor:libsvm_svr:epsilon': 0.1, 'regressor:libsvm_svr:kernel': 'rbf', 'regressor:libsvm_svr:max_iter': -1, 'regressor:libsvm_svr:shrinking': 'True', 'regressor:libsvm_svr:tol': 0.001, 'regressor:libsvm_svr:gamma': 0.1},\n",
            "dataset_properties={\n",
            "  'task': 4,\n",
            "  'sparse': False,\n",
            "  'multioutput': False,\n",
            "  'target_type': 'regression',\n",
            "  'signed': False}))]\n"
          ]
        }
      ]
    },
    {
      "cell_type": "markdown",
      "source": [
        "[   \n",
        "\n",
        "    (   \n",
        "        1.0,\n",
        "        SimpleRegressionPipeline({\n",
        "            'data_preprocessor:__choice__': 'feature_type',\n",
        "            'feature_preprocessor:__choice__': 'no_preprocessing',\n",
        "            'regressor:__choice__': 'libsvm_svr',\n",
        "            'data_preprocessor:feature_type:numerical_transformer:imputation:strategy': 'mean',\n",
        "            'data_preprocessor:feature_type:numerical_transformer:rescaling:__choice__': 'standardize',\n",
        "            'regressor:libsvm_svr:C': 1.0,\n",
        "            'regressor:libsvm_svr:epsilon': 0.1,\n",
        "            'regressor:libsvm_svr:kernel': 'rbf',\n",
        "            'regressor:libsvm_svr:max_iter': -1,\n",
        "            'regressor:libsvm_svr:shrinking': 'True',\n",
        "            'regressor:libsvm_svr:tol': 0.001,\n",
        "            'regressor:libsvm_svr:gamma': 0.1\n",
        "        },\n",
        "        dataset_properties={\n",
        "            'task': 4,\n",
        "            'sparse': False,\n",
        "            'multioutput': False,\n",
        "            'target_type': 'regression',\n",
        "            'signed': False\n",
        "        })\n",
        "    )\n",
        "]\n",
        "\n",
        "This output indicates that the autoML framework has chosen a model with a weight of 1.0. The model is a **libsvm_svr** (Support Vector Regressor with a radial basis function kernel). The hyperparameters of this model include C, epsilon, kernel type, maximum iterations, shrinking heuristic, tolerance, and gamma."
      ],
      "metadata": {
        "id": "yaKkK8MRnhbX"
      }
    },
    {
      "cell_type": "markdown",
      "source": [
        "### Bonus step\n",
        "\n",
        "As a bonus step, have fun and remove a maximum of constraints of your autoML model. Which model obtain the best performances ? Describe the parameters of this model. You can do it for either for regression or classification or both."
      ],
      "metadata": {
        "id": "NkqNpkFBizSV"
      }
    },
    {
      "cell_type": "code",
      "source": [
        "# Create and fit the Auto-sklearn classifier with relaxed constraints\n",
        "automl_classifier_relaxed = autosklearn.classification.AutoSklearnClassifier(\n",
        "    time_left_for_this_task=600,  # Increase time limit for exploration\n",
        "    per_run_time_limit=60,  # Set the time limit for each model\n",
        "    resampling_strategy='holdout',\n",
        "    resampling_strategy_arguments={'train_size': 0.8},\n",
        "    seed=42,\n",
        "    n_jobs=-1,  # Use all available CPU cores\n",
        "    memory_limit=4096,  # Increase memory limit to 4GB per model\n",
        "    delete_tmp_folder_after_terminate=False  # Keep the output folder\n",
        ")\n",
        "\n",
        "# Fit the Auto-sklearn classifier with relaxed constraints\n",
        "automl_classifier_relaxed.fit(X_train, y_train)\n",
        "\n",
        "print(automl_classifier_relaxed.leaderboard())\n",
        "\n",
        "y_pred = automl_classifier_relaxed.predict(X_test, y_test)\n",
        "print(\"MSE = \", mean_squared_error(y_test, y_pred))\n",
        "print(\"MRE = \", mean_absolute_error(y_test, y_pred))\n"
      ],
      "metadata": {
        "id": "sz1Xyz8ediAm",
        "outputId": "60e84bf3-b3f7-4277-dc27-d2895610bddb",
        "colab": {
          "base_uri": "https://localhost:8080/"
        }
      },
      "execution_count": 62,
      "outputs": [
        {
          "output_type": "stream",
          "name": "stdout",
          "text": [
            "          rank  ensemble_weight  type  cost duration\n",
            "model_id                                            \n",
            "1            1              1.0  <NA>  <NA>     <NA>\n",
            "MSE =  28.452357142857142\n",
            "MRE =  4.481214285714286\n"
          ]
        }
      ]
    },
    {
      "cell_type": "code",
      "source": [
        "from autosklearn.regression import AutoSklearnRegressor\n",
        "from sklearn.metrics import mean_squared_error, mean_absolute_error\n",
        "import numpy as np\n",
        "\n",
        "# Create and fit the Auto-sklearn regressor with relaxed constraints\n",
        "automl_regressor_relaxed = AutoSklearnRegressor(\n",
        "    time_left_for_this_task=600,  # Increase time limit for exploration\n",
        "    per_run_time_limit=60,  # Set the time limit for each model\n",
        "    resampling_strategy='holdout',\n",
        "    resampling_strategy_arguments={'train_size': 0.8},\n",
        "    seed=42,\n",
        "    n_jobs=-1,  # Use all available CPU cores\n",
        "    memory_limit=4096,  # Increase memory limit to 4GB per model\n",
        "    delete_tmp_folder_after_terminate=False  # Keep the output folder\n",
        ")\n",
        "\n",
        "# Fit the Auto-sklearn regressor with relaxed constraints\n",
        "automl_regressor_relaxed.fit(X_train, y_train)\n",
        "\n",
        "# Display the leaderboard\n",
        "print(automl_regressor_relaxed.show_models())\n",
        "\n",
        "# Make predictions on the test set\n",
        "y_pred = automl_regressor_relaxed.predict(X_test)\n",
        "\n",
        "# Evaluate performance metrics\n",
        "mse = mean_squared_error(y_test, y_pred)\n",
        "mae = mean_absolute_error(y_test, y_pred)\n",
        "\n",
        "print(f'Mean Squared Error (MSE): {mse}')\n",
        "print(f'Mean Absolute Error (MAE): {mae}')\n"
      ],
      "metadata": {
        "id": "XNtOl1iA_qje",
        "outputId": "749c4bdd-3f00-4a08-a1ae-e4b126106665",
        "colab": {
          "base_uri": "https://localhost:8080/"
        }
      },
      "execution_count": 63,
      "outputs": [
        {
          "output_type": "stream",
          "name": "stdout",
          "text": [
            "{22: {'model_id': 22, 'rank': 1, 'cost': 0.19687620045755239, 'ensemble_weight': 1.0, 'data_preprocessor': <autosklearn.pipeline.components.data_preprocessing.DataPreprocessorChoice object at 0x7c02f52cbfd0>, 'feature_preprocessor': <autosklearn.pipeline.components.feature_preprocessing.FeaturePreprocessorChoice object at 0x7c02f52c2bc0>, 'regressor': <autosklearn.pipeline.components.regression.RegressorChoice object at 0x7c02f52c0c40>, 'sklearn_regressor': HistGradientBoostingRegressor(l2_regularization=2.208787572338781e-05,\n",
            "                              learning_rate=0.036087332404571744, max_iter=512,\n",
            "                              max_leaf_nodes=64, min_samples_leaf=3,\n",
            "                              n_iter_no_change=18, random_state=42,\n",
            "                              validation_fraction=None, warm_start=True)}}\n",
            "Mean Squared Error (MSE): 1.6634154478249343\n",
            "Mean Absolute Error (MAE): 0.8322434691619128\n"
          ]
        }
      ]
    }
  ]
}